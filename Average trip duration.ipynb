{
 "cells": [
  {
   "cell_type": "code",
   "execution_count": 11,
   "id": "7ae76b62-eac1-4dbc-b58f-ed319f7f69bf",
   "metadata": {
    "tags": []
   },
   "outputs": [
    {
     "name": "stdout",
     "output_type": "stream",
     "text": [
      "                                   Station Name  Community  \\\n",
      "331                Triangle Car Park, Hyde Park          3   \n",
      "181                 Hyde Park Corner, Hyde Park          3   \n",
      "4                        Albert Gate, Hyde Park          3   \n",
      "336  Victoria & Albert Museum, South Kensington          3   \n",
      "353                  Wellington Arch, Hyde Park          3   \n",
      "\n",
      "     Average Trip Duration (minutes)  \n",
      "331                        20.634118  \n",
      "181                        19.696895  \n",
      "4                          18.910295  \n",
      "336                        18.437003  \n",
      "353                        17.247638  \n"
     ]
    }
   ],
   "source": [
    "import pandas as pd\n",
    "\n",
    "# Load the dataset\n",
    "file_path = 'complete_data_with_communities.csv'  # Update this path as needed\n",
    "df = pd.read_csv(file_path)\n",
    "\n",
    "# Convert the start and end dates to datetime for proper time handling\n",
    "df['Start date'] = pd.to_datetime(df['Start date'])\n",
    "df['End date'] = pd.to_datetime(df['End date'])\n",
    "\n",
    "# Convert trip duration from milliseconds to minutes\n",
    "df['Total duration (minutes)'] = df['Total duration (ms)'] / 60000  # 60000 ms = 1 minute\n",
    "\n",
    "# Group by Start station and calculate the average trip duration for outbound trips in minutes\n",
    "average_trip_duration = df.groupby(['Start station', 'Community_start']).agg(\n",
    "    avg_duration=('Total duration (minutes)', 'mean')\n",
    ").reset_index()\n",
    "\n",
    "# Rename columns for clarity\n",
    "average_trip_duration = average_trip_duration.rename(columns={\n",
    "    'Start station': 'Station Name',\n",
    "    'Community_start': 'Community',\n",
    "    'avg_duration': 'Average Trip Duration (minutes)'\n",
    "})\n",
    "\n",
    "# Sort the DataFrame by Average Trip Duration in descending order\n",
    "average_trip_duration = average_trip_duration.sort_values(by='Average Trip Duration (minutes)', ascending=False)\n",
    "\n",
    "# Display the result\n",
    "print(average_trip_duration.head())\n",
    "\n",
    "# Save the result into a new DataFrame\n",
    "df_average_trip_duration = average_trip_duration\n",
    "\n",
    "# Optionally, save the DataFrame to a CSV file\n",
    "df_average_trip_duration.to_csv('average_trip_duration_per_station.csv', index=False)\n"
   ]
  },
  {
   "cell_type": "code",
   "execution_count": 26,
   "id": "8edf195e-6d1a-4608-b66d-086a00808f1e",
   "metadata": {
    "tags": []
   },
   "outputs": [
    {
     "data": {
      "application/vnd.plotly.v1+json": {
       "config": {
        "plotlyServerURL": "https://plot.ly"
       },
       "data": [
        {
         "alignmentgroup": "True",
         "customdata": [
          [
           3,
           "Triangle Car Park, Hyde Park"
          ],
          [
           3,
           "Hyde Park Corner, Hyde Park"
          ],
          [
           3,
           "Albert Gate, Hyde Park"
          ],
          [
           3,
           "Victoria & Albert Museum, South Kensington"
          ],
          [
           3,
           "Wellington Arch, Hyde Park"
          ],
          [
           3,
           "Knightsbridge, Hyde Park"
          ],
          [
           3,
           "Chelsea Green, Chelsea"
          ],
          [
           3,
           "Holy Trinity Brompton, Knightsbridge"
          ],
          [
           3,
           "Sloane Avenue, Knightsbridge"
          ],
          [
           3,
           "Park Lane , Hyde Park"
          ],
          [
           0,
           "Boston Place, Marylebone"
          ],
          [
           0,
           "Crinan Street, King's Cross"
          ],
          [
           3,
           "Montpelier Street, Knightsbridge"
          ],
          [
           2,
           "Tower Gardens , Tower"
          ],
          [
           0,
           "Charlbert Street, St. John's Wood"
          ],
          [
           0,
           "Cloudesley Road, Angel"
          ],
          [
           3,
           "St. Martin's Street, West End"
          ],
          [
           3,
           "Storey's Gate, Westminster"
          ],
          [
           2,
           "Harris Academy, Bermondsey"
          ],
          [
           3,
           "Millbank Tower, Pimlico"
          ],
          [
           0,
           "Greenberry Street, St.John's Wood"
          ],
          [
           0,
           "St Mary's Hospital, Paddington"
          ],
          [
           2,
           "Somerset House, Strand"
          ],
          [
           0,
           "Southwick Street, Paddington"
          ],
          [
           3,
           "Buckingham Gate, Westminster"
          ],
          [
           3,
           "Albert Embankment, Vauxhall"
          ],
          [
           0,
           "Killick Street, King's Cross"
          ],
          [
           3,
           "Green Street, Mayfair"
          ],
          [
           3,
           "Elizabeth Bridge, Victoria"
          ],
          [
           3,
           "Millennium Hotel, Mayfair"
          ],
          [
           3,
           "Embankment (Savoy), Strand"
          ],
          [
           3,
           "Eaton Square (South), Belgravia"
          ],
          [
           3,
           "Harriet Street, Knightsbridge"
          ],
          [
           3,
           "Panton Street, West End"
          ],
          [
           3,
           "Smith Square, Westminster"
          ],
          [
           1,
           "Wellington Row, Bethnal Green"
          ],
          [
           0,
           "St. John's Wood Church, The Regent's Park"
          ],
          [
           1,
           "Buxton Street 1, Shoreditch"
          ],
          [
           0,
           "Calshot Street , King's Cross"
          ],
          [
           3,
           "Waterloo Place, St. James's"
          ],
          [
           3,
           "Royal Avenue 2, Chelsea"
          ],
          [
           0,
           "Birkenhead Street, King's Cross"
          ],
          [
           3,
           "Northumberland Avenue, Strand"
          ],
          [
           3,
           "Belgrave Square, Belgravia"
          ],
          [
           2,
           "Crimscott Street, Bermondsey"
          ],
          [
           3,
           "Cadogan Gardens, Chelsea"
          ],
          [
           1,
           "Central House, Aldgate"
          ],
          [
           3,
           "Allington Street, Victoria"
          ],
          [
           3,
           "Seville Street, Knightsbridge"
          ],
          [
           3,
           "Whitehall Place, Strand"
          ],
          [
           0,
           "Broadley Terrace, Marylebone"
          ],
          [
           3,
           "Royal Avenue 1, Chelsea"
          ],
          [
           0,
           "Good's Way, King's Cross"
          ],
          [
           0,
           "Doric Way , Somers Town"
          ],
          [
           3,
           "Pall Mall East, West End"
          ],
          [
           0,
           "Euston Square Gardens, Euston"
          ],
          [
           0,
           "Sackville Street, Mayfair"
          ],
          [
           0,
           "Frith Street, Soho"
          ],
          [
           3,
           "Chicheley Street, South Bank"
          ],
          [
           3,
           "Westminster Pier, Westminster"
          ],
          [
           3,
           "Cadogan Place, Knightsbridge"
          ],
          [
           3,
           "Charles II Street, West End"
          ],
          [
           1,
           "Fournier Street, Whitechapel"
          ],
          [
           0,
           "Dorset Square, Marylebone"
          ],
          [
           3,
           "Bourne Street, Belgravia"
          ],
          [
           3,
           "Pont Street, Knightsbridge"
          ],
          [
           3,
           "Ebury Bridge, Pimlico"
          ],
          [
           3,
           "Warwick Row, Westminster"
          ],
          [
           0,
           "Endsleigh Gardens, Euston"
          ],
          [
           3,
           "Vincent Square, Westminster"
          ],
          [
           3,
           "Belgrave Road, Victoria"
          ],
          [
           2,
           "Curlew Street, Shad Thames"
          ],
          [
           0,
           "Seymour Place, Marylebone"
          ],
          [
           0,
           "Westminster University, Marylebone"
          ],
          [
           0,
           "Wardour Street, Soho"
          ],
          [
           2,
           "Sancroft Street, Vauxhall"
          ],
          [
           1,
           "St. Katharine's Way, Tower"
          ],
          [
           3,
           "Kings Gate House, Westminster"
          ],
          [
           0,
           "Broadwick Street, Soho"
          ],
          [
           3,
           "Butler Place, Westminster"
          ],
          [
           1,
           "Jewry Street, Aldgate"
          ],
          [
           1,
           "Braham Street, Aldgate"
          ],
          [
           3,
           "Abbey Orchard Street, Westminster"
          ],
          [
           1,
           "St. Mary Axe, Aldgate"
          ],
          [
           0,
           "St. Chad's Street, King's Cross"
          ],
          [
           1,
           "Shoreditch High Street, Shoreditch"
          ],
          [
           0,
           "Bell Street , Marylebone"
          ],
          [
           2,
           "Walworth Square, Walworth"
          ],
          [
           2,
           "Crosswall, Tower"
          ],
          [
           2,
           "Lower Thames Street, Monument"
          ],
          [
           0,
           "Bruton Street, Mayfair"
          ],
          [
           0,
           "Moor Street, Soho"
          ],
          [
           0,
           "Euston Road, Euston"
          ],
          [
           2,
           "Rodney Road , Walworth"
          ],
          [
           2,
           "Tyers Gate, Bermondsey"
          ],
          [
           2,
           "Arundel Street, Temple"
          ],
          [
           0,
           "Upper Grosvenor Street, Mayfair"
          ],
          [
           3,
           "Farm Street, Mayfair"
          ],
          [
           3,
           "Eccleston Place, Victoria"
          ],
          [
           0,
           "Beaumont Street, Marylebone"
          ],
          [
           3,
           "Grosvenor Crescent, Belgravia"
          ],
          [
           3,
           "Abingdon Green, Westminster"
          ],
          [
           2,
           "Kennington Cross, Kennington"
          ],
          [
           0,
           "Argyle Street, Kings Cross"
          ],
          [
           0,
           "Bedford Way, Bloomsbury"
          ],
          [
           3,
           "Denyer Street, Knightsbridge"
          ],
          [
           1,
           "Falkirk Street, Hoxton"
          ],
          [
           1,
           "Brushfield Street, Liverpool Street"
          ],
          [
           0,
           "Lincoln's Inn Fields, Holborn"
          ],
          [
           3,
           "Gloucester Street, Pimlico"
          ],
          [
           0,
           "Nutford Place, Marylebone"
          ],
          [
           3,
           "North Audley Street, Mayfair"
          ],
          [
           2,
           "Brandon Street, Walworth"
          ],
          [
           3,
           "Horseferry Road, Westminster"
          ],
          [
           1,
           "Christopher Street, Liverpool Street"
          ],
          [
           1,
           "Finsbury Library , Finsbury"
          ],
          [
           3,
           "St. James's Square, St. James's"
          ],
          [
           0,
           "Harrowby Street, Marylebone"
          ],
          [
           0,
           "Harrington Square 1, Camden Town"
          ],
          [
           2,
           "Kennington Station, Kennington"
          ],
          [
           0,
           "Golden Square, Soho"
          ],
          [
           1,
           "Houndsditch, Aldgate"
          ],
          [
           0,
           "Little Argyll Street, West End"
          ],
          [
           2,
           "Hampton Street, Walworth"
          ],
          [
           0,
           "Longford Street, The Regent's Park"
          ],
          [
           3,
           "Temple Gardens, Temple"
          ],
          [
           2,
           "Monument Street, Monument"
          ],
          [
           0,
           "Waterloo Bridge, South Bank"
          ],
          [
           1,
           "Columbia Road, Shoreditch"
          ],
          [
           1,
           "Waterloo Station 2, Waterloo"
          ],
          [
           3,
           "Clifford Street, Mayfair"
          ],
          [
           3,
           "Park Lane, Mayfair"
          ],
          [
           3,
           "Sedding Street, Sloane Square"
          ],
          [
           2,
           "Tooley Street, Bermondsey"
          ],
          [
           1,
           "Hoxton Station, Hoxton"
          ],
          [
           1,
           "Worship Street, Shoreditch"
          ],
          [
           1,
           "Northdown Street, King's Cross"
          ],
          [
           2,
           "Wormwood Street, Liverpool Street"
          ],
          [
           3,
           "Southampton Street, Strand"
          ],
          [
           3,
           "Green Park Station, Mayfair"
          ],
          [
           2,
           "Concert Hall Approach 1, South Bank"
          ],
          [
           2,
           "Great Dover Street, The Borough"
          ],
          [
           1,
           "Waterloo Station 3, Waterloo"
          ],
          [
           2,
           "Park Street, Bankside"
          ],
          [
           2,
           "Strand, Strand"
          ],
          [
           2,
           "Black Prince Road, Vauxhall"
          ],
          [
           3,
           "Stanhope Gate, Mayfair"
          ],
          [
           1,
           "Finsbury Square , Moorgate"
          ],
          [
           2,
           "Bermondsey Street, Bermondsey"
          ],
          [
           0,
           "Hinde Street, Marylebone"
          ],
          [
           3,
           "St. George Street, Mayfair"
          ],
          [
           3,
           "Tachbrook Street, Victoria"
          ],
          [
           0,
           "Tavistock Street, Covent Garden"
          ],
          [
           2,
           "Great Tower Street, Monument"
          ],
          [
           0,
           "Soho Square , Soho"
          ],
          [
           0,
           "Porchester Place, Paddington"
          ],
          [
           0,
           "New Cavendish Street, Marylebone"
          ],
          [
           3,
           "Curzon Street, Mayfair"
          ],
          [
           0,
           "Ossulston Street, Somers Town"
          ],
          [
           2,
           "Cotton Garden Estate, Kennington"
          ],
          [
           1,
           "Graham Street, Angel"
          ],
          [
           3,
           "Page Street, Westminster"
          ],
          [
           1,
           "New Inn Yard, Shoreditch"
          ],
          [
           0,
           "Eversholt Street , Camden Town"
          ],
          [
           3,
           "South Audley Street, Mayfair"
          ],
          [
           1,
           "Murray Grove , Hoxton"
          ],
          [
           1,
           "Commercial Street, Shoreditch"
          ],
          [
           3,
           "Howick Place, Westminster"
          ],
          [
           2,
           "Walnut Tree Walk, Vauxhall"
          ],
          [
           3,
           "Clarges Street, Mayfair"
          ],
          [
           0,
           "Risinghill Street, Angel"
          ],
          [
           0,
           "Great Russell Street, Bloomsbury"
          ],
          [
           2,
           "Kingsway Southbound, Strand"
          ],
          [
           1,
           "Norton Folgate, Liverpool Street"
          ],
          [
           2,
           "Houghton Street, Strand"
          ],
          [
           3,
           "Grafton Street, Mayfair"
          ],
          [
           0,
           "Chapel Place, Marylebone"
          ],
          [
           1,
           "Finsbury Circus, Liverpool Street"
          ],
          [
           2,
           "Belvedere Road 2, South Bank"
          ],
          [
           0,
           "Portman Square, Marylebone"
          ],
          [
           1,
           "Baldwin Street, St. Luke's"
          ],
          [
           0,
           "Pancras Road, King's Cross"
          ],
          [
           1,
           "Farringdon Lane, Clerkenwell"
          ],
          [
           2,
           "Leman Street, Aldgate"
          ],
          [
           0,
           "Earnshaw Street , Covent Garden"
          ],
          [
           2,
           "Portugal Street, Holborn"
          ],
          [
           3,
           "Warwick Square, Pimlico"
          ],
          [
           3,
           "Craven Street, Strand"
          ],
          [
           0,
           "The Tennis Courts, The Regent's Park"
          ],
          [
           1,
           "Waterloo Station 1, Waterloo"
          ],
          [
           0,
           "Edgware Road Station, Marylebone"
          ],
          [
           0,
           "Crawford Street, Marylebone"
          ],
          [
           0,
           "William IV Street, Strand"
          ],
          [
           2,
           "Tower Wharf, Bermondsey"
          ],
          [
           1,
           "Wood Street, Guildhall"
          ],
          [
           1,
           "Concert Hall Approach 2, South Bank"
          ],
          [
           3,
           "Fire Brigade Pier, Vauxhall"
          ],
          [
           1,
           "Belvedere Road 1, South Bank"
          ],
          [
           2,
           "Strata, Elephant & Castle"
          ],
          [
           2,
           "Victory Place, Walworth"
          ],
          [
           1,
           "Granby Street, Shoreditch"
          ],
          [
           2,
           "New Kent Road, The Borough"
          ],
          [
           2,
           "Bricklayers Arms, Borough"
          ],
          [
           0,
           "Drummond Street , Euston"
          ],
          [
           0,
           "Old Quebec Street, Marylebone"
          ],
          [
           1,
           "Brick Lane Market, Shoreditch"
          ],
          [
           2,
           "Long Lane , Bermondsey"
          ],
          [
           0,
           "Bury Place, Holborn"
          ],
          [
           2,
           "Tate Modern, Bankside"
          ],
          [
           2,
           "Waterloo Road, South Bank"
          ],
          [
           0,
           "George Street, Marylebone"
          ],
          [
           2,
           "Swan Street, The Borough"
          ],
          [
           2,
           "Wellington Street , Strand"
          ],
          [
           2,
           "Geraldine Street, Elephant & Castle"
          ],
          [
           0,
           "Broadcasting House, Marylebone"
          ],
          [
           0,
           "Paddington Street, Marylebone"
          ],
          [
           1,
           "Bank of England Museum, Bank"
          ],
          [
           0,
           "Drury Lane, Covent Garden"
          ],
          [
           0,
           "Kingsway, Covent Garden"
          ],
          [
           0,
           "Park Road (Baker Street), The Regent's Park"
          ],
          [
           1,
           "Chadwell Street, Angel"
          ],
          [
           0,
           "Malet Street, Bloomsbury"
          ],
          [
           3,
           "Woodstock Street, Mayfair"
          ],
          [
           2,
           "Union Street, The Borough"
          ],
          [
           2,
           "King Edward Walk, Waterloo"
          ],
          [
           1,
           "Pitfield Street Central, Hoxton"
          ],
          [
           1,
           "Pindar Street, Liverpool Street"
          ],
          [
           1,
           "Clifton Street, Shoreditch"
          ],
          [
           2,
           "Snowsfields, London Bridge"
          ],
          [
           2,
           "Tanner Street, Bermondsey"
          ],
          [
           3,
           "Regency Street, Westminster"
          ],
          [
           1,
           "Sun Street, Liverpool Street"
          ],
          [
           0,
           "Wells Street, Fitzrovia"
          ],
          [
           2,
           "St. Bride Street, Holborn"
          ],
          [
           2,
           "Lambeth Palace Road, Waterloo"
          ],
          [
           2,
           "Borough High Street, The Borough"
          ],
          [
           1,
           "Goswell Road (City Uni), Finsbury"
          ],
          [
           0,
           "Gower Place , Euston"
          ],
          [
           2,
           "Duke Street Hill, London Bridge"
          ],
          [
           1,
           "Barbican Centre, Barbican"
          ],
          [
           1,
           "Eagle Wharf Road, Hoxton"
          ],
          [
           3,
           "Vincent Street, Pimlico"
          ],
          [
           1,
           "Fashion Street, Whitechapel"
          ],
          [
           1,
           "Bell Lane, Liverpool Street"
          ],
          [
           1,
           "Fanshaw Street, Hoxton"
          ],
          [
           1,
           "The Guildhall, Guildhall"
          ],
          [
           0,
           "Baker Street, Marylebone"
          ],
          [
           2,
           "Bouverie Street, Temple"
          ],
          [
           2,
           "Carey Street, Holborn"
          ],
          [
           0,
           "Guilford Street , Bloomsbury"
          ],
          [
           2,
           "Queen Street 1, Bank"
          ],
          [
           2,
           "Tallis Street, Temple"
          ],
          [
           0,
           "Cromer Street, Bloomsbury"
          ],
          [
           0,
           "Hampstead Road, Euston"
          ],
          [
           0,
           "Newton Street, Covent Garden"
          ],
          [
           2,
           "New Globe Walk, Bankside"
          ],
          [
           0,
           "Taviton Street, Bloomsbury"
          ],
          [
           1,
           "Macclesfield Rd, St Lukes"
          ],
          [
           1,
           "Cheapside, Bank"
          ],
          [
           1,
           "Clerkenwell Green, Clerkenwell"
          ],
          [
           2,
           "Poured Lines, Bankside"
          ],
          [
           0,
           "Great Titchfield Street, Fitzrovia"
          ],
          [
           0,
           "Coram Street, Bloomsbury"
          ],
          [
           2,
           "Sail Street, Vauxhall"
          ],
          [
           0,
           "Portland Place, Marylebone"
          ],
          [
           0,
           "Store Street, Bloomsbury"
          ],
          [
           0,
           "Scala Street, Fitzrovia"
          ],
          [
           2,
           "Stamford Street, South Bank"
          ],
          [
           0,
           "Southampton Place, Holborn"
          ],
          [
           1,
           "Holborn Circus, Holborn"
          ],
          [
           3,
           "Ashley Place, Victoria"
          ],
          [
           0,
           "Foley Street, Fitzrovia"
          ],
          [
           1,
           "Fore Street, Guildhall"
          ],
          [
           1,
           "Newgate Street , St. Paul's"
          ],
          [
           1,
           "West Smithfield Rotunda, Farringdon"
          ],
          [
           2,
           "Queen Street 2, Bank"
          ],
          [
           1,
           "Breams Buildings, Holborn"
          ],
          [
           2,
           "Harper Road, The Borough"
          ],
          [
           1,
           "Farringdon Street, Holborn"
          ],
          [
           2,
           "Gaywood  Street, Elephant & Castle"
          ],
          [
           1,
           "Queen Victoria Street, St. Paul's"
          ],
          [
           1,
           "Berry Street, Clerkenwell"
          ],
          [
           0,
           "St. John Street, Finsbury"
          ],
          [
           0,
           "Tavistock Place, Bloomsbury"
          ],
          [
           1,
           "Leonard Circus , Shoreditch"
          ],
          [
           1,
           "Fore Street Avenue, Guildhall"
          ],
          [
           1,
           "Percival Street, Finsbury"
          ],
          [
           2,
           "Hop Exchange, The Borough"
          ],
          [
           0,
           "Russell Square Station, Bloomsbury"
          ],
          [
           3,
           "Guildhouse Street, Victoria"
          ],
          [
           0,
           "Great Percy Street, Clerkenwell"
          ],
          [
           0,
           "British Museum, Bloomsbury"
          ],
          [
           0,
           "Bayley Street , Bloomsbury"
          ],
          [
           1,
           "Windsor Terrace, Hoxton"
          ],
          [
           1,
           "Hatton Wall, Holborn"
          ],
          [
           1,
           "Moorfields, Moorgate"
          ],
          [
           1,
           "Godliman Street, St. Paul's"
          ],
          [
           2,
           "Southwark Station 2, Southwark"
          ],
          [
           0,
           "High Holborn , Covent Garden"
          ],
          [
           3,
           "Rochester Row, Westminster"
          ],
          [
           0,
           "Howland Street, Fitzrovia"
          ],
          [
           2,
           "Lower Marsh, Waterloo"
          ],
          [
           1,
           "New North Road 2, Hoxton"
          ],
          [
           3,
           "Rampayne Street, Pimlico"
          ],
          [
           2,
           "Lambeth Road, Vauxhall"
          ],
          [
           2,
           "Hardwick Street, Clerkenwell"
          ],
          [
           1,
           "Snow Hill, Farringdon"
          ],
          [
           0,
           "Bolsover Street, Fitzrovia"
          ],
          [
           2,
           "LSBU (Borough Road), Elephant & Castle"
          ],
          [
           0,
           "Charlotte Street, Fitzrovia"
          ],
          [
           2,
           "Blackfriars Road, Southwark"
          ],
          [
           2,
           "Lollard Street, Vauxhall"
          ],
          [
           1,
           "Bethnal Green Road, Shoreditch"
          ],
          [
           0,
           "Marylebone Lane, Marylebone"
          ],
          [
           2,
           "Kennington Road, Vauxhall"
          ],
          [
           2,
           "Westminster Bridge Road, Elephant & Castle"
          ],
          [
           0,
           "Margery Street, Clerkenwell"
          ],
          [
           0,
           "George Place Mews, Marylebone"
          ],
          [
           1,
           "Tysoe Street, Clerkenwell"
          ],
          [
           1,
           "Museum of London, Barbican"
          ],
          [
           1,
           "City Road, Angel"
          ],
          [
           2,
           "Empire Square, The Borough"
          ],
          [
           1,
           "Palissy Street, Shoreditch"
          ],
          [
           0,
           "Red Lion Street, Holborn"
          ],
          [
           2,
           "Archbishop's Park, Waterloo"
          ],
          [
           0,
           "Northington Street , Holborn"
          ],
          [
           0,
           "Cartwright Gardens , Bloomsbury"
          ],
          [
           0,
           "Shouldham Street, Marylebone"
          ],
          [
           3,
           "Grosvenor Square, Mayfair"
          ],
          [
           1,
           "New Fetter Lane, Holborn"
          ],
          [
           2,
           "Colombo Street, Southwark"
          ],
          [
           2,
           "Ontario Street, Elephant & Castle"
          ],
          [
           1,
           "Wenlock Road , Hoxton"
          ],
          [
           2,
           "Great Suffolk Street, The Borough"
          ],
          [
           1,
           "River Street , Clerkenwell"
          ],
          [
           2,
           "Baylis Road, Waterloo"
          ],
          [
           0,
           "Rathbone Street, Fitzrovia"
          ],
          [
           2,
           "Webber Street , Southwark"
          ],
          [
           2,
           "Bankside Mix, Bankside"
          ],
          [
           1,
           "Claremont Square, Angel"
          ],
          [
           1,
           "Bunhill Row, Moorgate"
          ],
          [
           1,
           "Golden Lane, Barbican"
          ],
          [
           1,
           "Hatton Garden, Holborn"
          ],
          [
           1,
           "Blackfriars Station, St. Paul's"
          ],
          [
           0,
           "Mallory Street, Marylebone"
          ],
          [
           0,
           "Warren Street Station, Euston"
          ],
          [
           2,
           "Borough Road, Elephant & Castle"
          ],
          [
           0,
           "Red Lion Square, Holborn"
          ],
          [
           3,
           "Greycoat Street , Westminster"
          ],
          [
           0,
           "Albany Street, The Regent's Park"
          ],
          [
           0,
           "Theobald's Road , Holborn"
          ],
          [
           1,
           "Bath Street, St. Luke's"
          ],
          [
           3,
           "Queen Mother Sports Centre, Victoria"
          ],
          [
           1,
           "Hoxton Street, Hoxton"
          ],
          [
           1,
           "King Edward Street, St Pauls"
          ],
          [
           2,
           "Southwark Street, Bankside"
          ],
          [
           2,
           "Sea Containers, South Bank"
          ],
          [
           2,
           "Milroy Walk, South Bank"
          ],
          [
           2,
           "Lambeth North Station, Waterloo"
          ],
          [
           1,
           "Sadlers Sports Centre, Finsbury"
          ],
          [
           0,
           "Brunswick Square, Bloomsbury"
          ],
          [
           2,
           "Dickens Square, Borough"
          ],
          [
           0,
           "Ampton Street , Clerkenwell"
          ],
          [
           1,
           "Old Street Station, St. Luke's"
          ],
          [
           1,
           "Finsbury Leisure Centre, St. Luke's"
          ],
          [
           1,
           "Torrens Street, Angel"
          ],
          [
           1,
           "Roscoe Street, St. Luke's"
          ],
          [
           1,
           "Aldersgate Street, Barbican"
          ],
          [
           2,
           "Lavington Street, Bankside"
          ],
          [
           0,
           "Wren Street, Holborn"
          ]
         ],
         "hovertemplate": "x=%{x}<br>Average Trip Duration (minutes)=%{y}<br>Community=%{customdata[0]}<br>Station Name=%{customdata[1]}<extra></extra>",
         "legendgroup": "",
         "marker": {
          "color": "#636efa",
          "pattern": {
           "shape": ""
          }
         },
         "name": "",
         "offsetgroup": "",
         "orientation": "v",
         "showlegend": false,
         "textposition": "auto",
         "type": "bar",
         "x": [
          0,
          1,
          2,
          3,
          4,
          5,
          6,
          7,
          8,
          9,
          10,
          11,
          12,
          13,
          14,
          15,
          16,
          17,
          18,
          19,
          20,
          21,
          22,
          23,
          24,
          25,
          26,
          27,
          28,
          29,
          30,
          31,
          32,
          33,
          34,
          35,
          36,
          37,
          38,
          39,
          40,
          41,
          42,
          43,
          44,
          45,
          46,
          47,
          48,
          49,
          50,
          51,
          52,
          53,
          54,
          55,
          56,
          57,
          58,
          59,
          60,
          61,
          62,
          63,
          64,
          65,
          66,
          67,
          68,
          69,
          70,
          71,
          72,
          73,
          74,
          75,
          76,
          77,
          78,
          79,
          80,
          81,
          82,
          83,
          84,
          85,
          86,
          87,
          88,
          89,
          90,
          91,
          92,
          93,
          94,
          95,
          96,
          97,
          98,
          99,
          100,
          101,
          102,
          103,
          104,
          105,
          106,
          107,
          108,
          109,
          110,
          111,
          112,
          113,
          114,
          115,
          116,
          117,
          118,
          119,
          120,
          121,
          122,
          123,
          124,
          125,
          126,
          127,
          128,
          129,
          130,
          131,
          132,
          133,
          134,
          135,
          136,
          137,
          138,
          139,
          140,
          141,
          142,
          143,
          144,
          145,
          146,
          147,
          148,
          149,
          150,
          151,
          152,
          153,
          154,
          155,
          156,
          157,
          158,
          159,
          160,
          161,
          162,
          163,
          164,
          165,
          166,
          167,
          168,
          169,
          170,
          171,
          172,
          173,
          174,
          175,
          176,
          177,
          178,
          179,
          180,
          181,
          182,
          183,
          184,
          185,
          186,
          187,
          188,
          189,
          190,
          191,
          192,
          193,
          194,
          195,
          196,
          197,
          198,
          199,
          200,
          201,
          202,
          203,
          204,
          205,
          206,
          207,
          208,
          209,
          210,
          211,
          212,
          213,
          214,
          215,
          216,
          217,
          218,
          219,
          220,
          221,
          222,
          223,
          224,
          225,
          226,
          227,
          228,
          229,
          230,
          231,
          232,
          233,
          234,
          235,
          236,
          237,
          238,
          239,
          240,
          241,
          242,
          243,
          244,
          245,
          246,
          247,
          248,
          249,
          250,
          251,
          252,
          253,
          254,
          255,
          256,
          257,
          258,
          259,
          260,
          261,
          262,
          263,
          264,
          265,
          266,
          267,
          268,
          269,
          270,
          271,
          272,
          273,
          274,
          275,
          276,
          277,
          278,
          279,
          280,
          281,
          282,
          283,
          284,
          285,
          286,
          287,
          288,
          289,
          290,
          291,
          292,
          293,
          294,
          295,
          296,
          297,
          298,
          299,
          300,
          301,
          302,
          303,
          304,
          305,
          306,
          307,
          308,
          309,
          310,
          311,
          312,
          313,
          314,
          315,
          316,
          317,
          318,
          319,
          320,
          321,
          322,
          323,
          324,
          325,
          326,
          327,
          328,
          329,
          330,
          331,
          332,
          333,
          334,
          335,
          336,
          337,
          338,
          339,
          340,
          341,
          342,
          343,
          344,
          345,
          346,
          347,
          348,
          349,
          350,
          351,
          352,
          353,
          354,
          355,
          356,
          357,
          358,
          359,
          360,
          361,
          362,
          363,
          364,
          365,
          366,
          367,
          368,
          369
         ],
         "xaxis": "x",
         "y": [
          20.63411757575758,
          19.69689488146552,
          18.9102945450325,
          18.437003019323672,
          17.24763807017544,
          16.63806607981221,
          16.026861139896372,
          15.98801695303551,
          15.909491441441444,
          15.798558748615726,
          15.536065084388186,
          15.3786977582846,
          14.862498976608189,
          14.859454446935723,
          14.713701421568627,
          14.621247678916829,
          14.593147429078016,
          14.47742998643148,
          14.391644708994708,
          14.370588033072236,
          14.233836653116532,
          14.082784317585302,
          14.054673809523807,
          13.99659305993691,
          13.99119175531915,
          13.959423139158575,
          13.815835104166666,
          13.810433333333334,
          13.781665772870662,
          13.71402194616977,
          13.689936972343522,
          13.629813194444443,
          13.601198018648018,
          13.570328790613718,
          13.56950634218289,
          13.545220496894409,
          13.47099454277286,
          13.406285507246375,
          13.395234356725148,
          13.390323686594202,
          13.339894,
          13.338294685039369,
          13.327036735870818,
          13.326297480620156,
          13.31274074415744,
          13.30925611270296,
          13.305755468749998,
          13.2840659447983,
          13.25667036441586,
          13.227387721518989,
          13.215734964539006,
          13.195959375,
          13.189450112233445,
          13.18820863095238,
          13.162847777777776,
          13.145808147229117,
          13.145583479212254,
          13.11176572258533,
          13.060491216216215,
          13.058196085858588,
          13.053337988826817,
          13.000132640949555,
          12.9931096082779,
          12.901656095366622,
          12.879369562146891,
          12.87345923566879,
          12.870577097130244,
          12.858923300515704,
          12.843462660098522,
          12.825592723004696,
          12.800620904761908,
          12.791614932126697,
          12.775936625514404,
          12.735202146892656,
          12.729814935364727,
          12.687792680776017,
          12.6669810741688,
          12.598711485319516,
          12.587061954887217,
          12.578535747663553,
          12.578007575757574,
          12.568439026305455,
          12.546101941097724,
          12.528690501792116,
          12.521448881036514,
          12.51966054131054,
          12.50980468238376,
          12.506061175616836,
          12.505401747088186,
          12.46991499238965,
          12.463046392496391,
          12.462855285592497,
          12.456185560504826,
          12.452841058052435,
          12.451201699346404,
          12.44655904882155,
          12.442597701149426,
          12.439524545454544,
          12.407138926746166,
          12.402989334521688,
          12.40014398148148,
          12.369195055821372,
          12.357153234445818,
          12.347226738657971,
          12.324591748768473,
          12.324127397260275,
          12.317612787015044,
          12.294025538502964,
          12.289443499197432,
          12.280529232804234,
          12.275632242990651,
          12.250306172839506,
          12.241443827160492,
          12.240284884376765,
          12.225659279881215,
          12.216820858283432,
          12.184996556473829,
          12.18205745341615,
          12.152932584916524,
          12.1451593164794,
          12.135774537037038,
          12.117202911877396,
          12.113558688340808,
          12.111144855072464,
          12.07134043478261,
          12.048592735042735,
          12.043920652173911,
          12.0111235395189,
          12.005709675281643,
          12.00276331920904,
          11.997567768595042,
          11.982140015723273,
          11.967005747126436,
          11.956944602272728,
          11.953028095238096,
          11.94824284682081,
          11.938303850574712,
          11.904980211062592,
          11.893836747361886,
          11.882406572029442,
          11.873945082815736,
          11.84108381492948,
          11.837159401159049,
          11.825276758409784,
          11.787231791802684,
          11.785819793681496,
          11.764355147058822,
          11.75628896434635,
          11.753420980639731,
          11.749213822751324,
          11.730714024975985,
          11.711519569471625,
          11.706297036474163,
          11.69973405211141,
          11.692251698960966,
          11.688608877192982,
          11.66659590909091,
          11.652692944038929,
          11.628342331980152,
          11.619499441580755,
          11.618391274113954,
          11.612603790688093,
          11.6076831372549,
          11.598212559890486,
          11.581389678030304,
          11.576527757009346,
          11.575488828502415,
          11.573048690671031,
          11.54887,
          11.535595528455286,
          11.511125958702063,
          11.50932304964539,
          11.500639165409751,
          11.493403885257807,
          11.478630129516018,
          11.477442496392497,
          11.470273523622048,
          11.459230885873904,
          11.456875095238097,
          11.45146292237443,
          11.439908943630716,
          11.438544911504426,
          11.436997270742358,
          11.436538007736944,
          11.432753328092245,
          11.404631626319055,
          11.37556143678161,
          11.349705349794238,
          11.347669027181688,
          11.34599991621984,
          11.319287690355331,
          11.313669021065676,
          11.29908540462428,
          11.298212663645518,
          11.279789454094292,
          11.259093770226537,
          11.184304110813226,
          11.178658210007049,
          11.126069458653026,
          11.125930595581172,
          11.123582817460315,
          11.086790457516338,
          11.081990457142856,
          11.073952058590656,
          11.070898412698412,
          11.065195381526104,
          11.057533800350264,
          11.053917717717718,
          11.046224906367042,
          11.044300694444445,
          11.043920437405731,
          11.032591305655837,
          11.030289583333332,
          11.02297911010558,
          11.01007701754386,
          11.001029821627649,
          10.97551186299081,
          10.974117174925878,
          10.957002959501558,
          10.956412957074722,
          10.956288105835808,
          10.92171636927851,
          10.91944138176638,
          10.916403505291004,
          10.890005450733751,
          10.875045158450703,
          10.874857671957672,
          10.859205,
          10.850555855855855,
          10.847243515981736,
          10.8284126118068,
          10.827498037918872,
          10.824703400083438,
          10.821492267050912,
          10.818946283909328,
          10.802685912698411,
          10.790084523809524,
          10.779593350908026,
          10.750595736683849,
          10.748691489361702,
          10.732309981684985,
          10.726333093278464,
          10.71681984375,
          10.712705086206896,
          10.712488965341487,
          10.70074773755656,
          10.687375396825397,
          10.659045486111111,
          10.64538000801282,
          10.635311651234568,
          10.63369769144144,
          10.594089265536724,
          10.591057468123864,
          10.57693735561056,
          10.5712225024728,
          10.560518181818182,
          10.549569291338583,
          10.5438068119891,
          10.543668960734102,
          10.49949078313253,
          10.493100058892814,
          10.48597355944566,
          10.476397775628628,
          10.44738466152528,
          10.445107326621924,
          10.442294279946164,
          10.44048517495396,
          10.438342931937171,
          10.426805335731416,
          10.424626738505747,
          10.391139217557251,
          10.356658894105372,
          10.34389796137339,
          10.337676784605836,
          10.336626487314083,
          10.325329417670684,
          10.310440213010938,
          10.307341287878788,
          10.282467140825036,
          10.274810687593424,
          10.274314655760056,
          10.2675906,
          10.25508878066378,
          10.254399613899617,
          10.237277510548523,
          10.226351218637992,
          10.225203578892373,
          10.218075893973491,
          10.211304342273309,
          10.209426363636364,
          10.2006998820059,
          10.190676425269643,
          10.188376433807676,
          10.183453765323993,
          10.183206392950884,
          10.182253013910357,
          10.17495494949495,
          10.174139652448655,
          10.162826733084268,
          10.145411656746033,
          10.143978618693136,
          10.139250601202404,
          10.13107064137308,
          10.128784277879342,
          10.110647147147146,
          10.081563244444444,
          10.081035508308895,
          10.069429269125685,
          10.068121028037384,
          10.064893127572017,
          10.055948767605637,
          10.012386439499304,
          10.009399164054336,
          10.002045728291318,
          9.991677766393444,
          9.9916765993266,
          9.991616111111112,
          9.912214459930311,
          9.905134930777423,
          9.89990157635468,
          9.890634987277354,
          9.862063802816902,
          9.845031153846154,
          9.823243917155905,
          9.821217196969696,
          9.77470236318408,
          9.765493888888887,
          9.734109462151393,
          9.721598235840297,
          9.713696590909093,
          9.695333333333334,
          9.688901893939397,
          9.668227300724638,
          9.645729042553192,
          9.622572574447648,
          9.613289021956088,
          9.60407390438247,
          9.60175283171521,
          9.577408634175692,
          9.530552420856612,
          9.49316808647951,
          9.482394973544974,
          9.47612313463098,
          9.465255096935586,
          9.447733400267738,
          9.432813618030842,
          9.42811745852187,
          9.417960990990991,
          9.335421901709402,
          9.313987093495934,
          9.274792528044872,
          9.239832771867611,
          9.229954788838612,
          9.210738070776255,
          9.207239268292684,
          9.172062098393576,
          9.148184315008724,
          9.102381794294296,
          9.063836706349203,
          9.030423599240269,
          9.011405669099757,
          8.932865077071291,
          8.900851131687244,
          8.89323378085164,
          8.851862636439966,
          8.829479894179894,
          8.829067490494296,
          8.689902698032961,
          8.500658561643835,
          8.367335905680601
         ],
         "yaxis": "y"
        }
       ],
       "layout": {
        "autosize": true,
        "barmode": "relative",
        "legend": {
         "tracegroupgap": 0
        },
        "template": {
         "data": {
          "bar": [
           {
            "error_x": {
             "color": "#2a3f5f"
            },
            "error_y": {
             "color": "#2a3f5f"
            },
            "marker": {
             "line": {
              "color": "#E5ECF6",
              "width": 0.5
             },
             "pattern": {
              "fillmode": "overlay",
              "size": 10,
              "solidity": 0.2
             }
            },
            "type": "bar"
           }
          ],
          "barpolar": [
           {
            "marker": {
             "line": {
              "color": "#E5ECF6",
              "width": 0.5
             },
             "pattern": {
              "fillmode": "overlay",
              "size": 10,
              "solidity": 0.2
             }
            },
            "type": "barpolar"
           }
          ],
          "carpet": [
           {
            "aaxis": {
             "endlinecolor": "#2a3f5f",
             "gridcolor": "white",
             "linecolor": "white",
             "minorgridcolor": "white",
             "startlinecolor": "#2a3f5f"
            },
            "baxis": {
             "endlinecolor": "#2a3f5f",
             "gridcolor": "white",
             "linecolor": "white",
             "minorgridcolor": "white",
             "startlinecolor": "#2a3f5f"
            },
            "type": "carpet"
           }
          ],
          "choropleth": [
           {
            "colorbar": {
             "outlinewidth": 0,
             "ticks": ""
            },
            "type": "choropleth"
           }
          ],
          "contour": [
           {
            "colorbar": {
             "outlinewidth": 0,
             "ticks": ""
            },
            "colorscale": [
             [
              0,
              "#0d0887"
             ],
             [
              0.1111111111111111,
              "#46039f"
             ],
             [
              0.2222222222222222,
              "#7201a8"
             ],
             [
              0.3333333333333333,
              "#9c179e"
             ],
             [
              0.4444444444444444,
              "#bd3786"
             ],
             [
              0.5555555555555556,
              "#d8576b"
             ],
             [
              0.6666666666666666,
              "#ed7953"
             ],
             [
              0.7777777777777778,
              "#fb9f3a"
             ],
             [
              0.8888888888888888,
              "#fdca26"
             ],
             [
              1,
              "#f0f921"
             ]
            ],
            "type": "contour"
           }
          ],
          "contourcarpet": [
           {
            "colorbar": {
             "outlinewidth": 0,
             "ticks": ""
            },
            "type": "contourcarpet"
           }
          ],
          "heatmap": [
           {
            "colorbar": {
             "outlinewidth": 0,
             "ticks": ""
            },
            "colorscale": [
             [
              0,
              "#0d0887"
             ],
             [
              0.1111111111111111,
              "#46039f"
             ],
             [
              0.2222222222222222,
              "#7201a8"
             ],
             [
              0.3333333333333333,
              "#9c179e"
             ],
             [
              0.4444444444444444,
              "#bd3786"
             ],
             [
              0.5555555555555556,
              "#d8576b"
             ],
             [
              0.6666666666666666,
              "#ed7953"
             ],
             [
              0.7777777777777778,
              "#fb9f3a"
             ],
             [
              0.8888888888888888,
              "#fdca26"
             ],
             [
              1,
              "#f0f921"
             ]
            ],
            "type": "heatmap"
           }
          ],
          "heatmapgl": [
           {
            "colorbar": {
             "outlinewidth": 0,
             "ticks": ""
            },
            "colorscale": [
             [
              0,
              "#0d0887"
             ],
             [
              0.1111111111111111,
              "#46039f"
             ],
             [
              0.2222222222222222,
              "#7201a8"
             ],
             [
              0.3333333333333333,
              "#9c179e"
             ],
             [
              0.4444444444444444,
              "#bd3786"
             ],
             [
              0.5555555555555556,
              "#d8576b"
             ],
             [
              0.6666666666666666,
              "#ed7953"
             ],
             [
              0.7777777777777778,
              "#fb9f3a"
             ],
             [
              0.8888888888888888,
              "#fdca26"
             ],
             [
              1,
              "#f0f921"
             ]
            ],
            "type": "heatmapgl"
           }
          ],
          "histogram": [
           {
            "marker": {
             "pattern": {
              "fillmode": "overlay",
              "size": 10,
              "solidity": 0.2
             }
            },
            "type": "histogram"
           }
          ],
          "histogram2d": [
           {
            "colorbar": {
             "outlinewidth": 0,
             "ticks": ""
            },
            "colorscale": [
             [
              0,
              "#0d0887"
             ],
             [
              0.1111111111111111,
              "#46039f"
             ],
             [
              0.2222222222222222,
              "#7201a8"
             ],
             [
              0.3333333333333333,
              "#9c179e"
             ],
             [
              0.4444444444444444,
              "#bd3786"
             ],
             [
              0.5555555555555556,
              "#d8576b"
             ],
             [
              0.6666666666666666,
              "#ed7953"
             ],
             [
              0.7777777777777778,
              "#fb9f3a"
             ],
             [
              0.8888888888888888,
              "#fdca26"
             ],
             [
              1,
              "#f0f921"
             ]
            ],
            "type": "histogram2d"
           }
          ],
          "histogram2dcontour": [
           {
            "colorbar": {
             "outlinewidth": 0,
             "ticks": ""
            },
            "colorscale": [
             [
              0,
              "#0d0887"
             ],
             [
              0.1111111111111111,
              "#46039f"
             ],
             [
              0.2222222222222222,
              "#7201a8"
             ],
             [
              0.3333333333333333,
              "#9c179e"
             ],
             [
              0.4444444444444444,
              "#bd3786"
             ],
             [
              0.5555555555555556,
              "#d8576b"
             ],
             [
              0.6666666666666666,
              "#ed7953"
             ],
             [
              0.7777777777777778,
              "#fb9f3a"
             ],
             [
              0.8888888888888888,
              "#fdca26"
             ],
             [
              1,
              "#f0f921"
             ]
            ],
            "type": "histogram2dcontour"
           }
          ],
          "mesh3d": [
           {
            "colorbar": {
             "outlinewidth": 0,
             "ticks": ""
            },
            "type": "mesh3d"
           }
          ],
          "parcoords": [
           {
            "line": {
             "colorbar": {
              "outlinewidth": 0,
              "ticks": ""
             }
            },
            "type": "parcoords"
           }
          ],
          "pie": [
           {
            "automargin": true,
            "type": "pie"
           }
          ],
          "scatter": [
           {
            "fillpattern": {
             "fillmode": "overlay",
             "size": 10,
             "solidity": 0.2
            },
            "type": "scatter"
           }
          ],
          "scatter3d": [
           {
            "line": {
             "colorbar": {
              "outlinewidth": 0,
              "ticks": ""
             }
            },
            "marker": {
             "colorbar": {
              "outlinewidth": 0,
              "ticks": ""
             }
            },
            "type": "scatter3d"
           }
          ],
          "scattercarpet": [
           {
            "marker": {
             "colorbar": {
              "outlinewidth": 0,
              "ticks": ""
             }
            },
            "type": "scattercarpet"
           }
          ],
          "scattergeo": [
           {
            "marker": {
             "colorbar": {
              "outlinewidth": 0,
              "ticks": ""
             }
            },
            "type": "scattergeo"
           }
          ],
          "scattergl": [
           {
            "marker": {
             "colorbar": {
              "outlinewidth": 0,
              "ticks": ""
             }
            },
            "type": "scattergl"
           }
          ],
          "scattermapbox": [
           {
            "marker": {
             "colorbar": {
              "outlinewidth": 0,
              "ticks": ""
             }
            },
            "type": "scattermapbox"
           }
          ],
          "scatterpolar": [
           {
            "marker": {
             "colorbar": {
              "outlinewidth": 0,
              "ticks": ""
             }
            },
            "type": "scatterpolar"
           }
          ],
          "scatterpolargl": [
           {
            "marker": {
             "colorbar": {
              "outlinewidth": 0,
              "ticks": ""
             }
            },
            "type": "scatterpolargl"
           }
          ],
          "scatterternary": [
           {
            "marker": {
             "colorbar": {
              "outlinewidth": 0,
              "ticks": ""
             }
            },
            "type": "scatterternary"
           }
          ],
          "surface": [
           {
            "colorbar": {
             "outlinewidth": 0,
             "ticks": ""
            },
            "colorscale": [
             [
              0,
              "#0d0887"
             ],
             [
              0.1111111111111111,
              "#46039f"
             ],
             [
              0.2222222222222222,
              "#7201a8"
             ],
             [
              0.3333333333333333,
              "#9c179e"
             ],
             [
              0.4444444444444444,
              "#bd3786"
             ],
             [
              0.5555555555555556,
              "#d8576b"
             ],
             [
              0.6666666666666666,
              "#ed7953"
             ],
             [
              0.7777777777777778,
              "#fb9f3a"
             ],
             [
              0.8888888888888888,
              "#fdca26"
             ],
             [
              1,
              "#f0f921"
             ]
            ],
            "type": "surface"
           }
          ],
          "table": [
           {
            "cells": {
             "fill": {
              "color": "#EBF0F8"
             },
             "line": {
              "color": "white"
             }
            },
            "header": {
             "fill": {
              "color": "#C8D4E3"
             },
             "line": {
              "color": "white"
             }
            },
            "type": "table"
           }
          ]
         },
         "layout": {
          "annotationdefaults": {
           "arrowcolor": "#2a3f5f",
           "arrowhead": 0,
           "arrowwidth": 1
          },
          "autotypenumbers": "strict",
          "coloraxis": {
           "colorbar": {
            "outlinewidth": 0,
            "ticks": ""
           }
          },
          "colorscale": {
           "diverging": [
            [
             0,
             "#8e0152"
            ],
            [
             0.1,
             "#c51b7d"
            ],
            [
             0.2,
             "#de77ae"
            ],
            [
             0.3,
             "#f1b6da"
            ],
            [
             0.4,
             "#fde0ef"
            ],
            [
             0.5,
             "#f7f7f7"
            ],
            [
             0.6,
             "#e6f5d0"
            ],
            [
             0.7,
             "#b8e186"
            ],
            [
             0.8,
             "#7fbc41"
            ],
            [
             0.9,
             "#4d9221"
            ],
            [
             1,
             "#276419"
            ]
           ],
           "sequential": [
            [
             0,
             "#0d0887"
            ],
            [
             0.1111111111111111,
             "#46039f"
            ],
            [
             0.2222222222222222,
             "#7201a8"
            ],
            [
             0.3333333333333333,
             "#9c179e"
            ],
            [
             0.4444444444444444,
             "#bd3786"
            ],
            [
             0.5555555555555556,
             "#d8576b"
            ],
            [
             0.6666666666666666,
             "#ed7953"
            ],
            [
             0.7777777777777778,
             "#fb9f3a"
            ],
            [
             0.8888888888888888,
             "#fdca26"
            ],
            [
             1,
             "#f0f921"
            ]
           ],
           "sequentialminus": [
            [
             0,
             "#0d0887"
            ],
            [
             0.1111111111111111,
             "#46039f"
            ],
            [
             0.2222222222222222,
             "#7201a8"
            ],
            [
             0.3333333333333333,
             "#9c179e"
            ],
            [
             0.4444444444444444,
             "#bd3786"
            ],
            [
             0.5555555555555556,
             "#d8576b"
            ],
            [
             0.6666666666666666,
             "#ed7953"
            ],
            [
             0.7777777777777778,
             "#fb9f3a"
            ],
            [
             0.8888888888888888,
             "#fdca26"
            ],
            [
             1,
             "#f0f921"
            ]
           ]
          },
          "colorway": [
           "#636efa",
           "#EF553B",
           "#00cc96",
           "#ab63fa",
           "#FFA15A",
           "#19d3f3",
           "#FF6692",
           "#B6E880",
           "#FF97FF",
           "#FECB52"
          ],
          "font": {
           "color": "#2a3f5f"
          },
          "geo": {
           "bgcolor": "white",
           "lakecolor": "white",
           "landcolor": "#E5ECF6",
           "showlakes": true,
           "showland": true,
           "subunitcolor": "white"
          },
          "hoverlabel": {
           "align": "left"
          },
          "hovermode": "closest",
          "mapbox": {
           "style": "light"
          },
          "paper_bgcolor": "white",
          "plot_bgcolor": "#E5ECF6",
          "polar": {
           "angularaxis": {
            "gridcolor": "white",
            "linecolor": "white",
            "ticks": ""
           },
           "bgcolor": "#E5ECF6",
           "radialaxis": {
            "gridcolor": "white",
            "linecolor": "white",
            "ticks": ""
           }
          },
          "scene": {
           "xaxis": {
            "backgroundcolor": "#E5ECF6",
            "gridcolor": "white",
            "gridwidth": 2,
            "linecolor": "white",
            "showbackground": true,
            "ticks": "",
            "zerolinecolor": "white"
           },
           "yaxis": {
            "backgroundcolor": "#E5ECF6",
            "gridcolor": "white",
            "gridwidth": 2,
            "linecolor": "white",
            "showbackground": true,
            "ticks": "",
            "zerolinecolor": "white"
           },
           "zaxis": {
            "backgroundcolor": "#E5ECF6",
            "gridcolor": "white",
            "gridwidth": 2,
            "linecolor": "white",
            "showbackground": true,
            "ticks": "",
            "zerolinecolor": "white"
           }
          },
          "shapedefaults": {
           "line": {
            "color": "#2a3f5f"
           }
          },
          "ternary": {
           "aaxis": {
            "gridcolor": "white",
            "linecolor": "white",
            "ticks": ""
           },
           "baxis": {
            "gridcolor": "white",
            "linecolor": "white",
            "ticks": ""
           },
           "bgcolor": "#E5ECF6",
           "caxis": {
            "gridcolor": "white",
            "linecolor": "white",
            "ticks": ""
           }
          },
          "title": {
           "x": 0.05
          },
          "xaxis": {
           "automargin": true,
           "gridcolor": "white",
           "linecolor": "white",
           "ticks": "",
           "title": {
            "standoff": 15
           },
           "zerolinecolor": "white",
           "zerolinewidth": 2
          },
          "yaxis": {
           "automargin": true,
           "gridcolor": "white",
           "linecolor": "white",
           "ticks": "",
           "title": {
            "standoff": 15
           },
           "zerolinecolor": "white",
           "zerolinewidth": 2
          }
         }
        },
        "title": {
         "text": "Average Trip Duration for Each Station"
        },
        "xaxis": {
         "anchor": "y",
         "autorange": true,
         "categoryorder": "total descending",
         "domain": [
          0,
          1
         ],
         "range": [
          -0.5,
          369.5
         ],
         "tickangle": -45,
         "title": {
          "text": "x"
         },
         "type": "linear"
        },
        "yaxis": {
         "anchor": "x",
         "autorange": true,
         "domain": [
          0,
          1
         ],
         "range": [
          0,
          21.720123763955346
         ],
         "title": {
          "text": "Average Trip Duration (minutes)"
         },
         "type": "linear"
        }
       }
      },
      "image/png": "[encoded data removed]",
      "text/html": [
       "<div>                            <div id=\"6c0d3e43-0f4b-4553-a14e-f4530d52ca9c\" class=\"plotly-graph-div\" style=\"height:525px; width:100%;\"></div>            <script type=\"text/javascript\">                require([\"plotly\"], function(Plotly) {                    window.PLOTLYENV=window.PLOTLYENV || {};                                    if (document.getElementById(\"6c0d3e43-0f4b-4553-a14e-f4530d52ca9c\")) {                    Plotly.newPlot(                        \"6c0d3e43-0f4b-4553-a14e-f4530d52ca9c\",                        [{\"alignmentgroup\":\"True\",\"customdata\":[[3,\"Triangle Car Park, Hyde Park\"],[3,\"Hyde Park Corner, Hyde Park\"],[3,\"Albert Gate, Hyde Park\"],[3,\"Victoria & Albert Museum, South Kensington\"],[3,\"Wellington Arch, Hyde Park\"],[3,\"Knightsbridge, Hyde Park\"],[3,\"Chelsea Green, Chelsea\"],[3,\"Holy Trinity Brompton, Knightsbridge\"],[3,\"Sloane Avenue, Knightsbridge\"],[3,\"Park Lane , Hyde Park\"],[0,\"Boston Place, Marylebone\"],[0,\"Crinan Street, King's Cross\"],[3,\"Montpelier Street, Knightsbridge\"],[2,\"Tower Gardens , Tower\"],[0,\"Charlbert Street, St. John's Wood\"],[0,\"Cloudesley Road, Angel\"],[3,\"St. Martin's Street, West End\"],[3,\"Storey's Gate, Westminster\"],[2,\"Harris Academy, Bermondsey\"],[3,\"Millbank Tower, Pimlico\"],[0,\"Greenberry Street, St.John's Wood\"],[0,\"St Mary's Hospital, Paddington\"],[2,\"Somerset House, Strand\"],[0,\"Southwick Street, Paddington\"],[3,\"Buckingham Gate, Westminster\"],[3,\"Albert Embankment, Vauxhall\"],[0,\"Killick Street, King's Cross\"],[3,\"Green Street, Mayfair\"],[3,\"Elizabeth Bridge, Victoria\"],[3,\"Millennium Hotel, Mayfair\"],[3,\"Embankment (Savoy), Strand\"],[3,\"Eaton Square (South), Belgravia\"],[3,\"Harriet Street, Knightsbridge\"],[3,\"Panton Street, West End\"],[3,\"Smith Square, Westminster\"],[1,\"Wellington Row, Bethnal Green\"],[0,\"St. John's Wood Church, The Regent's Park\"],[1,\"Buxton Street 1, Shoreditch\"],[0,\"Calshot Street , King's Cross\"],[3,\"Waterloo Place, St. James's\"],[3,\"Royal Avenue 2, Chelsea\"],[0,\"Birkenhead Street, King's Cross\"],[3,\"Northumberland Avenue, Strand\"],[3,\"Belgrave Square, Belgravia\"],[2,\"Crimscott Street, Bermondsey\"],[3,\"Cadogan Gardens, Chelsea\"],[1,\"Central House, Aldgate\"],[3,\"Allington Street, Victoria\"],[3,\"Seville Street, Knightsbridge\"],[3,\"Whitehall Place, Strand\"],[0,\"Broadley Terrace, Marylebone\"],[3,\"Royal Avenue 1, Chelsea\"],[0,\"Good's Way, King's Cross\"],[0,\"Doric Way , Somers Town\"],[3,\"Pall Mall East, West End\"],[0,\"Euston Square Gardens, Euston\"],[0,\"Sackville Street, Mayfair\"],[0,\"Frith Street, Soho\"],[3,\"Chicheley Street, South Bank\"],[3,\"Westminster Pier, Westminster\"],[3,\"Cadogan Place, Knightsbridge\"],[3,\"Charles II Street, West End\"],[1,\"Fournier Street, Whitechapel\"],[0,\"Dorset Square, Marylebone\"],[3,\"Bourne Street, Belgravia\"],[3,\"Pont Street, Knightsbridge\"],[3,\"Ebury Bridge, Pimlico\"],[3,\"Warwick Row, Westminster\"],[0,\"Endsleigh Gardens, Euston\"],[3,\"Vincent Square, Westminster\"],[3,\"Belgrave Road, Victoria\"],[2,\"Curlew Street, Shad Thames\"],[0,\"Seymour Place, Marylebone\"],[0,\"Westminster University, Marylebone\"],[0,\"Wardour Street, Soho\"],[2,\"Sancroft Street, Vauxhall\"],[1,\"St. Katharine's Way, Tower\"],[3,\"Kings Gate House, Westminster\"],[0,\"Broadwick Street, Soho\"],[3,\"Butler Place, Westminster\"],[1,\"Jewry Street, Aldgate\"],[1,\"Braham Street, Aldgate\"],[3,\"Abbey Orchard Street, Westminster\"],[1,\"St. Mary Axe, Aldgate\"],[0,\"St. Chad's Street, King's Cross\"],[1,\"Shoreditch High Street, Shoreditch\"],[0,\"Bell Street , Marylebone\"],[2,\"Walworth Square, Walworth\"],[2,\"Crosswall, Tower\"],[2,\"Lower Thames Street, Monument\"],[0,\"Bruton Street, Mayfair\"],[0,\"Moor Street, Soho\"],[0,\"Euston Road, Euston\"],[2,\"Rodney Road , Walworth\"],[2,\"Tyers Gate, Bermondsey\"],[2,\"Arundel Street, Temple\"],[0,\"Upper Grosvenor Street, Mayfair\"],[3,\"Farm Street, Mayfair\"],[3,\"Eccleston Place, Victoria\"],[0,\"Beaumont Street, Marylebone\"],[3,\"Grosvenor Crescent, Belgravia\"],[3,\"Abingdon Green, Westminster\"],[2,\"Kennington Cross, Kennington\"],[0,\"Argyle Street, Kings Cross\"],[0,\"Bedford Way, Bloomsbury\"],[3,\"Denyer Street, Knightsbridge\"],[1,\"Falkirk Street, Hoxton\"],[1,\"Brushfield Street, Liverpool Street\"],[0,\"Lincoln's Inn Fields, Holborn\"],[3,\"Gloucester Street, Pimlico\"],[0,\"Nutford Place, Marylebone\"],[3,\"North Audley Street, Mayfair\"],[2,\"Brandon Street, Walworth\"],[3,\"Horseferry Road, Westminster\"],[1,\"Christopher Street, Liverpool Street\"],[1,\"Finsbury Library , Finsbury\"],[3,\"St. James's Square, St. James's\"],[0,\"Harrowby Street, Marylebone\"],[0,\"Harrington Square 1, Camden Town\"],[2,\"Kennington Station, Kennington\"],[0,\"Golden Square, Soho\"],[1,\"Houndsditch, Aldgate\"],[0,\"Little Argyll Street, West End\"],[2,\"Hampton Street, Walworth\"],[0,\"Longford Street, The Regent's Park\"],[3,\"Temple Gardens, Temple\"],[2,\"Monument Street, Monument\"],[0,\"Waterloo Bridge, South Bank\"],[1,\"Columbia Road, Shoreditch\"],[1,\"Waterloo Station 2, Waterloo\"],[3,\"Clifford Street, Mayfair\"],[3,\"Park Lane, Mayfair\"],[3,\"Sedding Street, Sloane Square\"],[2,\"Tooley Street, Bermondsey\"],[1,\"Hoxton Station, Hoxton\"],[1,\"Worship Street, Shoreditch\"],[1,\"Northdown Street, King's Cross\"],[2,\"Wormwood Street, Liverpool Street\"],[3,\"Southampton Street, Strand\"],[3,\"Green Park Station, Mayfair\"],[2,\"Concert Hall Approach 1, South Bank\"],[2,\"Great Dover Street, The Borough\"],[1,\"Waterloo Station 3, Waterloo\"],[2,\"Park Street, Bankside\"],[2,\"Strand, Strand\"],[2,\"Black Prince Road, Vauxhall\"],[3,\"Stanhope Gate, Mayfair\"],[1,\"Finsbury Square , Moorgate\"],[2,\"Bermondsey Street, Bermondsey\"],[0,\"Hinde Street, Marylebone\"],[3,\"St. George Street, Mayfair\"],[3,\"Tachbrook Street, Victoria\"],[0,\"Tavistock Street, Covent Garden\"],[2,\"Great Tower Street, Monument\"],[0,\"Soho Square , Soho\"],[0,\"Porchester Place, Paddington\"],[0,\"New Cavendish Street, Marylebone\"],[3,\"Curzon Street, Mayfair\"],[0,\"Ossulston Street, Somers Town\"],[2,\"Cotton Garden Estate, Kennington\"],[1,\"Graham Street, Angel\"],[3,\"Page Street, Westminster\"],[1,\"New Inn Yard, Shoreditch\"],[0,\"Eversholt Street , Camden Town\"],[3,\"South Audley Street, Mayfair\"],[1,\"Murray Grove , Hoxton\"],[1,\"Commercial Street, Shoreditch\"],[3,\"Howick Place, Westminster\"],[2,\"Walnut Tree Walk, Vauxhall\"],[3,\"Clarges Street, Mayfair\"],[0,\"Risinghill Street, Angel\"],[0,\"Great Russell Street, Bloomsbury\"],[2,\"Kingsway Southbound, Strand\"],[1,\"Norton Folgate, Liverpool Street\"],[2,\"Houghton Street, Strand\"],[3,\"Grafton Street, Mayfair\"],[0,\"Chapel Place, Marylebone\"],[1,\"Finsbury Circus, Liverpool Street\"],[2,\"Belvedere Road 2, South Bank\"],[0,\"Portman Square, Marylebone\"],[1,\"Baldwin Street, St. Luke's\"],[0,\"Pancras Road, King's Cross\"],[1,\"Farringdon Lane, Clerkenwell\"],[2,\"Leman Street, Aldgate\"],[0,\"Earnshaw Street , Covent Garden\"],[2,\"Portugal Street, Holborn\"],[3,\"Warwick Square, Pimlico\"],[3,\"Craven Street, Strand\"],[0,\"The Tennis Courts, The Regent's Park\"],[1,\"Waterloo Station 1, Waterloo\"],[0,\"Edgware Road Station, Marylebone\"],[0,\"Crawford Street, Marylebone\"],[0,\"William IV Street, Strand\"],[2,\"Tower Wharf, Bermondsey\"],[1,\"Wood Street, Guildhall\"],[1,\"Concert Hall Approach 2, South Bank\"],[3,\"Fire Brigade Pier, Vauxhall\"],[1,\"Belvedere Road 1, South Bank\"],[2,\"Strata, Elephant & Castle\"],[2,\"Victory Place, Walworth\"],[1,\"Granby Street, Shoreditch\"],[2,\"New Kent Road, The Borough\"],[2,\"Bricklayers Arms, Borough\"],[0,\"Drummond Street , Euston\"],[0,\"Old Quebec Street, Marylebone\"],[1,\"Brick Lane Market, Shoreditch\"],[2,\"Long Lane , Bermondsey\"],[0,\"Bury Place, Holborn\"],[2,\"Tate Modern, Bankside\"],[2,\"Waterloo Road, South Bank\"],[0,\"George Street, Marylebone\"],[2,\"Swan Street, The Borough\"],[2,\"Wellington Street , Strand\"],[2,\"Geraldine Street, Elephant & Castle\"],[0,\"Broadcasting House, Marylebone\"],[0,\"Paddington Street, Marylebone\"],[1,\"Bank of England Museum, Bank\"],[0,\"Drury Lane, Covent Garden\"],[0,\"Kingsway, Covent Garden\"],[0,\"Park Road (Baker Street), The Regent's Park\"],[1,\"Chadwell Street, Angel\"],[0,\"Malet Street, Bloomsbury\"],[3,\"Woodstock Street, Mayfair\"],[2,\"Union Street, The Borough\"],[2,\"King Edward Walk, Waterloo\"],[1,\"Pitfield Street Central, Hoxton\"],[1,\"Pindar Street, Liverpool Street\"],[1,\"Clifton Street, Shoreditch\"],[2,\"Snowsfields, London Bridge\"],[2,\"Tanner Street, Bermondsey\"],[3,\"Regency Street, Westminster\"],[1,\"Sun Street, Liverpool Street\"],[0,\"Wells Street, Fitzrovia\"],[2,\"St. Bride Street, Holborn\"],[2,\"Lambeth Palace Road, Waterloo\"],[2,\"Borough High Street, The Borough\"],[1,\"Goswell Road (City Uni), Finsbury\"],[0,\"Gower Place , Euston\"],[2,\"Duke Street Hill, London Bridge\"],[1,\"Barbican Centre, Barbican\"],[1,\"Eagle Wharf Road, Hoxton\"],[3,\"Vincent Street, Pimlico\"],[1,\"Fashion Street, Whitechapel\"],[1,\"Bell Lane, Liverpool Street\"],[1,\"Fanshaw Street, Hoxton\"],[1,\"The Guildhall, Guildhall\"],[0,\"Baker Street, Marylebone\"],[2,\"Bouverie Street, Temple\"],[2,\"Carey Street, Holborn\"],[0,\"Guilford Street , Bloomsbury\"],[2,\"Queen Street 1, Bank\"],[2,\"Tallis Street, Temple\"],[0,\"Cromer Street, Bloomsbury\"],[0,\"Hampstead Road, Euston\"],[0,\"Newton Street, Covent Garden\"],[2,\"New Globe Walk, Bankside\"],[0,\"Taviton Street, Bloomsbury\"],[1,\"Macclesfield Rd, St Lukes\"],[1,\"Cheapside, Bank\"],[1,\"Clerkenwell Green, Clerkenwell\"],[2,\"Poured Lines, Bankside\"],[0,\"Great Titchfield Street, Fitzrovia\"],[0,\"Coram Street, Bloomsbury\"],[2,\"Sail Street, Vauxhall\"],[0,\"Portland Place, Marylebone\"],[0,\"Store Street, Bloomsbury\"],[0,\"Scala Street, Fitzrovia\"],[2,\"Stamford Street, South Bank\"],[0,\"Southampton Place, Holborn\"],[1,\"Holborn Circus, Holborn\"],[3,\"Ashley Place, Victoria\"],[0,\"Foley Street, Fitzrovia\"],[1,\"Fore Street, Guildhall\"],[1,\"Newgate Street , St. Paul's\"],[1,\"West Smithfield Rotunda, Farringdon\"],[2,\"Queen Street 2, Bank\"],[1,\"Breams Buildings, Holborn\"],[2,\"Harper Road, The Borough\"],[1,\"Farringdon Street, Holborn\"],[2,\"Gaywood  Street, Elephant & Castle\"],[1,\"Queen Victoria Street, St. Paul's\"],[1,\"Berry Street, Clerkenwell\"],[0,\"St. John Street, Finsbury\"],[0,\"Tavistock Place, Bloomsbury\"],[1,\"Leonard Circus , Shoreditch\"],[1,\"Fore Street Avenue, Guildhall\"],[1,\"Percival Street, Finsbury\"],[2,\"Hop Exchange, The Borough\"],[0,\"Russell Square Station, Bloomsbury\"],[3,\"Guildhouse Street, Victoria\"],[0,\"Great Percy Street, Clerkenwell\"],[0,\"British Museum, Bloomsbury\"],[0,\"Bayley Street , Bloomsbury\"],[1,\"Windsor Terrace, Hoxton\"],[1,\"Hatton Wall, Holborn\"],[1,\"Moorfields, Moorgate\"],[1,\"Godliman Street, St. Paul's\"],[2,\"Southwark Station 2, Southwark\"],[0,\"High Holborn , Covent Garden\"],[3,\"Rochester Row, Westminster\"],[0,\"Howland Street, Fitzrovia\"],[2,\"Lower Marsh, Waterloo\"],[1,\"New North Road 2, Hoxton\"],[3,\"Rampayne Street, Pimlico\"],[2,\"Lambeth Road, Vauxhall\"],[2,\"Hardwick Street, Clerkenwell\"],[1,\"Snow Hill, Farringdon\"],[0,\"Bolsover Street, Fitzrovia\"],[2,\"LSBU (Borough Road), Elephant & Castle\"],[0,\"Charlotte Street, Fitzrovia\"],[2,\"Blackfriars Road, Southwark\"],[2,\"Lollard Street, Vauxhall\"],[1,\"Bethnal Green Road, Shoreditch\"],[0,\"Marylebone Lane, Marylebone\"],[2,\"Kennington Road, Vauxhall\"],[2,\"Westminster Bridge Road, Elephant & Castle\"],[0,\"Margery Street, Clerkenwell\"],[0,\"George Place Mews, Marylebone\"],[1,\"Tysoe Street, Clerkenwell\"],[1,\"Museum of London, Barbican\"],[1,\"City Road, Angel\"],[2,\"Empire Square, The Borough\"],[1,\"Palissy Street, Shoreditch\"],[0,\"Red Lion Street, Holborn\"],[2,\"Archbishop's Park, Waterloo\"],[0,\"Northington Street , Holborn\"],[0,\"Cartwright Gardens , Bloomsbury\"],[0,\"Shouldham Street, Marylebone\"],[3,\"Grosvenor Square, Mayfair\"],[1,\"New Fetter Lane, Holborn\"],[2,\"Colombo Street, Southwark\"],[2,\"Ontario Street, Elephant & Castle\"],[1,\"Wenlock Road , Hoxton\"],[2,\"Great Suffolk Street, The Borough\"],[1,\"River Street , Clerkenwell\"],[2,\"Baylis Road, Waterloo\"],[0,\"Rathbone Street, Fitzrovia\"],[2,\"Webber Street , Southwark\"],[2,\"Bankside Mix, Bankside\"],[1,\"Claremont Square, Angel\"],[1,\"Bunhill Row, Moorgate\"],[1,\"Golden Lane, Barbican\"],[1,\"Hatton Garden, Holborn\"],[1,\"Blackfriars Station, St. Paul's\"],[0,\"Mallory Street, Marylebone\"],[0,\"Warren Street Station, Euston\"],[2,\"Borough Road, Elephant & Castle\"],[0,\"Red Lion Square, Holborn\"],[3,\"Greycoat Street , Westminster\"],[0,\"Albany Street, The Regent's Park\"],[0,\"Theobald's Road , Holborn\"],[1,\"Bath Street, St. Luke's\"],[3,\"Queen Mother Sports Centre, Victoria\"],[1,\"Hoxton Street, Hoxton\"],[1,\"King Edward Street, St Pauls\"],[2,\"Southwark Street, Bankside\"],[2,\"Sea Containers, South Bank\"],[2,\"Milroy Walk, South Bank\"],[2,\"Lambeth North Station, Waterloo\"],[1,\"Sadlers Sports Centre, Finsbury\"],[0,\"Brunswick Square, Bloomsbury\"],[2,\"Dickens Square, Borough\"],[0,\"Ampton Street , Clerkenwell\"],[1,\"Old Street Station, St. Luke's\"],[1,\"Finsbury Leisure Centre, St. Luke's\"],[1,\"Torrens Street, Angel\"],[1,\"Roscoe Street, St. Luke's\"],[1,\"Aldersgate Street, Barbican\"],[2,\"Lavington Street, Bankside\"],[0,\"Wren Street, Holborn\"]],\"hovertemplate\":\"x=%{x}<br>Average Trip Duration (minutes)=%{y}<br>Community=%{customdata[0]}<br>Station Name=%{customdata[1]}<extra></extra>\",\"legendgroup\":\"\",\"marker\":{\"color\":\"#636efa\",\"pattern\":{\"shape\":\"\"}},\"name\":\"\",\"offsetgroup\":\"\",\"orientation\":\"v\",\"showlegend\":false,\"textposition\":\"auto\",\"x\":[0,1,2,3,4,5,6,7,8,9,10,11,12,13,14,15,16,17,18,19,20,21,22,23,24,25,26,27,28,29,30,31,32,33,34,35,36,37,38,39,40,41,42,43,44,45,46,47,48,49,50,51,52,53,54,55,56,57,58,59,60,61,62,63,64,65,66,67,68,69,70,71,72,73,74,75,76,77,78,79,80,81,82,83,84,85,86,87,88,89,90,91,92,93,94,95,96,97,98,99,100,101,102,103,104,105,106,107,108,109,110,111,112,113,114,115,116,117,118,119,120,121,122,123,124,125,126,127,128,129,130,131,132,133,134,135,136,137,138,139,140,141,142,143,144,145,146,147,148,149,150,151,152,153,154,155,156,157,158,159,160,161,162,163,164,165,166,167,168,169,170,171,172,173,174,175,176,177,178,179,180,181,182,183,184,185,186,187,188,189,190,191,192,193,194,195,196,197,198,199,200,201,202,203,204,205,206,207,208,209,210,211,212,213,214,215,216,217,218,219,220,221,222,223,224,225,226,227,228,229,230,231,232,233,234,235,236,237,238,239,240,241,242,243,244,245,246,247,248,249,250,251,252,253,254,255,256,257,258,259,260,261,262,263,264,265,266,267,268,269,270,271,272,273,274,275,276,277,278,279,280,281,282,283,284,285,286,287,288,289,290,291,292,293,294,295,296,297,298,299,300,301,302,303,304,305,306,307,308,309,310,311,312,313,314,315,316,317,318,319,320,321,322,323,324,325,326,327,328,329,330,331,332,333,334,335,336,337,338,339,340,341,342,343,344,345,346,347,348,349,350,351,352,353,354,355,356,357,358,359,360,361,362,363,364,365,366,367,368,369],\"xaxis\":\"x\",\"y\":[20.63411757575758,19.69689488146552,18.9102945450325,18.437003019323672,17.24763807017544,16.63806607981221,16.026861139896372,15.98801695303551,15.909491441441444,15.798558748615726,15.536065084388186,15.3786977582846,14.862498976608189,14.859454446935723,14.713701421568627,14.621247678916829,14.593147429078016,14.47742998643148,14.391644708994708,14.370588033072236,14.233836653116532,14.082784317585302,14.054673809523807,13.99659305993691,13.99119175531915,13.959423139158575,13.815835104166666,13.810433333333334,13.781665772870662,13.71402194616977,13.689936972343522,13.629813194444443,13.601198018648018,13.570328790613718,13.56950634218289,13.545220496894409,13.47099454277286,13.406285507246375,13.395234356725148,13.390323686594202,13.339894,13.338294685039369,13.327036735870818,13.326297480620156,13.31274074415744,13.30925611270296,13.305755468749998,13.2840659447983,13.25667036441586,13.227387721518989,13.215734964539006,13.195959375,13.189450112233445,13.18820863095238,13.162847777777776,13.145808147229117,13.145583479212254,13.11176572258533,13.060491216216215,13.058196085858588,13.053337988826817,13.000132640949555,12.9931096082779,12.901656095366622,12.879369562146891,12.87345923566879,12.870577097130244,12.858923300515704,12.843462660098522,12.825592723004696,12.800620904761908,12.791614932126697,12.775936625514404,12.735202146892656,12.729814935364727,12.687792680776017,12.6669810741688,12.598711485319516,12.587061954887217,12.578535747663553,12.578007575757574,12.568439026305455,12.546101941097724,12.528690501792116,12.521448881036514,12.51966054131054,12.50980468238376,12.506061175616836,12.505401747088186,12.46991499238965,12.463046392496391,12.462855285592497,12.456185560504826,12.452841058052435,12.451201699346404,12.44655904882155,12.442597701149426,12.439524545454544,12.407138926746166,12.402989334521688,12.40014398148148,12.369195055821372,12.357153234445818,12.347226738657971,12.324591748768473,12.324127397260275,12.317612787015044,12.294025538502964,12.289443499197432,12.280529232804234,12.275632242990651,12.250306172839506,12.241443827160492,12.240284884376765,12.225659279881215,12.216820858283432,12.184996556473829,12.18205745341615,12.152932584916524,12.1451593164794,12.135774537037038,12.117202911877396,12.113558688340808,12.111144855072464,12.07134043478261,12.048592735042735,12.043920652173911,12.0111235395189,12.005709675281643,12.00276331920904,11.997567768595042,11.982140015723273,11.967005747126436,11.956944602272728,11.953028095238096,11.94824284682081,11.938303850574712,11.904980211062592,11.893836747361886,11.882406572029442,11.873945082815736,11.84108381492948,11.837159401159049,11.825276758409784,11.787231791802684,11.785819793681496,11.764355147058822,11.75628896434635,11.753420980639731,11.749213822751324,11.730714024975985,11.711519569471625,11.706297036474163,11.69973405211141,11.692251698960966,11.688608877192982,11.66659590909091,11.652692944038929,11.628342331980152,11.619499441580755,11.618391274113954,11.612603790688093,11.6076831372549,11.598212559890486,11.581389678030304,11.576527757009346,11.575488828502415,11.573048690671031,11.54887,11.535595528455286,11.511125958702063,11.50932304964539,11.500639165409751,11.493403885257807,11.478630129516018,11.477442496392497,11.470273523622048,11.459230885873904,11.456875095238097,11.45146292237443,11.439908943630716,11.438544911504426,11.436997270742358,11.436538007736944,11.432753328092245,11.404631626319055,11.37556143678161,11.349705349794238,11.347669027181688,11.34599991621984,11.319287690355331,11.313669021065676,11.29908540462428,11.298212663645518,11.279789454094292,11.259093770226537,11.184304110813226,11.178658210007049,11.126069458653026,11.125930595581172,11.123582817460315,11.086790457516338,11.081990457142856,11.073952058590656,11.070898412698412,11.065195381526104,11.057533800350264,11.053917717717718,11.046224906367042,11.044300694444445,11.043920437405731,11.032591305655837,11.030289583333332,11.02297911010558,11.01007701754386,11.001029821627649,10.97551186299081,10.974117174925878,10.957002959501558,10.956412957074722,10.956288105835808,10.92171636927851,10.91944138176638,10.916403505291004,10.890005450733751,10.875045158450703,10.874857671957672,10.859205,10.850555855855855,10.847243515981736,10.8284126118068,10.827498037918872,10.824703400083438,10.821492267050912,10.818946283909328,10.802685912698411,10.790084523809524,10.779593350908026,10.750595736683849,10.748691489361702,10.732309981684985,10.726333093278464,10.71681984375,10.712705086206896,10.712488965341487,10.70074773755656,10.687375396825397,10.659045486111111,10.64538000801282,10.635311651234568,10.63369769144144,10.594089265536724,10.591057468123864,10.57693735561056,10.5712225024728,10.560518181818182,10.549569291338583,10.5438068119891,10.543668960734102,10.49949078313253,10.493100058892814,10.48597355944566,10.476397775628628,10.44738466152528,10.445107326621924,10.442294279946164,10.44048517495396,10.438342931937171,10.426805335731416,10.424626738505747,10.391139217557251,10.356658894105372,10.34389796137339,10.337676784605836,10.336626487314083,10.325329417670684,10.310440213010938,10.307341287878788,10.282467140825036,10.274810687593424,10.274314655760056,10.2675906,10.25508878066378,10.254399613899617,10.237277510548523,10.226351218637992,10.225203578892373,10.218075893973491,10.211304342273309,10.209426363636364,10.2006998820059,10.190676425269643,10.188376433807676,10.183453765323993,10.183206392950884,10.182253013910357,10.17495494949495,10.174139652448655,10.162826733084268,10.145411656746033,10.143978618693136,10.139250601202404,10.13107064137308,10.128784277879342,10.110647147147146,10.081563244444444,10.081035508308895,10.069429269125685,10.068121028037384,10.064893127572017,10.055948767605637,10.012386439499304,10.009399164054336,10.002045728291318,9.991677766393444,9.9916765993266,9.991616111111112,9.912214459930311,9.905134930777423,9.89990157635468,9.890634987277354,9.862063802816902,9.845031153846154,9.823243917155905,9.821217196969696,9.77470236318408,9.765493888888887,9.734109462151393,9.721598235840297,9.713696590909093,9.695333333333334,9.688901893939397,9.668227300724638,9.645729042553192,9.622572574447648,9.613289021956088,9.60407390438247,9.60175283171521,9.577408634175692,9.530552420856612,9.49316808647951,9.482394973544974,9.47612313463098,9.465255096935586,9.447733400267738,9.432813618030842,9.42811745852187,9.417960990990991,9.335421901709402,9.313987093495934,9.274792528044872,9.239832771867611,9.229954788838612,9.210738070776255,9.207239268292684,9.172062098393576,9.148184315008724,9.102381794294296,9.063836706349203,9.030423599240269,9.011405669099757,8.932865077071291,8.900851131687244,8.89323378085164,8.851862636439966,8.829479894179894,8.829067490494296,8.689902698032961,8.500658561643835,8.367335905680601],\"yaxis\":\"y\",\"type\":\"bar\"}],                        {\"template\":{\"data\":{\"histogram2dcontour\":[{\"type\":\"histogram2dcontour\",\"colorbar\":{\"outlinewidth\":0,\"ticks\":\"\"},\"colorscale\":[[0.0,\"#0d0887\"],[0.1111111111111111,\"#46039f\"],[0.2222222222222222,\"#7201a8\"],[0.3333333333333333,\"#9c179e\"],[0.4444444444444444,\"#bd3786\"],[0.5555555555555556,\"#d8576b\"],[0.6666666666666666,\"#ed7953\"],[0.7777777777777778,\"#fb9f3a\"],[0.8888888888888888,\"#fdca26\"],[1.0,\"#f0f921\"]]}],\"choropleth\":[{\"type\":\"choropleth\",\"colorbar\":{\"outlinewidth\":0,\"ticks\":\"\"}}],\"histogram2d\":[{\"type\":\"histogram2d\",\"colorbar\":{\"outlinewidth\":0,\"ticks\":\"\"},\"colorscale\":[[0.0,\"#0d0887\"],[0.1111111111111111,\"#46039f\"],[0.2222222222222222,\"#7201a8\"],[0.3333333333333333,\"#9c179e\"],[0.4444444444444444,\"#bd3786\"],[0.5555555555555556,\"#d8576b\"],[0.6666666666666666,\"#ed7953\"],[0.7777777777777778,\"#fb9f3a\"],[0.8888888888888888,\"#fdca26\"],[1.0,\"#f0f921\"]]}],\"heatmap\":[{\"type\":\"heatmap\",\"colorbar\":{\"outlinewidth\":0,\"ticks\":\"\"},\"colorscale\":[[0.0,\"#0d0887\"],[0.1111111111111111,\"#46039f\"],[0.2222222222222222,\"#7201a8\"],[0.3333333333333333,\"#9c179e\"],[0.4444444444444444,\"#bd3786\"],[0.5555555555555556,\"#d8576b\"],[0.6666666666666666,\"#ed7953\"],[0.7777777777777778,\"#fb9f3a\"],[0.8888888888888888,\"#fdca26\"],[1.0,\"#f0f921\"]]}],\"heatmapgl\":[{\"type\":\"heatmapgl\",\"colorbar\":{\"outlinewidth\":0,\"ticks\":\"\"},\"colorscale\":[[0.0,\"#0d0887\"],[0.1111111111111111,\"#46039f\"],[0.2222222222222222,\"#7201a8\"],[0.3333333333333333,\"#9c179e\"],[0.4444444444444444,\"#bd3786\"],[0.5555555555555556,\"#d8576b\"],[0.6666666666666666,\"#ed7953\"],[0.7777777777777778,\"#fb9f3a\"],[0.8888888888888888,\"#fdca26\"],[1.0,\"#f0f921\"]]}],\"contourcarpet\":[{\"type\":\"contourcarpet\",\"colorbar\":{\"outlinewidth\":0,\"ticks\":\"\"}}],\"contour\":[{\"type\":\"contour\",\"colorbar\":{\"outlinewidth\":0,\"ticks\":\"\"},\"colorscale\":[[0.0,\"#0d0887\"],[0.1111111111111111,\"#46039f\"],[0.2222222222222222,\"#7201a8\"],[0.3333333333333333,\"#9c179e\"],[0.4444444444444444,\"#bd3786\"],[0.5555555555555556,\"#d8576b\"],[0.6666666666666666,\"#ed7953\"],[0.7777777777777778,\"#fb9f3a\"],[0.8888888888888888,\"#fdca26\"],[1.0,\"#f0f921\"]]}],\"surface\":[{\"type\":\"surface\",\"colorbar\":{\"outlinewidth\":0,\"ticks\":\"\"},\"colorscale\":[[0.0,\"#0d0887\"],[0.1111111111111111,\"#46039f\"],[0.2222222222222222,\"#7201a8\"],[0.3333333333333333,\"#9c179e\"],[0.4444444444444444,\"#bd3786\"],[0.5555555555555556,\"#d8576b\"],[0.6666666666666666,\"#ed7953\"],[0.7777777777777778,\"#fb9f3a\"],[0.8888888888888888,\"#fdca26\"],[1.0,\"#f0f921\"]]}],\"mesh3d\":[{\"type\":\"mesh3d\",\"colorbar\":{\"outlinewidth\":0,\"ticks\":\"\"}}],\"scatter\":[{\"fillpattern\":{\"fillmode\":\"overlay\",\"size\":10,\"solidity\":0.2},\"type\":\"scatter\"}],\"parcoords\":[{\"type\":\"parcoords\",\"line\":{\"colorbar\":{\"outlinewidth\":0,\"ticks\":\"\"}}}],\"scatterpolargl\":[{\"type\":\"scatterpolargl\",\"marker\":{\"colorbar\":{\"outlinewidth\":0,\"ticks\":\"\"}}}],\"bar\":[{\"error_x\":{\"color\":\"#2a3f5f\"},\"error_y\":{\"color\":\"#2a3f5f\"},\"marker\":{\"line\":{\"color\":\"#E5ECF6\",\"width\":0.5},\"pattern\":{\"fillmode\":\"overlay\",\"size\":10,\"solidity\":0.2}},\"type\":\"bar\"}],\"scattergeo\":[{\"type\":\"scattergeo\",\"marker\":{\"colorbar\":{\"outlinewidth\":0,\"ticks\":\"\"}}}],\"scatterpolar\":[{\"type\":\"scatterpolar\",\"marker\":{\"colorbar\":{\"outlinewidth\":0,\"ticks\":\"\"}}}],\"histogram\":[{\"marker\":{\"pattern\":{\"fillmode\":\"overlay\",\"size\":10,\"solidity\":0.2}},\"type\":\"histogram\"}],\"scattergl\":[{\"type\":\"scattergl\",\"marker\":{\"colorbar\":{\"outlinewidth\":0,\"ticks\":\"\"}}}],\"scatter3d\":[{\"type\":\"scatter3d\",\"line\":{\"colorbar\":{\"outlinewidth\":0,\"ticks\":\"\"}},\"marker\":{\"colorbar\":{\"outlinewidth\":0,\"ticks\":\"\"}}}],\"scattermapbox\":[{\"type\":\"scattermapbox\",\"marker\":{\"colorbar\":{\"outlinewidth\":0,\"ticks\":\"\"}}}],\"scatterternary\":[{\"type\":\"scatterternary\",\"marker\":{\"colorbar\":{\"outlinewidth\":0,\"ticks\":\"\"}}}],\"scattercarpet\":[{\"type\":\"scattercarpet\",\"marker\":{\"colorbar\":{\"outlinewidth\":0,\"ticks\":\"\"}}}],\"carpet\":[{\"aaxis\":{\"endlinecolor\":\"#2a3f5f\",\"gridcolor\":\"white\",\"linecolor\":\"white\",\"minorgridcolor\":\"white\",\"startlinecolor\":\"#2a3f5f\"},\"baxis\":{\"endlinecolor\":\"#2a3f5f\",\"gridcolor\":\"white\",\"linecolor\":\"white\",\"minorgridcolor\":\"white\",\"startlinecolor\":\"#2a3f5f\"},\"type\":\"carpet\"}],\"table\":[{\"cells\":{\"fill\":{\"color\":\"#EBF0F8\"},\"line\":{\"color\":\"white\"}},\"header\":{\"fill\":{\"color\":\"#C8D4E3\"},\"line\":{\"color\":\"white\"}},\"type\":\"table\"}],\"barpolar\":[{\"marker\":{\"line\":{\"color\":\"#E5ECF6\",\"width\":0.5},\"pattern\":{\"fillmode\":\"overlay\",\"size\":10,\"solidity\":0.2}},\"type\":\"barpolar\"}],\"pie\":[{\"automargin\":true,\"type\":\"pie\"}]},\"layout\":{\"autotypenumbers\":\"strict\",\"colorway\":[\"#636efa\",\"#EF553B\",\"#00cc96\",\"#ab63fa\",\"#FFA15A\",\"#19d3f3\",\"#FF6692\",\"#B6E880\",\"#FF97FF\",\"#FECB52\"],\"font\":{\"color\":\"#2a3f5f\"},\"hovermode\":\"closest\",\"hoverlabel\":{\"align\":\"left\"},\"paper_bgcolor\":\"white\",\"plot_bgcolor\":\"#E5ECF6\",\"polar\":{\"bgcolor\":\"#E5ECF6\",\"angularaxis\":{\"gridcolor\":\"white\",\"linecolor\":\"white\",\"ticks\":\"\"},\"radialaxis\":{\"gridcolor\":\"white\",\"linecolor\":\"white\",\"ticks\":\"\"}},\"ternary\":{\"bgcolor\":\"#E5ECF6\",\"aaxis\":{\"gridcolor\":\"white\",\"linecolor\":\"white\",\"ticks\":\"\"},\"baxis\":{\"gridcolor\":\"white\",\"linecolor\":\"white\",\"ticks\":\"\"},\"caxis\":{\"gridcolor\":\"white\",\"linecolor\":\"white\",\"ticks\":\"\"}},\"coloraxis\":{\"colorbar\":{\"outlinewidth\":0,\"ticks\":\"\"}},\"colorscale\":{\"sequential\":[[0.0,\"#0d0887\"],[0.1111111111111111,\"#46039f\"],[0.2222222222222222,\"#7201a8\"],[0.3333333333333333,\"#9c179e\"],[0.4444444444444444,\"#bd3786\"],[0.5555555555555556,\"#d8576b\"],[0.6666666666666666,\"#ed7953\"],[0.7777777777777778,\"#fb9f3a\"],[0.8888888888888888,\"#fdca26\"],[1.0,\"#f0f921\"]],\"sequentialminus\":[[0.0,\"#0d0887\"],[0.1111111111111111,\"#46039f\"],[0.2222222222222222,\"#7201a8\"],[0.3333333333333333,\"#9c179e\"],[0.4444444444444444,\"#bd3786\"],[0.5555555555555556,\"#d8576b\"],[0.6666666666666666,\"#ed7953\"],[0.7777777777777778,\"#fb9f3a\"],[0.8888888888888888,\"#fdca26\"],[1.0,\"#f0f921\"]],\"diverging\":[[0,\"#8e0152\"],[0.1,\"#c51b7d\"],[0.2,\"#de77ae\"],[0.3,\"#f1b6da\"],[0.4,\"#fde0ef\"],[0.5,\"#f7f7f7\"],[0.6,\"#e6f5d0\"],[0.7,\"#b8e186\"],[0.8,\"#7fbc41\"],[0.9,\"#4d9221\"],[1,\"#276419\"]]},\"xaxis\":{\"gridcolor\":\"white\",\"linecolor\":\"white\",\"ticks\":\"\",\"title\":{\"standoff\":15},\"zerolinecolor\":\"white\",\"automargin\":true,\"zerolinewidth\":2},\"yaxis\":{\"gridcolor\":\"white\",\"linecolor\":\"white\",\"ticks\":\"\",\"title\":{\"standoff\":15},\"zerolinecolor\":\"white\",\"automargin\":true,\"zerolinewidth\":2},\"scene\":{\"xaxis\":{\"backgroundcolor\":\"#E5ECF6\",\"gridcolor\":\"white\",\"linecolor\":\"white\",\"showbackground\":true,\"ticks\":\"\",\"zerolinecolor\":\"white\",\"gridwidth\":2},\"yaxis\":{\"backgroundcolor\":\"#E5ECF6\",\"gridcolor\":\"white\",\"linecolor\":\"white\",\"showbackground\":true,\"ticks\":\"\",\"zerolinecolor\":\"white\",\"gridwidth\":2},\"zaxis\":{\"backgroundcolor\":\"#E5ECF6\",\"gridcolor\":\"white\",\"linecolor\":\"white\",\"showbackground\":true,\"ticks\":\"\",\"zerolinecolor\":\"white\",\"gridwidth\":2}},\"shapedefaults\":{\"line\":{\"color\":\"#2a3f5f\"}},\"annotationdefaults\":{\"arrowcolor\":\"#2a3f5f\",\"arrowhead\":0,\"arrowwidth\":1},\"geo\":{\"bgcolor\":\"white\",\"landcolor\":\"#E5ECF6\",\"subunitcolor\":\"white\",\"showland\":true,\"showlakes\":true,\"lakecolor\":\"white\"},\"title\":{\"x\":0.05},\"mapbox\":{\"style\":\"light\"}}},\"xaxis\":{\"anchor\":\"y\",\"domain\":[0.0,1.0],\"title\":{\"text\":\"x\"},\"categoryorder\":\"total descending\",\"tickangle\":-45},\"yaxis\":{\"anchor\":\"x\",\"domain\":[0.0,1.0],\"title\":{\"text\":\"Average Trip Duration (minutes)\"}},\"legend\":{\"tracegroupgap\":0},\"title\":{\"text\":\"Average Trip Duration for Each Station\"},\"barmode\":\"relative\"},                        {\"responsive\": true}                    ).then(function(){\n",
       "                            \n",
       "var gd = document.getElementById('6c0d3e43-0f4b-4553-a14e-f4530d52ca9c');\n",
       "var x = new MutationObserver(function (mutations, observer) {{\n",
       "        var display = window.getComputedStyle(gd).display;\n",
       "        if (!display || display === 'none') {{\n",
       "            console.log([gd, 'removed!']);\n",
       "            Plotly.purge(gd);\n",
       "            observer.disconnect();\n",
       "        }}\n",
       "}});\n",
       "\n",
       "// Listen for the removal of the full notebook cells\n",
       "var notebookContainer = gd.closest('#notebook-container');\n",
       "if (notebookContainer) {{\n",
       "    x.observe(notebookContainer, {childList: true});\n",
       "}}\n",
       "\n",
       "// Listen for the clearing of the current output cell\n",
       "var outputEl = gd.closest('.output');\n",
       "if (outputEl) {{\n",
       "    x.observe(outputEl, {childList: true});\n",
       "}}\n",
       "\n",
       "                        })                };                });            </script>        </div>"
      ]
     },
     "metadata": {},
     "output_type": "display_data"
    }
   ],
   "source": [
    "import pandas as pd\n",
    "import plotly.express as px\n",
    "\n",
    "# Load the dataset\n",
    "file_path = 'average_trip_duration_per_station.csv'  # Update this path as needed\n",
    "df = pd.read_csv(file_path)\n",
    "\n",
    "\n",
    "# Create a bar plot\n",
    "fig = px.bar(\n",
    "    df,\n",
    "    x=range(len(df)),\n",
    "    y='Average Trip Duration (minutes)',\n",
    "    title='Average Trip Duration for Each Station',\n",
    "    labels={'Station Name': 'Station Name', 'Average Trip Duration (minutes)': 'Average Trip Duration (minutes)'},\n",
    "    hover_data={'Community': True, 'Station Name': True},\n",
    ")\n",
    "\n",
    "# Rotate x-axis labels for better readability\n",
    "fig.update_layout(xaxis={'categoryorder': 'total descending'}, xaxis_tickangle=-45)\n",
    "\n",
    "# Show the plot\n",
    "fig.show()\n",
    "\n"
   ]
  },
  {
   "cell_type": "markdown",
   "id": "89caa968-9a28-4983-b26a-c9fb9aa25b24",
   "metadata": {},
   "source": [
    "Looking at communities"
   ]
  },
  {
   "cell_type": "code",
   "execution_count": 16,
   "id": "ac5a7a41-ab0f-42c6-a3fb-3b8d0ea95f05",
   "metadata": {
    "tags": []
   },
   "outputs": [
    {
     "data": {
      "application/vnd.plotly.v1+json": {
       "config": {
        "plotlyServerURL": "https://plot.ly"
       },
       "data": [
        {
         "alignmentgroup": "True",
         "boxpoints": "all",
         "hovertemplate": "Community=%{x}<br>Average Trip Duration (minutes)=%{y}<extra></extra>",
         "legendgroup": "",
         "marker": {
          "color": "#636efa"
         },
         "name": "",
         "notched": false,
         "offsetgroup": "",
         "orientation": "v",
         "showlegend": false,
         "type": "box",
         "x": [
          3,
          3,
          3,
          3,
          3,
          3,
          3,
          3,
          3,
          3,
          0,
          0,
          3,
          2,
          0,
          0,
          3,
          3,
          2,
          3,
          0,
          0,
          2,
          0,
          3,
          3,
          0,
          3,
          3,
          3,
          3,
          3,
          3,
          3,
          3,
          1,
          0,
          1,
          0,
          3,
          3,
          0,
          3,
          3,
          2,
          3,
          1,
          3,
          3,
          3,
          0,
          3,
          0,
          0,
          3,
          0,
          0,
          0,
          3,
          3,
          3,
          3,
          1,
          0,
          3,
          3,
          3,
          3,
          0,
          3,
          3,
          2,
          0,
          0,
          0,
          2,
          1,
          3,
          0,
          3,
          1,
          1,
          3,
          1,
          0,
          1,
          0,
          2,
          2,
          2,
          0,
          0,
          0,
          2,
          2,
          2,
          0,
          3,
          3,
          0,
          3,
          3,
          2,
          0,
          0,
          3,
          1,
          1,
          0,
          3,
          0,
          3,
          2,
          3,
          1,
          1,
          3,
          0,
          0,
          2,
          0,
          1,
          0,
          2,
          0,
          3,
          2,
          0,
          1,
          1,
          3,
          3,
          3,
          2,
          1,
          1,
          1,
          2,
          3,
          3,
          2,
          2,
          1,
          2,
          2,
          2,
          3,
          1,
          2,
          0,
          3,
          3,
          0,
          2,
          0,
          0,
          0,
          3,
          0,
          2,
          1,
          3,
          1,
          0,
          3,
          1,
          1,
          3,
          2,
          3,
          0,
          0,
          2,
          1,
          2,
          3,
          0,
          1,
          2,
          0,
          1,
          0,
          1,
          2,
          0,
          2,
          3,
          3,
          0,
          1,
          0,
          0,
          0,
          2,
          1,
          1,
          3,
          1,
          2,
          2,
          1,
          2,
          2,
          0,
          0,
          1,
          2,
          0,
          2,
          2,
          0,
          2,
          2,
          2,
          0,
          0,
          1,
          0,
          0,
          0,
          1,
          0,
          3,
          2,
          2,
          1,
          1,
          1,
          2,
          2,
          3,
          1,
          0,
          2,
          2,
          2,
          1,
          0,
          2,
          1,
          1,
          3,
          1,
          1,
          1,
          1,
          0,
          2,
          2,
          0,
          2,
          2,
          0,
          0,
          0,
          2,
          0,
          1,
          1,
          1,
          2,
          0,
          0,
          2,
          0,
          0,
          0,
          2,
          0,
          1,
          3,
          0,
          1,
          1,
          1,
          2,
          1,
          2,
          1,
          2,
          1,
          1,
          0,
          0,
          1,
          1,
          1,
          2,
          0,
          3,
          0,
          0,
          0,
          1,
          1,
          1,
          1,
          2,
          0,
          3,
          0,
          2,
          1,
          3,
          2,
          2,
          1,
          0,
          2,
          0,
          2,
          2,
          1,
          0,
          2,
          2,
          0,
          0,
          1,
          1,
          1,
          2,
          1,
          0,
          2,
          0,
          0,
          0,
          3,
          1,
          2,
          2,
          1,
          2,
          1,
          2,
          0,
          2,
          2,
          1,
          1,
          1,
          1,
          1,
          0,
          0,
          2,
          0,
          3,
          0,
          0,
          1,
          3,
          1,
          1,
          2,
          2,
          2,
          2,
          1,
          0,
          2,
          0,
          1,
          1,
          1,
          1,
          1,
          2,
          0
         ],
         "x0": " ",
         "xaxis": "x",
         "y": [
          20.63411757575758,
          19.69689488146552,
          18.9102945450325,
          18.437003019323672,
          17.24763807017544,
          16.63806607981221,
          16.026861139896372,
          15.98801695303551,
          15.909491441441444,
          15.798558748615726,
          15.536065084388186,
          15.3786977582846,
          14.862498976608189,
          14.859454446935723,
          14.713701421568627,
          14.621247678916829,
          14.593147429078016,
          14.47742998643148,
          14.391644708994708,
          14.370588033072236,
          14.233836653116532,
          14.082784317585302,
          14.054673809523807,
          13.99659305993691,
          13.99119175531915,
          13.959423139158575,
          13.815835104166666,
          13.810433333333334,
          13.781665772870662,
          13.71402194616977,
          13.689936972343522,
          13.629813194444443,
          13.601198018648018,
          13.570328790613718,
          13.56950634218289,
          13.545220496894409,
          13.47099454277286,
          13.406285507246375,
          13.395234356725148,
          13.390323686594202,
          13.339894,
          13.338294685039369,
          13.327036735870818,
          13.326297480620156,
          13.31274074415744,
          13.30925611270296,
          13.305755468749998,
          13.2840659447983,
          13.25667036441586,
          13.227387721518989,
          13.215734964539006,
          13.195959375,
          13.189450112233445,
          13.18820863095238,
          13.162847777777776,
          13.145808147229117,
          13.145583479212254,
          13.11176572258533,
          13.060491216216215,
          13.058196085858588,
          13.053337988826817,
          13.000132640949555,
          12.9931096082779,
          12.901656095366622,
          12.879369562146891,
          12.87345923566879,
          12.870577097130244,
          12.858923300515704,
          12.843462660098522,
          12.825592723004696,
          12.800620904761908,
          12.791614932126697,
          12.775936625514404,
          12.735202146892656,
          12.729814935364727,
          12.687792680776017,
          12.6669810741688,
          12.598711485319516,
          12.587061954887217,
          12.578535747663553,
          12.578007575757574,
          12.568439026305455,
          12.546101941097724,
          12.528690501792116,
          12.521448881036514,
          12.51966054131054,
          12.50980468238376,
          12.506061175616836,
          12.505401747088186,
          12.46991499238965,
          12.463046392496391,
          12.462855285592497,
          12.456185560504826,
          12.452841058052435,
          12.451201699346404,
          12.44655904882155,
          12.442597701149426,
          12.439524545454544,
          12.407138926746166,
          12.402989334521688,
          12.40014398148148,
          12.369195055821372,
          12.357153234445818,
          12.347226738657971,
          12.324591748768473,
          12.324127397260275,
          12.317612787015044,
          12.294025538502964,
          12.289443499197432,
          12.280529232804234,
          12.275632242990651,
          12.250306172839506,
          12.241443827160492,
          12.240284884376765,
          12.225659279881215,
          12.216820858283432,
          12.184996556473829,
          12.18205745341615,
          12.152932584916524,
          12.1451593164794,
          12.135774537037038,
          12.117202911877396,
          12.113558688340808,
          12.111144855072464,
          12.07134043478261,
          12.048592735042735,
          12.043920652173911,
          12.0111235395189,
          12.005709675281643,
          12.00276331920904,
          11.997567768595042,
          11.982140015723273,
          11.967005747126436,
          11.956944602272728,
          11.953028095238096,
          11.94824284682081,
          11.938303850574712,
          11.904980211062592,
          11.893836747361886,
          11.882406572029442,
          11.873945082815736,
          11.84108381492948,
          11.837159401159049,
          11.825276758409784,
          11.787231791802684,
          11.785819793681496,
          11.764355147058822,
          11.75628896434635,
          11.753420980639731,
          11.749213822751324,
          11.730714024975985,
          11.711519569471625,
          11.706297036474163,
          11.69973405211141,
          11.692251698960966,
          11.688608877192982,
          11.66659590909091,
          11.652692944038929,
          11.628342331980152,
          11.619499441580755,
          11.618391274113954,
          11.612603790688093,
          11.6076831372549,
          11.598212559890486,
          11.581389678030304,
          11.576527757009346,
          11.575488828502415,
          11.573048690671031,
          11.54887,
          11.535595528455286,
          11.511125958702063,
          11.50932304964539,
          11.500639165409751,
          11.493403885257807,
          11.478630129516018,
          11.477442496392497,
          11.470273523622048,
          11.459230885873904,
          11.456875095238097,
          11.45146292237443,
          11.439908943630716,
          11.438544911504426,
          11.436997270742358,
          11.436538007736944,
          11.432753328092245,
          11.404631626319055,
          11.37556143678161,
          11.349705349794238,
          11.347669027181688,
          11.34599991621984,
          11.319287690355331,
          11.313669021065676,
          11.29908540462428,
          11.298212663645518,
          11.279789454094292,
          11.259093770226537,
          11.184304110813226,
          11.178658210007049,
          11.126069458653026,
          11.125930595581172,
          11.123582817460315,
          11.086790457516338,
          11.081990457142856,
          11.073952058590656,
          11.070898412698412,
          11.065195381526104,
          11.057533800350264,
          11.053917717717718,
          11.046224906367042,
          11.044300694444445,
          11.043920437405731,
          11.032591305655837,
          11.030289583333332,
          11.02297911010558,
          11.01007701754386,
          11.001029821627649,
          10.97551186299081,
          10.974117174925878,
          10.957002959501558,
          10.956412957074722,
          10.956288105835808,
          10.92171636927851,
          10.91944138176638,
          10.916403505291004,
          10.890005450733751,
          10.875045158450703,
          10.874857671957672,
          10.859205,
          10.850555855855855,
          10.847243515981736,
          10.8284126118068,
          10.827498037918872,
          10.824703400083438,
          10.821492267050912,
          10.818946283909328,
          10.802685912698411,
          10.790084523809524,
          10.779593350908026,
          10.750595736683849,
          10.748691489361702,
          10.732309981684985,
          10.726333093278464,
          10.71681984375,
          10.712705086206896,
          10.712488965341487,
          10.70074773755656,
          10.687375396825397,
          10.659045486111111,
          10.64538000801282,
          10.635311651234568,
          10.63369769144144,
          10.594089265536724,
          10.591057468123864,
          10.57693735561056,
          10.5712225024728,
          10.560518181818182,
          10.549569291338583,
          10.5438068119891,
          10.543668960734102,
          10.49949078313253,
          10.493100058892814,
          10.48597355944566,
          10.476397775628628,
          10.44738466152528,
          10.445107326621924,
          10.442294279946164,
          10.44048517495396,
          10.438342931937171,
          10.426805335731416,
          10.424626738505747,
          10.391139217557251,
          10.356658894105372,
          10.34389796137339,
          10.337676784605836,
          10.336626487314083,
          10.325329417670684,
          10.310440213010938,
          10.307341287878788,
          10.282467140825036,
          10.274810687593424,
          10.274314655760056,
          10.2675906,
          10.25508878066378,
          10.254399613899617,
          10.237277510548523,
          10.226351218637992,
          10.225203578892373,
          10.218075893973491,
          10.211304342273309,
          10.209426363636364,
          10.2006998820059,
          10.190676425269643,
          10.188376433807676,
          10.183453765323993,
          10.183206392950884,
          10.182253013910357,
          10.17495494949495,
          10.174139652448655,
          10.162826733084268,
          10.145411656746033,
          10.143978618693136,
          10.139250601202404,
          10.13107064137308,
          10.128784277879342,
          10.110647147147146,
          10.081563244444444,
          10.081035508308895,
          10.069429269125685,
          10.068121028037384,
          10.064893127572017,
          10.055948767605637,
          10.012386439499304,
          10.009399164054336,
          10.002045728291318,
          9.991677766393444,
          9.9916765993266,
          9.991616111111112,
          9.912214459930311,
          9.905134930777423,
          9.89990157635468,
          9.890634987277354,
          9.862063802816902,
          9.845031153846154,
          9.823243917155905,
          9.821217196969696,
          9.77470236318408,
          9.765493888888887,
          9.734109462151393,
          9.721598235840297,
          9.713696590909093,
          9.695333333333334,
          9.688901893939397,
          9.668227300724638,
          9.645729042553192,
          9.622572574447648,
          9.613289021956088,
          9.60407390438247,
          9.60175283171521,
          9.577408634175692,
          9.530552420856612,
          9.49316808647951,
          9.482394973544974,
          9.47612313463098,
          9.465255096935586,
          9.447733400267738,
          9.432813618030842,
          9.42811745852187,
          9.417960990990991,
          9.335421901709402,
          9.313987093495934,
          9.274792528044872,
          9.239832771867611,
          9.229954788838612,
          9.210738070776255,
          9.207239268292684,
          9.172062098393576,
          9.148184315008724,
          9.102381794294296,
          9.063836706349203,
          9.030423599240269,
          9.011405669099757,
          8.932865077071291,
          8.900851131687244,
          8.89323378085164,
          8.851862636439966,
          8.829479894179894,
          8.829067490494296,
          8.689902698032961,
          8.500658561643835,
          8.367335905680601
         ],
         "y0": " ",
         "yaxis": "y"
        }
       ],
       "layout": {
        "autosize": true,
        "boxmode": "group",
        "legend": {
         "tracegroupgap": 0
        },
        "template": {
         "data": {
          "bar": [
           {
            "error_x": {
             "color": "#2a3f5f"
            },
            "error_y": {
             "color": "#2a3f5f"
            },
            "marker": {
             "line": {
              "color": "#E5ECF6",
              "width": 0.5
             },
             "pattern": {
              "fillmode": "overlay",
              "size": 10,
              "solidity": 0.2
             }
            },
            "type": "bar"
           }
          ],
          "barpolar": [
           {
            "marker": {
             "line": {
              "color": "#E5ECF6",
              "width": 0.5
             },
             "pattern": {
              "fillmode": "overlay",
              "size": 10,
              "solidity": 0.2
             }
            },
            "type": "barpolar"
           }
          ],
          "carpet": [
           {
            "aaxis": {
             "endlinecolor": "#2a3f5f",
             "gridcolor": "white",
             "linecolor": "white",
             "minorgridcolor": "white",
             "startlinecolor": "#2a3f5f"
            },
            "baxis": {
             "endlinecolor": "#2a3f5f",
             "gridcolor": "white",
             "linecolor": "white",
             "minorgridcolor": "white",
             "startlinecolor": "#2a3f5f"
            },
            "type": "carpet"
           }
          ],
          "choropleth": [
           {
            "colorbar": {
             "outlinewidth": 0,
             "ticks": ""
            },
            "type": "choropleth"
           }
          ],
          "contour": [
           {
            "colorbar": {
             "outlinewidth": 0,
             "ticks": ""
            },
            "colorscale": [
             [
              0,
              "#0d0887"
             ],
             [
              0.1111111111111111,
              "#46039f"
             ],
             [
              0.2222222222222222,
              "#7201a8"
             ],
             [
              0.3333333333333333,
              "#9c179e"
             ],
             [
              0.4444444444444444,
              "#bd3786"
             ],
             [
              0.5555555555555556,
              "#d8576b"
             ],
             [
              0.6666666666666666,
              "#ed7953"
             ],
             [
              0.7777777777777778,
              "#fb9f3a"
             ],
             [
              0.8888888888888888,
              "#fdca26"
             ],
             [
              1,
              "#f0f921"
             ]
            ],
            "type": "contour"
           }
          ],
          "contourcarpet": [
           {
            "colorbar": {
             "outlinewidth": 0,
             "ticks": ""
            },
            "type": "contourcarpet"
           }
          ],
          "heatmap": [
           {
            "colorbar": {
             "outlinewidth": 0,
             "ticks": ""
            },
            "colorscale": [
             [
              0,
              "#0d0887"
             ],
             [
              0.1111111111111111,
              "#46039f"
             ],
             [
              0.2222222222222222,
              "#7201a8"
             ],
             [
              0.3333333333333333,
              "#9c179e"
             ],
             [
              0.4444444444444444,
              "#bd3786"
             ],
             [
              0.5555555555555556,
              "#d8576b"
             ],
             [
              0.6666666666666666,
              "#ed7953"
             ],
             [
              0.7777777777777778,
              "#fb9f3a"
             ],
             [
              0.8888888888888888,
              "#fdca26"
             ],
             [
              1,
              "#f0f921"
             ]
            ],
            "type": "heatmap"
           }
          ],
          "heatmapgl": [
           {
            "colorbar": {
             "outlinewidth": 0,
             "ticks": ""
            },
            "colorscale": [
             [
              0,
              "#0d0887"
             ],
             [
              0.1111111111111111,
              "#46039f"
             ],
             [
              0.2222222222222222,
              "#7201a8"
             ],
             [
              0.3333333333333333,
              "#9c179e"
             ],
             [
              0.4444444444444444,
              "#bd3786"
             ],
             [
              0.5555555555555556,
              "#d8576b"
             ],
             [
              0.6666666666666666,
              "#ed7953"
             ],
             [
              0.7777777777777778,
              "#fb9f3a"
             ],
             [
              0.8888888888888888,
              "#fdca26"
             ],
             [
              1,
              "#f0f921"
             ]
            ],
            "type": "heatmapgl"
           }
          ],
          "histogram": [
           {
            "marker": {
             "pattern": {
              "fillmode": "overlay",
              "size": 10,
              "solidity": 0.2
             }
            },
            "type": "histogram"
           }
          ],
          "histogram2d": [
           {
            "colorbar": {
             "outlinewidth": 0,
             "ticks": ""
            },
            "colorscale": [
             [
              0,
              "#0d0887"
             ],
             [
              0.1111111111111111,
              "#46039f"
             ],
             [
              0.2222222222222222,
              "#7201a8"
             ],
             [
              0.3333333333333333,
              "#9c179e"
             ],
             [
              0.4444444444444444,
              "#bd3786"
             ],
             [
              0.5555555555555556,
              "#d8576b"
             ],
             [
              0.6666666666666666,
              "#ed7953"
             ],
             [
              0.7777777777777778,
              "#fb9f3a"
             ],
             [
              0.8888888888888888,
              "#fdca26"
             ],
             [
              1,
              "#f0f921"
             ]
            ],
            "type": "histogram2d"
           }
          ],
          "histogram2dcontour": [
           {
            "colorbar": {
             "outlinewidth": 0,
             "ticks": ""
            },
            "colorscale": [
             [
              0,
              "#0d0887"
             ],
             [
              0.1111111111111111,
              "#46039f"
             ],
             [
              0.2222222222222222,
              "#7201a8"
             ],
             [
              0.3333333333333333,
              "#9c179e"
             ],
             [
              0.4444444444444444,
              "#bd3786"
             ],
             [
              0.5555555555555556,
              "#d8576b"
             ],
             [
              0.6666666666666666,
              "#ed7953"
             ],
             [
              0.7777777777777778,
              "#fb9f3a"
             ],
             [
              0.8888888888888888,
              "#fdca26"
             ],
             [
              1,
              "#f0f921"
             ]
            ],
            "type": "histogram2dcontour"
           }
          ],
          "mesh3d": [
           {
            "colorbar": {
             "outlinewidth": 0,
             "ticks": ""
            },
            "type": "mesh3d"
           }
          ],
          "parcoords": [
           {
            "line": {
             "colorbar": {
              "outlinewidth": 0,
              "ticks": ""
             }
            },
            "type": "parcoords"
           }
          ],
          "pie": [
           {
            "automargin": true,
            "type": "pie"
           }
          ],
          "scatter": [
           {
            "fillpattern": {
             "fillmode": "overlay",
             "size": 10,
             "solidity": 0.2
            },
            "type": "scatter"
           }
          ],
          "scatter3d": [
           {
            "line": {
             "colorbar": {
              "outlinewidth": 0,
              "ticks": ""
             }
            },
            "marker": {
             "colorbar": {
              "outlinewidth": 0,
              "ticks": ""
             }
            },
            "type": "scatter3d"
           }
          ],
          "scattercarpet": [
           {
            "marker": {
             "colorbar": {
              "outlinewidth": 0,
              "ticks": ""
             }
            },
            "type": "scattercarpet"
           }
          ],
          "scattergeo": [
           {
            "marker": {
             "colorbar": {
              "outlinewidth": 0,
              "ticks": ""
             }
            },
            "type": "scattergeo"
           }
          ],
          "scattergl": [
           {
            "marker": {
             "colorbar": {
              "outlinewidth": 0,
              "ticks": ""
             }
            },
            "type": "scattergl"
           }
          ],
          "scattermapbox": [
           {
            "marker": {
             "colorbar": {
              "outlinewidth": 0,
              "ticks": ""
             }
            },
            "type": "scattermapbox"
           }
          ],
          "scatterpolar": [
           {
            "marker": {
             "colorbar": {
              "outlinewidth": 0,
              "ticks": ""
             }
            },
            "type": "scatterpolar"
           }
          ],
          "scatterpolargl": [
           {
            "marker": {
             "colorbar": {
              "outlinewidth": 0,
              "ticks": ""
             }
            },
            "type": "scatterpolargl"
           }
          ],
          "scatterternary": [
           {
            "marker": {
             "colorbar": {
              "outlinewidth": 0,
              "ticks": ""
             }
            },
            "type": "scatterternary"
           }
          ],
          "surface": [
           {
            "colorbar": {
             "outlinewidth": 0,
             "ticks": ""
            },
            "colorscale": [
             [
              0,
              "#0d0887"
             ],
             [
              0.1111111111111111,
              "#46039f"
             ],
             [
              0.2222222222222222,
              "#7201a8"
             ],
             [
              0.3333333333333333,
              "#9c179e"
             ],
             [
              0.4444444444444444,
              "#bd3786"
             ],
             [
              0.5555555555555556,
              "#d8576b"
             ],
             [
              0.6666666666666666,
              "#ed7953"
             ],
             [
              0.7777777777777778,
              "#fb9f3a"
             ],
             [
              0.8888888888888888,
              "#fdca26"
             ],
             [
              1,
              "#f0f921"
             ]
            ],
            "type": "surface"
           }
          ],
          "table": [
           {
            "cells": {
             "fill": {
              "color": "#EBF0F8"
             },
             "line": {
              "color": "white"
             }
            },
            "header": {
             "fill": {
              "color": "#C8D4E3"
             },
             "line": {
              "color": "white"
             }
            },
            "type": "table"
           }
          ]
         },
         "layout": {
          "annotationdefaults": {
           "arrowcolor": "#2a3f5f",
           "arrowhead": 0,
           "arrowwidth": 1
          },
          "autotypenumbers": "strict",
          "coloraxis": {
           "colorbar": {
            "outlinewidth": 0,
            "ticks": ""
           }
          },
          "colorscale": {
           "diverging": [
            [
             0,
             "#8e0152"
            ],
            [
             0.1,
             "#c51b7d"
            ],
            [
             0.2,
             "#de77ae"
            ],
            [
             0.3,
             "#f1b6da"
            ],
            [
             0.4,
             "#fde0ef"
            ],
            [
             0.5,
             "#f7f7f7"
            ],
            [
             0.6,
             "#e6f5d0"
            ],
            [
             0.7,
             "#b8e186"
            ],
            [
             0.8,
             "#7fbc41"
            ],
            [
             0.9,
             "#4d9221"
            ],
            [
             1,
             "#276419"
            ]
           ],
           "sequential": [
            [
             0,
             "#0d0887"
            ],
            [
             0.1111111111111111,
             "#46039f"
            ],
            [
             0.2222222222222222,
             "#7201a8"
            ],
            [
             0.3333333333333333,
             "#9c179e"
            ],
            [
             0.4444444444444444,
             "#bd3786"
            ],
            [
             0.5555555555555556,
             "#d8576b"
            ],
            [
             0.6666666666666666,
             "#ed7953"
            ],
            [
             0.7777777777777778,
             "#fb9f3a"
            ],
            [
             0.8888888888888888,
             "#fdca26"
            ],
            [
             1,
             "#f0f921"
            ]
           ],
           "sequentialminus": [
            [
             0,
             "#0d0887"
            ],
            [
             0.1111111111111111,
             "#46039f"
            ],
            [
             0.2222222222222222,
             "#7201a8"
            ],
            [
             0.3333333333333333,
             "#9c179e"
            ],
            [
             0.4444444444444444,
             "#bd3786"
            ],
            [
             0.5555555555555556,
             "#d8576b"
            ],
            [
             0.6666666666666666,
             "#ed7953"
            ],
            [
             0.7777777777777778,
             "#fb9f3a"
            ],
            [
             0.8888888888888888,
             "#fdca26"
            ],
            [
             1,
             "#f0f921"
            ]
           ]
          },
          "colorway": [
           "#636efa",
           "#EF553B",
           "#00cc96",
           "#ab63fa",
           "#FFA15A",
           "#19d3f3",
           "#FF6692",
           "#B6E880",
           "#FF97FF",
           "#FECB52"
          ],
          "font": {
           "color": "#2a3f5f"
          },
          "geo": {
           "bgcolor": "white",
           "lakecolor": "white",
           "landcolor": "#E5ECF6",
           "showlakes": true,
           "showland": true,
           "subunitcolor": "white"
          },
          "hoverlabel": {
           "align": "left"
          },
          "hovermode": "closest",
          "mapbox": {
           "style": "light"
          },
          "paper_bgcolor": "white",
          "plot_bgcolor": "#E5ECF6",
          "polar": {
           "angularaxis": {
            "gridcolor": "white",
            "linecolor": "white",
            "ticks": ""
           },
           "bgcolor": "#E5ECF6",
           "radialaxis": {
            "gridcolor": "white",
            "linecolor": "white",
            "ticks": ""
           }
          },
          "scene": {
           "xaxis": {
            "backgroundcolor": "#E5ECF6",
            "gridcolor": "white",
            "gridwidth": 2,
            "linecolor": "white",
            "showbackground": true,
            "ticks": "",
            "zerolinecolor": "white"
           },
           "yaxis": {
            "backgroundcolor": "#E5ECF6",
            "gridcolor": "white",
            "gridwidth": 2,
            "linecolor": "white",
            "showbackground": true,
            "ticks": "",
            "zerolinecolor": "white"
           },
           "zaxis": {
            "backgroundcolor": "#E5ECF6",
            "gridcolor": "white",
            "gridwidth": 2,
            "linecolor": "white",
            "showbackground": true,
            "ticks": "",
            "zerolinecolor": "white"
           }
          },
          "shapedefaults": {
           "line": {
            "color": "#2a3f5f"
           }
          },
          "ternary": {
           "aaxis": {
            "gridcolor": "white",
            "linecolor": "white",
            "ticks": ""
           },
           "baxis": {
            "gridcolor": "white",
            "linecolor": "white",
            "ticks": ""
           },
           "bgcolor": "#E5ECF6",
           "caxis": {
            "gridcolor": "white",
            "linecolor": "white",
            "ticks": ""
           }
          },
          "title": {
           "x": 0.05
          },
          "xaxis": {
           "automargin": true,
           "gridcolor": "white",
           "linecolor": "white",
           "ticks": "",
           "title": {
            "standoff": 15
           },
           "zerolinecolor": "white",
           "zerolinewidth": 2
          },
          "yaxis": {
           "automargin": true,
           "gridcolor": "white",
           "linecolor": "white",
           "ticks": "",
           "title": {
            "standoff": 15
           },
           "zerolinecolor": "white",
           "zerolinewidth": 2
          }
         }
        },
        "title": {
         "text": "Distribution of Average Trip Duration by Community"
        },
        "xaxis": {
         "anchor": "y",
         "autorange": true,
         "domain": [
          0,
          1
         ],
         "range": [
          -0.5119402985074627,
          3.5
         ],
         "title": {
          "text": "Community"
         },
         "type": "linear"
        },
        "yaxis": {
         "anchor": "x",
         "autorange": true,
         "domain": [
          0,
          1
         ],
         "range": [
          7.685848035120769,
          21.31560544631741
         ],
         "title": {
          "text": "Average Trip Duration (minutes)"
         },
         "type": "linear"
        }
       }
      },
      "image/png": "[encoded data removed]",
      "text/html": [
       "<div>                            <div id=\"c800302b-190e-44a5-adbe-19d3c54084c0\" class=\"plotly-graph-div\" style=\"height:525px; width:100%;\"></div>            <script type=\"text/javascript\">                require([\"plotly\"], function(Plotly) {                    window.PLOTLYENV=window.PLOTLYENV || {};                                    if (document.getElementById(\"c800302b-190e-44a5-adbe-19d3c54084c0\")) {                    Plotly.newPlot(                        \"c800302b-190e-44a5-adbe-19d3c54084c0\",                        [{\"alignmentgroup\":\"True\",\"boxpoints\":\"all\",\"hovertemplate\":\"Community=%{x}<br>Average Trip Duration (minutes)=%{y}<extra></extra>\",\"legendgroup\":\"\",\"marker\":{\"color\":\"#636efa\"},\"name\":\"\",\"notched\":false,\"offsetgroup\":\"\",\"orientation\":\"v\",\"showlegend\":false,\"x\":[3,3,3,3,3,3,3,3,3,3,0,0,3,2,0,0,3,3,2,3,0,0,2,0,3,3,0,3,3,3,3,3,3,3,3,1,0,1,0,3,3,0,3,3,2,3,1,3,3,3,0,3,0,0,3,0,0,0,3,3,3,3,1,0,3,3,3,3,0,3,3,2,0,0,0,2,1,3,0,3,1,1,3,1,0,1,0,2,2,2,0,0,0,2,2,2,0,3,3,0,3,3,2,0,0,3,1,1,0,3,0,3,2,3,1,1,3,0,0,2,0,1,0,2,0,3,2,0,1,1,3,3,3,2,1,1,1,2,3,3,2,2,1,2,2,2,3,1,2,0,3,3,0,2,0,0,0,3,0,2,1,3,1,0,3,1,1,3,2,3,0,0,2,1,2,3,0,1,2,0,1,0,1,2,0,2,3,3,0,1,0,0,0,2,1,1,3,1,2,2,1,2,2,0,0,1,2,0,2,2,0,2,2,2,0,0,1,0,0,0,1,0,3,2,2,1,1,1,2,2,3,1,0,2,2,2,1,0,2,1,1,3,1,1,1,1,0,2,2,0,2,2,0,0,0,2,0,1,1,1,2,0,0,2,0,0,0,2,0,1,3,0,1,1,1,2,1,2,1,2,1,1,0,0,1,1,1,2,0,3,0,0,0,1,1,1,1,2,0,3,0,2,1,3,2,2,1,0,2,0,2,2,1,0,2,2,0,0,1,1,1,2,1,0,2,0,0,0,3,1,2,2,1,2,1,2,0,2,2,1,1,1,1,1,0,0,2,0,3,0,0,1,3,1,1,2,2,2,2,1,0,2,0,1,1,1,1,1,2,0],\"x0\":\" \",\"xaxis\":\"x\",\"y\":[20.63411757575758,19.69689488146552,18.9102945450325,18.437003019323672,17.24763807017544,16.63806607981221,16.026861139896372,15.98801695303551,15.909491441441444,15.798558748615726,15.536065084388186,15.3786977582846,14.862498976608189,14.859454446935723,14.713701421568627,14.621247678916829,14.593147429078016,14.47742998643148,14.391644708994708,14.370588033072236,14.233836653116532,14.082784317585302,14.054673809523807,13.99659305993691,13.99119175531915,13.959423139158575,13.815835104166666,13.810433333333334,13.781665772870662,13.71402194616977,13.689936972343522,13.629813194444443,13.601198018648018,13.570328790613718,13.56950634218289,13.545220496894409,13.47099454277286,13.406285507246375,13.395234356725148,13.390323686594202,13.339894,13.338294685039369,13.327036735870818,13.326297480620156,13.31274074415744,13.30925611270296,13.305755468749998,13.2840659447983,13.25667036441586,13.227387721518989,13.215734964539006,13.195959375,13.189450112233445,13.18820863095238,13.162847777777776,13.145808147229117,13.145583479212254,13.11176572258533,13.060491216216215,13.058196085858588,13.053337988826817,13.000132640949555,12.9931096082779,12.901656095366622,12.879369562146891,12.87345923566879,12.870577097130244,12.858923300515704,12.843462660098522,12.825592723004696,12.800620904761908,12.791614932126697,12.775936625514404,12.735202146892656,12.729814935364727,12.687792680776017,12.6669810741688,12.598711485319516,12.587061954887217,12.578535747663553,12.578007575757574,12.568439026305455,12.546101941097724,12.528690501792116,12.521448881036514,12.51966054131054,12.50980468238376,12.506061175616836,12.505401747088186,12.46991499238965,12.463046392496391,12.462855285592497,12.456185560504826,12.452841058052435,12.451201699346404,12.44655904882155,12.442597701149426,12.439524545454544,12.407138926746166,12.402989334521688,12.40014398148148,12.369195055821372,12.357153234445818,12.347226738657971,12.324591748768473,12.324127397260275,12.317612787015044,12.294025538502964,12.289443499197432,12.280529232804234,12.275632242990651,12.250306172839506,12.241443827160492,12.240284884376765,12.225659279881215,12.216820858283432,12.184996556473829,12.18205745341615,12.152932584916524,12.1451593164794,12.135774537037038,12.117202911877396,12.113558688340808,12.111144855072464,12.07134043478261,12.048592735042735,12.043920652173911,12.0111235395189,12.005709675281643,12.00276331920904,11.997567768595042,11.982140015723273,11.967005747126436,11.956944602272728,11.953028095238096,11.94824284682081,11.938303850574712,11.904980211062592,11.893836747361886,11.882406572029442,11.873945082815736,11.84108381492948,11.837159401159049,11.825276758409784,11.787231791802684,11.785819793681496,11.764355147058822,11.75628896434635,11.753420980639731,11.749213822751324,11.730714024975985,11.711519569471625,11.706297036474163,11.69973405211141,11.692251698960966,11.688608877192982,11.66659590909091,11.652692944038929,11.628342331980152,11.619499441580755,11.618391274113954,11.612603790688093,11.6076831372549,11.598212559890486,11.581389678030304,11.576527757009346,11.575488828502415,11.573048690671031,11.54887,11.535595528455286,11.511125958702063,11.50932304964539,11.500639165409751,11.493403885257807,11.478630129516018,11.477442496392497,11.470273523622048,11.459230885873904,11.456875095238097,11.45146292237443,11.439908943630716,11.438544911504426,11.436997270742358,11.436538007736944,11.432753328092245,11.404631626319055,11.37556143678161,11.349705349794238,11.347669027181688,11.34599991621984,11.319287690355331,11.313669021065676,11.29908540462428,11.298212663645518,11.279789454094292,11.259093770226537,11.184304110813226,11.178658210007049,11.126069458653026,11.125930595581172,11.123582817460315,11.086790457516338,11.081990457142856,11.073952058590656,11.070898412698412,11.065195381526104,11.057533800350264,11.053917717717718,11.046224906367042,11.044300694444445,11.043920437405731,11.032591305655837,11.030289583333332,11.02297911010558,11.01007701754386,11.001029821627649,10.97551186299081,10.974117174925878,10.957002959501558,10.956412957074722,10.956288105835808,10.92171636927851,10.91944138176638,10.916403505291004,10.890005450733751,10.875045158450703,10.874857671957672,10.859205,10.850555855855855,10.847243515981736,10.8284126118068,10.827498037918872,10.824703400083438,10.821492267050912,10.818946283909328,10.802685912698411,10.790084523809524,10.779593350908026,10.750595736683849,10.748691489361702,10.732309981684985,10.726333093278464,10.71681984375,10.712705086206896,10.712488965341487,10.70074773755656,10.687375396825397,10.659045486111111,10.64538000801282,10.635311651234568,10.63369769144144,10.594089265536724,10.591057468123864,10.57693735561056,10.5712225024728,10.560518181818182,10.549569291338583,10.5438068119891,10.543668960734102,10.49949078313253,10.493100058892814,10.48597355944566,10.476397775628628,10.44738466152528,10.445107326621924,10.442294279946164,10.44048517495396,10.438342931937171,10.426805335731416,10.424626738505747,10.391139217557251,10.356658894105372,10.34389796137339,10.337676784605836,10.336626487314083,10.325329417670684,10.310440213010938,10.307341287878788,10.282467140825036,10.274810687593424,10.274314655760056,10.2675906,10.25508878066378,10.254399613899617,10.237277510548523,10.226351218637992,10.225203578892373,10.218075893973491,10.211304342273309,10.209426363636364,10.2006998820059,10.190676425269643,10.188376433807676,10.183453765323993,10.183206392950884,10.182253013910357,10.17495494949495,10.174139652448655,10.162826733084268,10.145411656746033,10.143978618693136,10.139250601202404,10.13107064137308,10.128784277879342,10.110647147147146,10.081563244444444,10.081035508308895,10.069429269125685,10.068121028037384,10.064893127572017,10.055948767605637,10.012386439499304,10.009399164054336,10.002045728291318,9.991677766393444,9.9916765993266,9.991616111111112,9.912214459930311,9.905134930777423,9.89990157635468,9.890634987277354,9.862063802816902,9.845031153846154,9.823243917155905,9.821217196969696,9.77470236318408,9.765493888888887,9.734109462151393,9.721598235840297,9.713696590909093,9.695333333333334,9.688901893939397,9.668227300724638,9.645729042553192,9.622572574447648,9.613289021956088,9.60407390438247,9.60175283171521,9.577408634175692,9.530552420856612,9.49316808647951,9.482394973544974,9.47612313463098,9.465255096935586,9.447733400267738,9.432813618030842,9.42811745852187,9.417960990990991,9.335421901709402,9.313987093495934,9.274792528044872,9.239832771867611,9.229954788838612,9.210738070776255,9.207239268292684,9.172062098393576,9.148184315008724,9.102381794294296,9.063836706349203,9.030423599240269,9.011405669099757,8.932865077071291,8.900851131687244,8.89323378085164,8.851862636439966,8.829479894179894,8.829067490494296,8.689902698032961,8.500658561643835,8.367335905680601],\"y0\":\" \",\"yaxis\":\"y\",\"type\":\"box\"}],                        {\"template\":{\"data\":{\"histogram2dcontour\":[{\"type\":\"histogram2dcontour\",\"colorbar\":{\"outlinewidth\":0,\"ticks\":\"\"},\"colorscale\":[[0.0,\"#0d0887\"],[0.1111111111111111,\"#46039f\"],[0.2222222222222222,\"#7201a8\"],[0.3333333333333333,\"#9c179e\"],[0.4444444444444444,\"#bd3786\"],[0.5555555555555556,\"#d8576b\"],[0.6666666666666666,\"#ed7953\"],[0.7777777777777778,\"#fb9f3a\"],[0.8888888888888888,\"#fdca26\"],[1.0,\"#f0f921\"]]}],\"choropleth\":[{\"type\":\"choropleth\",\"colorbar\":{\"outlinewidth\":0,\"ticks\":\"\"}}],\"histogram2d\":[{\"type\":\"histogram2d\",\"colorbar\":{\"outlinewidth\":0,\"ticks\":\"\"},\"colorscale\":[[0.0,\"#0d0887\"],[0.1111111111111111,\"#46039f\"],[0.2222222222222222,\"#7201a8\"],[0.3333333333333333,\"#9c179e\"],[0.4444444444444444,\"#bd3786\"],[0.5555555555555556,\"#d8576b\"],[0.6666666666666666,\"#ed7953\"],[0.7777777777777778,\"#fb9f3a\"],[0.8888888888888888,\"#fdca26\"],[1.0,\"#f0f921\"]]}],\"heatmap\":[{\"type\":\"heatmap\",\"colorbar\":{\"outlinewidth\":0,\"ticks\":\"\"},\"colorscale\":[[0.0,\"#0d0887\"],[0.1111111111111111,\"#46039f\"],[0.2222222222222222,\"#7201a8\"],[0.3333333333333333,\"#9c179e\"],[0.4444444444444444,\"#bd3786\"],[0.5555555555555556,\"#d8576b\"],[0.6666666666666666,\"#ed7953\"],[0.7777777777777778,\"#fb9f3a\"],[0.8888888888888888,\"#fdca26\"],[1.0,\"#f0f921\"]]}],\"heatmapgl\":[{\"type\":\"heatmapgl\",\"colorbar\":{\"outlinewidth\":0,\"ticks\":\"\"},\"colorscale\":[[0.0,\"#0d0887\"],[0.1111111111111111,\"#46039f\"],[0.2222222222222222,\"#7201a8\"],[0.3333333333333333,\"#9c179e\"],[0.4444444444444444,\"#bd3786\"],[0.5555555555555556,\"#d8576b\"],[0.6666666666666666,\"#ed7953\"],[0.7777777777777778,\"#fb9f3a\"],[0.8888888888888888,\"#fdca26\"],[1.0,\"#f0f921\"]]}],\"contourcarpet\":[{\"type\":\"contourcarpet\",\"colorbar\":{\"outlinewidth\":0,\"ticks\":\"\"}}],\"contour\":[{\"type\":\"contour\",\"colorbar\":{\"outlinewidth\":0,\"ticks\":\"\"},\"colorscale\":[[0.0,\"#0d0887\"],[0.1111111111111111,\"#46039f\"],[0.2222222222222222,\"#7201a8\"],[0.3333333333333333,\"#9c179e\"],[0.4444444444444444,\"#bd3786\"],[0.5555555555555556,\"#d8576b\"],[0.6666666666666666,\"#ed7953\"],[0.7777777777777778,\"#fb9f3a\"],[0.8888888888888888,\"#fdca26\"],[1.0,\"#f0f921\"]]}],\"surface\":[{\"type\":\"surface\",\"colorbar\":{\"outlinewidth\":0,\"ticks\":\"\"},\"colorscale\":[[0.0,\"#0d0887\"],[0.1111111111111111,\"#46039f\"],[0.2222222222222222,\"#7201a8\"],[0.3333333333333333,\"#9c179e\"],[0.4444444444444444,\"#bd3786\"],[0.5555555555555556,\"#d8576b\"],[0.6666666666666666,\"#ed7953\"],[0.7777777777777778,\"#fb9f3a\"],[0.8888888888888888,\"#fdca26\"],[1.0,\"#f0f921\"]]}],\"mesh3d\":[{\"type\":\"mesh3d\",\"colorbar\":{\"outlinewidth\":0,\"ticks\":\"\"}}],\"scatter\":[{\"fillpattern\":{\"fillmode\":\"overlay\",\"size\":10,\"solidity\":0.2},\"type\":\"scatter\"}],\"parcoords\":[{\"type\":\"parcoords\",\"line\":{\"colorbar\":{\"outlinewidth\":0,\"ticks\":\"\"}}}],\"scatterpolargl\":[{\"type\":\"scatterpolargl\",\"marker\":{\"colorbar\":{\"outlinewidth\":0,\"ticks\":\"\"}}}],\"bar\":[{\"error_x\":{\"color\":\"#2a3f5f\"},\"error_y\":{\"color\":\"#2a3f5f\"},\"marker\":{\"line\":{\"color\":\"#E5ECF6\",\"width\":0.5},\"pattern\":{\"fillmode\":\"overlay\",\"size\":10,\"solidity\":0.2}},\"type\":\"bar\"}],\"scattergeo\":[{\"type\":\"scattergeo\",\"marker\":{\"colorbar\":{\"outlinewidth\":0,\"ticks\":\"\"}}}],\"scatterpolar\":[{\"type\":\"scatterpolar\",\"marker\":{\"colorbar\":{\"outlinewidth\":0,\"ticks\":\"\"}}}],\"histogram\":[{\"marker\":{\"pattern\":{\"fillmode\":\"overlay\",\"size\":10,\"solidity\":0.2}},\"type\":\"histogram\"}],\"scattergl\":[{\"type\":\"scattergl\",\"marker\":{\"colorbar\":{\"outlinewidth\":0,\"ticks\":\"\"}}}],\"scatter3d\":[{\"type\":\"scatter3d\",\"line\":{\"colorbar\":{\"outlinewidth\":0,\"ticks\":\"\"}},\"marker\":{\"colorbar\":{\"outlinewidth\":0,\"ticks\":\"\"}}}],\"scattermapbox\":[{\"type\":\"scattermapbox\",\"marker\":{\"colorbar\":{\"outlinewidth\":0,\"ticks\":\"\"}}}],\"scatterternary\":[{\"type\":\"scatterternary\",\"marker\":{\"colorbar\":{\"outlinewidth\":0,\"ticks\":\"\"}}}],\"scattercarpet\":[{\"type\":\"scattercarpet\",\"marker\":{\"colorbar\":{\"outlinewidth\":0,\"ticks\":\"\"}}}],\"carpet\":[{\"aaxis\":{\"endlinecolor\":\"#2a3f5f\",\"gridcolor\":\"white\",\"linecolor\":\"white\",\"minorgridcolor\":\"white\",\"startlinecolor\":\"#2a3f5f\"},\"baxis\":{\"endlinecolor\":\"#2a3f5f\",\"gridcolor\":\"white\",\"linecolor\":\"white\",\"minorgridcolor\":\"white\",\"startlinecolor\":\"#2a3f5f\"},\"type\":\"carpet\"}],\"table\":[{\"cells\":{\"fill\":{\"color\":\"#EBF0F8\"},\"line\":{\"color\":\"white\"}},\"header\":{\"fill\":{\"color\":\"#C8D4E3\"},\"line\":{\"color\":\"white\"}},\"type\":\"table\"}],\"barpolar\":[{\"marker\":{\"line\":{\"color\":\"#E5ECF6\",\"width\":0.5},\"pattern\":{\"fillmode\":\"overlay\",\"size\":10,\"solidity\":0.2}},\"type\":\"barpolar\"}],\"pie\":[{\"automargin\":true,\"type\":\"pie\"}]},\"layout\":{\"autotypenumbers\":\"strict\",\"colorway\":[\"#636efa\",\"#EF553B\",\"#00cc96\",\"#ab63fa\",\"#FFA15A\",\"#19d3f3\",\"#FF6692\",\"#B6E880\",\"#FF97FF\",\"#FECB52\"],\"font\":{\"color\":\"#2a3f5f\"},\"hovermode\":\"closest\",\"hoverlabel\":{\"align\":\"left\"},\"paper_bgcolor\":\"white\",\"plot_bgcolor\":\"#E5ECF6\",\"polar\":{\"bgcolor\":\"#E5ECF6\",\"angularaxis\":{\"gridcolor\":\"white\",\"linecolor\":\"white\",\"ticks\":\"\"},\"radialaxis\":{\"gridcolor\":\"white\",\"linecolor\":\"white\",\"ticks\":\"\"}},\"ternary\":{\"bgcolor\":\"#E5ECF6\",\"aaxis\":{\"gridcolor\":\"white\",\"linecolor\":\"white\",\"ticks\":\"\"},\"baxis\":{\"gridcolor\":\"white\",\"linecolor\":\"white\",\"ticks\":\"\"},\"caxis\":{\"gridcolor\":\"white\",\"linecolor\":\"white\",\"ticks\":\"\"}},\"coloraxis\":{\"colorbar\":{\"outlinewidth\":0,\"ticks\":\"\"}},\"colorscale\":{\"sequential\":[[0.0,\"#0d0887\"],[0.1111111111111111,\"#46039f\"],[0.2222222222222222,\"#7201a8\"],[0.3333333333333333,\"#9c179e\"],[0.4444444444444444,\"#bd3786\"],[0.5555555555555556,\"#d8576b\"],[0.6666666666666666,\"#ed7953\"],[0.7777777777777778,\"#fb9f3a\"],[0.8888888888888888,\"#fdca26\"],[1.0,\"#f0f921\"]],\"sequentialminus\":[[0.0,\"#0d0887\"],[0.1111111111111111,\"#46039f\"],[0.2222222222222222,\"#7201a8\"],[0.3333333333333333,\"#9c179e\"],[0.4444444444444444,\"#bd3786\"],[0.5555555555555556,\"#d8576b\"],[0.6666666666666666,\"#ed7953\"],[0.7777777777777778,\"#fb9f3a\"],[0.8888888888888888,\"#fdca26\"],[1.0,\"#f0f921\"]],\"diverging\":[[0,\"#8e0152\"],[0.1,\"#c51b7d\"],[0.2,\"#de77ae\"],[0.3,\"#f1b6da\"],[0.4,\"#fde0ef\"],[0.5,\"#f7f7f7\"],[0.6,\"#e6f5d0\"],[0.7,\"#b8e186\"],[0.8,\"#7fbc41\"],[0.9,\"#4d9221\"],[1,\"#276419\"]]},\"xaxis\":{\"gridcolor\":\"white\",\"linecolor\":\"white\",\"ticks\":\"\",\"title\":{\"standoff\":15},\"zerolinecolor\":\"white\",\"automargin\":true,\"zerolinewidth\":2},\"yaxis\":{\"gridcolor\":\"white\",\"linecolor\":\"white\",\"ticks\":\"\",\"title\":{\"standoff\":15},\"zerolinecolor\":\"white\",\"automargin\":true,\"zerolinewidth\":2},\"scene\":{\"xaxis\":{\"backgroundcolor\":\"#E5ECF6\",\"gridcolor\":\"white\",\"linecolor\":\"white\",\"showbackground\":true,\"ticks\":\"\",\"zerolinecolor\":\"white\",\"gridwidth\":2},\"yaxis\":{\"backgroundcolor\":\"#E5ECF6\",\"gridcolor\":\"white\",\"linecolor\":\"white\",\"showbackground\":true,\"ticks\":\"\",\"zerolinecolor\":\"white\",\"gridwidth\":2},\"zaxis\":{\"backgroundcolor\":\"#E5ECF6\",\"gridcolor\":\"white\",\"linecolor\":\"white\",\"showbackground\":true,\"ticks\":\"\",\"zerolinecolor\":\"white\",\"gridwidth\":2}},\"shapedefaults\":{\"line\":{\"color\":\"#2a3f5f\"}},\"annotationdefaults\":{\"arrowcolor\":\"#2a3f5f\",\"arrowhead\":0,\"arrowwidth\":1},\"geo\":{\"bgcolor\":\"white\",\"landcolor\":\"#E5ECF6\",\"subunitcolor\":\"white\",\"showland\":true,\"showlakes\":true,\"lakecolor\":\"white\"},\"title\":{\"x\":0.05},\"mapbox\":{\"style\":\"light\"}}},\"xaxis\":{\"anchor\":\"y\",\"domain\":[0.0,1.0],\"title\":{\"text\":\"Community\"}},\"yaxis\":{\"anchor\":\"x\",\"domain\":[0.0,1.0],\"title\":{\"text\":\"Average Trip Duration (minutes)\"}},\"legend\":{\"tracegroupgap\":0},\"title\":{\"text\":\"Distribution of Average Trip Duration by Community\"},\"boxmode\":\"group\"},                        {\"responsive\": true}                    ).then(function(){\n",
       "                            \n",
       "var gd = document.getElementById('c800302b-190e-44a5-adbe-19d3c54084c0');\n",
       "var x = new MutationObserver(function (mutations, observer) {{\n",
       "        var display = window.getComputedStyle(gd).display;\n",
       "        if (!display || display === 'none') {{\n",
       "            console.log([gd, 'removed!']);\n",
       "            Plotly.purge(gd);\n",
       "            observer.disconnect();\n",
       "        }}\n",
       "}});\n",
       "\n",
       "// Listen for the removal of the full notebook cells\n",
       "var notebookContainer = gd.closest('#notebook-container');\n",
       "if (notebookContainer) {{\n",
       "    x.observe(notebookContainer, {childList: true});\n",
       "}}\n",
       "\n",
       "// Listen for the clearing of the current output cell\n",
       "var outputEl = gd.closest('.output');\n",
       "if (outputEl) {{\n",
       "    x.observe(outputEl, {childList: true});\n",
       "}}\n",
       "\n",
       "                        })                };                });            </script>        </div>"
      ]
     },
     "metadata": {},
     "output_type": "display_data"
    }
   ],
   "source": [
    "fig = px.box(\n",
    "    df,\n",
    "    x='Community',\n",
    "    y='Average Trip Duration (minutes)',\n",
    "    title='Distribution of Average Trip Duration by Community',\n",
    "    points=\"all\",  # Show all points\n",
    "    labels={'Community': 'Community', 'Average Trip Duration (minutes)': 'Average Trip Duration (minutes)'}\n",
    ")\n",
    "\n",
    "fig.show()\n"
   ]
  },
  {
   "cell_type": "code",
   "execution_count": 22,
   "id": "0d6ca876-6823-4012-84dc-9ed3a43ea351",
   "metadata": {
    "tags": []
   },
   "outputs": [
    {
     "name": "stdout",
     "output_type": "stream",
     "text": [
      "Community_end            0          1          2          3\n",
      "Community_start                                            \n",
      "0                 8.762679  13.938748  16.245712  14.495039\n",
      "1                14.296170   8.547607  11.742194  17.638551\n",
      "2                16.625710  11.533228   8.698425  15.493928\n",
      "3                15.120950  17.651246  15.284648  10.218822\n"
     ]
    }
   ],
   "source": [
    "import pandas as pd\n",
    "\n",
    "# Load the dataset\n",
    "file_path = 'complete_data_with_communities.csv'  # Update this path as needed\n",
    "df = pd.read_csv(file_path)\n",
    "\n",
    "# Convert the start and end dates to datetime for proper time handling\n",
    "df['Start date'] = pd.to_datetime(df['Start date'])\n",
    "df['End date'] = pd.to_datetime(df['End date'])\n",
    "\n",
    "# Convert trip duration from milliseconds to minutes\n",
    "df['Total duration (minutes)'] = df['Total duration (ms)'] / 60000  # 60000 ms = 1 minute\n",
    "\n",
    "# Calculate the average trip duration for trips that start and end in the same community\n",
    "community_trip_durations = df.groupby(['Community_start', 'Community_end']).agg({\n",
    "    'Total duration (minutes)': 'mean'\n",
    "}).reset_index()\n",
    "\n",
    "# Pivot the table to create a matrix where rows represent starting communities and columns represent ending communities\n",
    "community_trip_duration_matrix = community_trip_durations.pivot(index='Community_start', columns='Community_end', values='Total duration (minutes)')\n",
    "\n",
    "# Sort the matrix if needed (optional, depending on your analysis requirements)\n",
    "community_trip_duration_matrix_sorted = community_trip_duration_matrix.sort_index(axis=0).sort_index(axis=1)\n",
    "\n",
    "# Display the matrix\n",
    "print(community_trip_duration_matrix_sorted)\n",
    "\n",
    "# Optionally, save the matrix to a CSV file\n",
    "community_trip_duration_matrix_sorted.to_csv('community_trip_duration_matrix.csv')\n"
   ]
  },
  {
   "cell_type": "code",
   "execution_count": 23,
   "id": "8f48f822-8188-4ae0-850c-59975694532c",
   "metadata": {
    "tags": []
   },
   "outputs": [
    {
     "data": {
      "application/vnd.plotly.v1+json": {
       "config": {
        "plotlyServerURL": "https://plot.ly"
       },
       "data": [
        {
         "coloraxis": "coloraxis",
         "hovertemplate": "Community_end: %{x}<br>Community_start: %{y}<br>Average Trip Duration (minutes): %{z}<extra></extra>",
         "name": "0",
         "type": "heatmap",
         "x": [
          0,
          1,
          2,
          3
         ],
         "xaxis": "x",
         "y": [
          0,
          1,
          2,
          3
         ],
         "yaxis": "y",
         "z": [
          [
           8.762679,
           13.938748,
           16.245712,
           14.495039
          ],
          [
           14.29617,
           8.547607,
           11.742194,
           17.638551
          ],
          [
           16.62571,
           11.533228,
           8.698425,
           15.493928
          ],
          [
           15.12095,
           17.651246,
           15.284648,
           10.218822
          ]
         ]
        }
       ],
       "layout": {
        "autosize": true,
        "coloraxis": {
         "colorbar": {
          "title": {
           "text": "Average Trip Duration (minutes)"
          }
         },
         "colorscale": [
          [
           0,
           "#440154"
          ],
          [
           0.1111111111111111,
           "#482878"
          ],
          [
           0.2222222222222222,
           "#3e4989"
          ],
          [
           0.3333333333333333,
           "#31688e"
          ],
          [
           0.4444444444444444,
           "#26828e"
          ],
          [
           0.5555555555555556,
           "#1f9e89"
          ],
          [
           0.6666666666666666,
           "#35b779"
          ],
          [
           0.7777777777777778,
           "#6ece58"
          ],
          [
           0.8888888888888888,
           "#b5de2b"
          ],
          [
           1,
           "#fde725"
          ]
         ]
        },
        "template": {
         "data": {
          "bar": [
           {
            "error_x": {
             "color": "#2a3f5f"
            },
            "error_y": {
             "color": "#2a3f5f"
            },
            "marker": {
             "line": {
              "color": "#E5ECF6",
              "width": 0.5
             },
             "pattern": {
              "fillmode": "overlay",
              "size": 10,
              "solidity": 0.2
             }
            },
            "type": "bar"
           }
          ],
          "barpolar": [
           {
            "marker": {
             "line": {
              "color": "#E5ECF6",
              "width": 0.5
             },
             "pattern": {
              "fillmode": "overlay",
              "size": 10,
              "solidity": 0.2
             }
            },
            "type": "barpolar"
           }
          ],
          "carpet": [
           {
            "aaxis": {
             "endlinecolor": "#2a3f5f",
             "gridcolor": "white",
             "linecolor": "white",
             "minorgridcolor": "white",
             "startlinecolor": "#2a3f5f"
            },
            "baxis": {
             "endlinecolor": "#2a3f5f",
             "gridcolor": "white",
             "linecolor": "white",
             "minorgridcolor": "white",
             "startlinecolor": "#2a3f5f"
            },
            "type": "carpet"
           }
          ],
          "choropleth": [
           {
            "colorbar": {
             "outlinewidth": 0,
             "ticks": ""
            },
            "type": "choropleth"
           }
          ],
          "contour": [
           {
            "colorbar": {
             "outlinewidth": 0,
             "ticks": ""
            },
            "colorscale": [
             [
              0,
              "#0d0887"
             ],
             [
              0.1111111111111111,
              "#46039f"
             ],
             [
              0.2222222222222222,
              "#7201a8"
             ],
             [
              0.3333333333333333,
              "#9c179e"
             ],
             [
              0.4444444444444444,
              "#bd3786"
             ],
             [
              0.5555555555555556,
              "#d8576b"
             ],
             [
              0.6666666666666666,
              "#ed7953"
             ],
             [
              0.7777777777777778,
              "#fb9f3a"
             ],
             [
              0.8888888888888888,
              "#fdca26"
             ],
             [
              1,
              "#f0f921"
             ]
            ],
            "type": "contour"
           }
          ],
          "contourcarpet": [
           {
            "colorbar": {
             "outlinewidth": 0,
             "ticks": ""
            },
            "type": "contourcarpet"
           }
          ],
          "heatmap": [
           {
            "colorbar": {
             "outlinewidth": 0,
             "ticks": ""
            },
            "colorscale": [
             [
              0,
              "#0d0887"
             ],
             [
              0.1111111111111111,
              "#46039f"
             ],
             [
              0.2222222222222222,
              "#7201a8"
             ],
             [
              0.3333333333333333,
              "#9c179e"
             ],
             [
              0.4444444444444444,
              "#bd3786"
             ],
             [
              0.5555555555555556,
              "#d8576b"
             ],
             [
              0.6666666666666666,
              "#ed7953"
             ],
             [
              0.7777777777777778,
              "#fb9f3a"
             ],
             [
              0.8888888888888888,
              "#fdca26"
             ],
             [
              1,
              "#f0f921"
             ]
            ],
            "type": "heatmap"
           }
          ],
          "heatmapgl": [
           {
            "colorbar": {
             "outlinewidth": 0,
             "ticks": ""
            },
            "colorscale": [
             [
              0,
              "#0d0887"
             ],
             [
              0.1111111111111111,
              "#46039f"
             ],
             [
              0.2222222222222222,
              "#7201a8"
             ],
             [
              0.3333333333333333,
              "#9c179e"
             ],
             [
              0.4444444444444444,
              "#bd3786"
             ],
             [
              0.5555555555555556,
              "#d8576b"
             ],
             [
              0.6666666666666666,
              "#ed7953"
             ],
             [
              0.7777777777777778,
              "#fb9f3a"
             ],
             [
              0.8888888888888888,
              "#fdca26"
             ],
             [
              1,
              "#f0f921"
             ]
            ],
            "type": "heatmapgl"
           }
          ],
          "histogram": [
           {
            "marker": {
             "pattern": {
              "fillmode": "overlay",
              "size": 10,
              "solidity": 0.2
             }
            },
            "type": "histogram"
           }
          ],
          "histogram2d": [
           {
            "colorbar": {
             "outlinewidth": 0,
             "ticks": ""
            },
            "colorscale": [
             [
              0,
              "#0d0887"
             ],
             [
              0.1111111111111111,
              "#46039f"
             ],
             [
              0.2222222222222222,
              "#7201a8"
             ],
             [
              0.3333333333333333,
              "#9c179e"
             ],
             [
              0.4444444444444444,
              "#bd3786"
             ],
             [
              0.5555555555555556,
              "#d8576b"
             ],
             [
              0.6666666666666666,
              "#ed7953"
             ],
             [
              0.7777777777777778,
              "#fb9f3a"
             ],
             [
              0.8888888888888888,
              "#fdca26"
             ],
             [
              1,
              "#f0f921"
             ]
            ],
            "type": "histogram2d"
           }
          ],
          "histogram2dcontour": [
           {
            "colorbar": {
             "outlinewidth": 0,
             "ticks": ""
            },
            "colorscale": [
             [
              0,
              "#0d0887"
             ],
             [
              0.1111111111111111,
              "#46039f"
             ],
             [
              0.2222222222222222,
              "#7201a8"
             ],
             [
              0.3333333333333333,
              "#9c179e"
             ],
             [
              0.4444444444444444,
              "#bd3786"
             ],
             [
              0.5555555555555556,
              "#d8576b"
             ],
             [
              0.6666666666666666,
              "#ed7953"
             ],
             [
              0.7777777777777778,
              "#fb9f3a"
             ],
             [
              0.8888888888888888,
              "#fdca26"
             ],
             [
              1,
              "#f0f921"
             ]
            ],
            "type": "histogram2dcontour"
           }
          ],
          "mesh3d": [
           {
            "colorbar": {
             "outlinewidth": 0,
             "ticks": ""
            },
            "type": "mesh3d"
           }
          ],
          "parcoords": [
           {
            "line": {
             "colorbar": {
              "outlinewidth": 0,
              "ticks": ""
             }
            },
            "type": "parcoords"
           }
          ],
          "pie": [
           {
            "automargin": true,
            "type": "pie"
           }
          ],
          "scatter": [
           {
            "fillpattern": {
             "fillmode": "overlay",
             "size": 10,
             "solidity": 0.2
            },
            "type": "scatter"
           }
          ],
          "scatter3d": [
           {
            "line": {
             "colorbar": {
              "outlinewidth": 0,
              "ticks": ""
             }
            },
            "marker": {
             "colorbar": {
              "outlinewidth": 0,
              "ticks": ""
             }
            },
            "type": "scatter3d"
           }
          ],
          "scattercarpet": [
           {
            "marker": {
             "colorbar": {
              "outlinewidth": 0,
              "ticks": ""
             }
            },
            "type": "scattercarpet"
           }
          ],
          "scattergeo": [
           {
            "marker": {
             "colorbar": {
              "outlinewidth": 0,
              "ticks": ""
             }
            },
            "type": "scattergeo"
           }
          ],
          "scattergl": [
           {
            "marker": {
             "colorbar": {
              "outlinewidth": 0,
              "ticks": ""
             }
            },
            "type": "scattergl"
           }
          ],
          "scattermapbox": [
           {
            "marker": {
             "colorbar": {
              "outlinewidth": 0,
              "ticks": ""
             }
            },
            "type": "scattermapbox"
           }
          ],
          "scatterpolar": [
           {
            "marker": {
             "colorbar": {
              "outlinewidth": 0,
              "ticks": ""
             }
            },
            "type": "scatterpolar"
           }
          ],
          "scatterpolargl": [
           {
            "marker": {
             "colorbar": {
              "outlinewidth": 0,
              "ticks": ""
             }
            },
            "type": "scatterpolargl"
           }
          ],
          "scatterternary": [
           {
            "marker": {
             "colorbar": {
              "outlinewidth": 0,
              "ticks": ""
             }
            },
            "type": "scatterternary"
           }
          ],
          "surface": [
           {
            "colorbar": {
             "outlinewidth": 0,
             "ticks": ""
            },
            "colorscale": [
             [
              0,
              "#0d0887"
             ],
             [
              0.1111111111111111,
              "#46039f"
             ],
             [
              0.2222222222222222,
              "#7201a8"
             ],
             [
              0.3333333333333333,
              "#9c179e"
             ],
             [
              0.4444444444444444,
              "#bd3786"
             ],
             [
              0.5555555555555556,
              "#d8576b"
             ],
             [
              0.6666666666666666,
              "#ed7953"
             ],
             [
              0.7777777777777778,
              "#fb9f3a"
             ],
             [
              0.8888888888888888,
              "#fdca26"
             ],
             [
              1,
              "#f0f921"
             ]
            ],
            "type": "surface"
           }
          ],
          "table": [
           {
            "cells": {
             "fill": {
              "color": "#EBF0F8"
             },
             "line": {
              "color": "white"
             }
            },
            "header": {
             "fill": {
              "color": "#C8D4E3"
             },
             "line": {
              "color": "white"
             }
            },
            "type": "table"
           }
          ]
         },
         "layout": {
          "annotationdefaults": {
           "arrowcolor": "#2a3f5f",
           "arrowhead": 0,
           "arrowwidth": 1
          },
          "autotypenumbers": "strict",
          "coloraxis": {
           "colorbar": {
            "outlinewidth": 0,
            "ticks": ""
           }
          },
          "colorscale": {
           "diverging": [
            [
             0,
             "#8e0152"
            ],
            [
             0.1,
             "#c51b7d"
            ],
            [
             0.2,
             "#de77ae"
            ],
            [
             0.3,
             "#f1b6da"
            ],
            [
             0.4,
             "#fde0ef"
            ],
            [
             0.5,
             "#f7f7f7"
            ],
            [
             0.6,
             "#e6f5d0"
            ],
            [
             0.7,
             "#b8e186"
            ],
            [
             0.8,
             "#7fbc41"
            ],
            [
             0.9,
             "#4d9221"
            ],
            [
             1,
             "#276419"
            ]
           ],
           "sequential": [
            [
             0,
             "#0d0887"
            ],
            [
             0.1111111111111111,
             "#46039f"
            ],
            [
             0.2222222222222222,
             "#7201a8"
            ],
            [
             0.3333333333333333,
             "#9c179e"
            ],
            [
             0.4444444444444444,
             "#bd3786"
            ],
            [
             0.5555555555555556,
             "#d8576b"
            ],
            [
             0.6666666666666666,
             "#ed7953"
            ],
            [
             0.7777777777777778,
             "#fb9f3a"
            ],
            [
             0.8888888888888888,
             "#fdca26"
            ],
            [
             1,
             "#f0f921"
            ]
           ],
           "sequentialminus": [
            [
             0,
             "#0d0887"
            ],
            [
             0.1111111111111111,
             "#46039f"
            ],
            [
             0.2222222222222222,
             "#7201a8"
            ],
            [
             0.3333333333333333,
             "#9c179e"
            ],
            [
             0.4444444444444444,
             "#bd3786"
            ],
            [
             0.5555555555555556,
             "#d8576b"
            ],
            [
             0.6666666666666666,
             "#ed7953"
            ],
            [
             0.7777777777777778,
             "#fb9f3a"
            ],
            [
             0.8888888888888888,
             "#fdca26"
            ],
            [
             1,
             "#f0f921"
            ]
           ]
          },
          "colorway": [
           "#636efa",
           "#EF553B",
           "#00cc96",
           "#ab63fa",
           "#FFA15A",
           "#19d3f3",
           "#FF6692",
           "#B6E880",
           "#FF97FF",
           "#FECB52"
          ],
          "font": {
           "color": "#2a3f5f"
          },
          "geo": {
           "bgcolor": "white",
           "lakecolor": "white",
           "landcolor": "#E5ECF6",
           "showlakes": true,
           "showland": true,
           "subunitcolor": "white"
          },
          "hoverlabel": {
           "align": "left"
          },
          "hovermode": "closest",
          "mapbox": {
           "style": "light"
          },
          "paper_bgcolor": "white",
          "plot_bgcolor": "#E5ECF6",
          "polar": {
           "angularaxis": {
            "gridcolor": "white",
            "linecolor": "white",
            "ticks": ""
           },
           "bgcolor": "#E5ECF6",
           "radialaxis": {
            "gridcolor": "white",
            "linecolor": "white",
            "ticks": ""
           }
          },
          "scene": {
           "xaxis": {
            "backgroundcolor": "#E5ECF6",
            "gridcolor": "white",
            "gridwidth": 2,
            "linecolor": "white",
            "showbackground": true,
            "ticks": "",
            "zerolinecolor": "white"
           },
           "yaxis": {
            "backgroundcolor": "#E5ECF6",
            "gridcolor": "white",
            "gridwidth": 2,
            "linecolor": "white",
            "showbackground": true,
            "ticks": "",
            "zerolinecolor": "white"
           },
           "zaxis": {
            "backgroundcolor": "#E5ECF6",
            "gridcolor": "white",
            "gridwidth": 2,
            "linecolor": "white",
            "showbackground": true,
            "ticks": "",
            "zerolinecolor": "white"
           }
          },
          "shapedefaults": {
           "line": {
            "color": "#2a3f5f"
           }
          },
          "ternary": {
           "aaxis": {
            "gridcolor": "white",
            "linecolor": "white",
            "ticks": ""
           },
           "baxis": {
            "gridcolor": "white",
            "linecolor": "white",
            "ticks": ""
           },
           "bgcolor": "#E5ECF6",
           "caxis": {
            "gridcolor": "white",
            "linecolor": "white",
            "ticks": ""
           }
          },
          "title": {
           "x": 0.05
          },
          "xaxis": {
           "automargin": true,
           "gridcolor": "white",
           "linecolor": "white",
           "ticks": "",
           "title": {
            "standoff": 15
           },
           "zerolinecolor": "white",
           "zerolinewidth": 2
          },
          "yaxis": {
           "automargin": true,
           "gridcolor": "white",
           "linecolor": "white",
           "ticks": "",
           "title": {
            "standoff": 15
           },
           "zerolinecolor": "white",
           "zerolinewidth": 2
          }
         }
        },
        "title": {
         "text": "Heatmap of Average Trip Duration Between Communities"
        },
        "xaxis": {
         "anchor": "y",
         "autorange": true,
         "constrain": "domain",
         "domain": [
          0.38916256157635465,
          0.6108374384236454
         ],
         "range": [
          -0.5,
          3.5
         ],
         "scaleanchor": "y",
         "title": {
          "text": "Community_end"
         },
         "type": "linear"
        },
        "yaxis": {
         "anchor": "x",
         "autorange": true,
         "constrain": "domain",
         "domain": [
          0,
          1
         ],
         "range": [
          3.5,
          -0.5
         ],
         "title": {
          "text": "Community_start"
         },
         "type": "linear"
        }
       }
      },
      "image/png": "[encoded data removed]",
      "text/html": [
       "<div>                            <div id=\"6e2451ba-4779-487b-bfdd-302610d1d88e\" class=\"plotly-graph-div\" style=\"height:525px; width:100%;\"></div>            <script type=\"text/javascript\">                require([\"plotly\"], function(Plotly) {                    window.PLOTLYENV=window.PLOTLYENV || {};                                    if (document.getElementById(\"6e2451ba-4779-487b-bfdd-302610d1d88e\")) {                    Plotly.newPlot(                        \"6e2451ba-4779-487b-bfdd-302610d1d88e\",                        [{\"coloraxis\":\"coloraxis\",\"name\":\"0\",\"x\":[0,1,2,3],\"y\":[0,1,2,3],\"z\":[[8.762679,13.938748,16.245712,14.495039],[14.29617,8.547607,11.742194,17.638551],[16.62571,11.533228,8.698425,15.493928],[15.12095,17.651246,15.284648,10.218822]],\"type\":\"heatmap\",\"xaxis\":\"x\",\"yaxis\":\"y\",\"hovertemplate\":\"Community_end: %{x}<br>Community_start: %{y}<br>Average Trip Duration (minutes): %{z}<extra></extra>\"}],                        {\"template\":{\"data\":{\"histogram2dcontour\":[{\"type\":\"histogram2dcontour\",\"colorbar\":{\"outlinewidth\":0,\"ticks\":\"\"},\"colorscale\":[[0.0,\"#0d0887\"],[0.1111111111111111,\"#46039f\"],[0.2222222222222222,\"#7201a8\"],[0.3333333333333333,\"#9c179e\"],[0.4444444444444444,\"#bd3786\"],[0.5555555555555556,\"#d8576b\"],[0.6666666666666666,\"#ed7953\"],[0.7777777777777778,\"#fb9f3a\"],[0.8888888888888888,\"#fdca26\"],[1.0,\"#f0f921\"]]}],\"choropleth\":[{\"type\":\"choropleth\",\"colorbar\":{\"outlinewidth\":0,\"ticks\":\"\"}}],\"histogram2d\":[{\"type\":\"histogram2d\",\"colorbar\":{\"outlinewidth\":0,\"ticks\":\"\"},\"colorscale\":[[0.0,\"#0d0887\"],[0.1111111111111111,\"#46039f\"],[0.2222222222222222,\"#7201a8\"],[0.3333333333333333,\"#9c179e\"],[0.4444444444444444,\"#bd3786\"],[0.5555555555555556,\"#d8576b\"],[0.6666666666666666,\"#ed7953\"],[0.7777777777777778,\"#fb9f3a\"],[0.8888888888888888,\"#fdca26\"],[1.0,\"#f0f921\"]]}],\"heatmap\":[{\"type\":\"heatmap\",\"colorbar\":{\"outlinewidth\":0,\"ticks\":\"\"},\"colorscale\":[[0.0,\"#0d0887\"],[0.1111111111111111,\"#46039f\"],[0.2222222222222222,\"#7201a8\"],[0.3333333333333333,\"#9c179e\"],[0.4444444444444444,\"#bd3786\"],[0.5555555555555556,\"#d8576b\"],[0.6666666666666666,\"#ed7953\"],[0.7777777777777778,\"#fb9f3a\"],[0.8888888888888888,\"#fdca26\"],[1.0,\"#f0f921\"]]}],\"heatmapgl\":[{\"type\":\"heatmapgl\",\"colorbar\":{\"outlinewidth\":0,\"ticks\":\"\"},\"colorscale\":[[0.0,\"#0d0887\"],[0.1111111111111111,\"#46039f\"],[0.2222222222222222,\"#7201a8\"],[0.3333333333333333,\"#9c179e\"],[0.4444444444444444,\"#bd3786\"],[0.5555555555555556,\"#d8576b\"],[0.6666666666666666,\"#ed7953\"],[0.7777777777777778,\"#fb9f3a\"],[0.8888888888888888,\"#fdca26\"],[1.0,\"#f0f921\"]]}],\"contourcarpet\":[{\"type\":\"contourcarpet\",\"colorbar\":{\"outlinewidth\":0,\"ticks\":\"\"}}],\"contour\":[{\"type\":\"contour\",\"colorbar\":{\"outlinewidth\":0,\"ticks\":\"\"},\"colorscale\":[[0.0,\"#0d0887\"],[0.1111111111111111,\"#46039f\"],[0.2222222222222222,\"#7201a8\"],[0.3333333333333333,\"#9c179e\"],[0.4444444444444444,\"#bd3786\"],[0.5555555555555556,\"#d8576b\"],[0.6666666666666666,\"#ed7953\"],[0.7777777777777778,\"#fb9f3a\"],[0.8888888888888888,\"#fdca26\"],[1.0,\"#f0f921\"]]}],\"surface\":[{\"type\":\"surface\",\"colorbar\":{\"outlinewidth\":0,\"ticks\":\"\"},\"colorscale\":[[0.0,\"#0d0887\"],[0.1111111111111111,\"#46039f\"],[0.2222222222222222,\"#7201a8\"],[0.3333333333333333,\"#9c179e\"],[0.4444444444444444,\"#bd3786\"],[0.5555555555555556,\"#d8576b\"],[0.6666666666666666,\"#ed7953\"],[0.7777777777777778,\"#fb9f3a\"],[0.8888888888888888,\"#fdca26\"],[1.0,\"#f0f921\"]]}],\"mesh3d\":[{\"type\":\"mesh3d\",\"colorbar\":{\"outlinewidth\":0,\"ticks\":\"\"}}],\"scatter\":[{\"fillpattern\":{\"fillmode\":\"overlay\",\"size\":10,\"solidity\":0.2},\"type\":\"scatter\"}],\"parcoords\":[{\"type\":\"parcoords\",\"line\":{\"colorbar\":{\"outlinewidth\":0,\"ticks\":\"\"}}}],\"scatterpolargl\":[{\"type\":\"scatterpolargl\",\"marker\":{\"colorbar\":{\"outlinewidth\":0,\"ticks\":\"\"}}}],\"bar\":[{\"error_x\":{\"color\":\"#2a3f5f\"},\"error_y\":{\"color\":\"#2a3f5f\"},\"marker\":{\"line\":{\"color\":\"#E5ECF6\",\"width\":0.5},\"pattern\":{\"fillmode\":\"overlay\",\"size\":10,\"solidity\":0.2}},\"type\":\"bar\"}],\"scattergeo\":[{\"type\":\"scattergeo\",\"marker\":{\"colorbar\":{\"outlinewidth\":0,\"ticks\":\"\"}}}],\"scatterpolar\":[{\"type\":\"scatterpolar\",\"marker\":{\"colorbar\":{\"outlinewidth\":0,\"ticks\":\"\"}}}],\"histogram\":[{\"marker\":{\"pattern\":{\"fillmode\":\"overlay\",\"size\":10,\"solidity\":0.2}},\"type\":\"histogram\"}],\"scattergl\":[{\"type\":\"scattergl\",\"marker\":{\"colorbar\":{\"outlinewidth\":0,\"ticks\":\"\"}}}],\"scatter3d\":[{\"type\":\"scatter3d\",\"line\":{\"colorbar\":{\"outlinewidth\":0,\"ticks\":\"\"}},\"marker\":{\"colorbar\":{\"outlinewidth\":0,\"ticks\":\"\"}}}],\"scattermapbox\":[{\"type\":\"scattermapbox\",\"marker\":{\"colorbar\":{\"outlinewidth\":0,\"ticks\":\"\"}}}],\"scatterternary\":[{\"type\":\"scatterternary\",\"marker\":{\"colorbar\":{\"outlinewidth\":0,\"ticks\":\"\"}}}],\"scattercarpet\":[{\"type\":\"scattercarpet\",\"marker\":{\"colorbar\":{\"outlinewidth\":0,\"ticks\":\"\"}}}],\"carpet\":[{\"aaxis\":{\"endlinecolor\":\"#2a3f5f\",\"gridcolor\":\"white\",\"linecolor\":\"white\",\"minorgridcolor\":\"white\",\"startlinecolor\":\"#2a3f5f\"},\"baxis\":{\"endlinecolor\":\"#2a3f5f\",\"gridcolor\":\"white\",\"linecolor\":\"white\",\"minorgridcolor\":\"white\",\"startlinecolor\":\"#2a3f5f\"},\"type\":\"carpet\"}],\"table\":[{\"cells\":{\"fill\":{\"color\":\"#EBF0F8\"},\"line\":{\"color\":\"white\"}},\"header\":{\"fill\":{\"color\":\"#C8D4E3\"},\"line\":{\"color\":\"white\"}},\"type\":\"table\"}],\"barpolar\":[{\"marker\":{\"line\":{\"color\":\"#E5ECF6\",\"width\":0.5},\"pattern\":{\"fillmode\":\"overlay\",\"size\":10,\"solidity\":0.2}},\"type\":\"barpolar\"}],\"pie\":[{\"automargin\":true,\"type\":\"pie\"}]},\"layout\":{\"autotypenumbers\":\"strict\",\"colorway\":[\"#636efa\",\"#EF553B\",\"#00cc96\",\"#ab63fa\",\"#FFA15A\",\"#19d3f3\",\"#FF6692\",\"#B6E880\",\"#FF97FF\",\"#FECB52\"],\"font\":{\"color\":\"#2a3f5f\"},\"hovermode\":\"closest\",\"hoverlabel\":{\"align\":\"left\"},\"paper_bgcolor\":\"white\",\"plot_bgcolor\":\"#E5ECF6\",\"polar\":{\"bgcolor\":\"#E5ECF6\",\"angularaxis\":{\"gridcolor\":\"white\",\"linecolor\":\"white\",\"ticks\":\"\"},\"radialaxis\":{\"gridcolor\":\"white\",\"linecolor\":\"white\",\"ticks\":\"\"}},\"ternary\":{\"bgcolor\":\"#E5ECF6\",\"aaxis\":{\"gridcolor\":\"white\",\"linecolor\":\"white\",\"ticks\":\"\"},\"baxis\":{\"gridcolor\":\"white\",\"linecolor\":\"white\",\"ticks\":\"\"},\"caxis\":{\"gridcolor\":\"white\",\"linecolor\":\"white\",\"ticks\":\"\"}},\"coloraxis\":{\"colorbar\":{\"outlinewidth\":0,\"ticks\":\"\"}},\"colorscale\":{\"sequential\":[[0.0,\"#0d0887\"],[0.1111111111111111,\"#46039f\"],[0.2222222222222222,\"#7201a8\"],[0.3333333333333333,\"#9c179e\"],[0.4444444444444444,\"#bd3786\"],[0.5555555555555556,\"#d8576b\"],[0.6666666666666666,\"#ed7953\"],[0.7777777777777778,\"#fb9f3a\"],[0.8888888888888888,\"#fdca26\"],[1.0,\"#f0f921\"]],\"sequentialminus\":[[0.0,\"#0d0887\"],[0.1111111111111111,\"#46039f\"],[0.2222222222222222,\"#7201a8\"],[0.3333333333333333,\"#9c179e\"],[0.4444444444444444,\"#bd3786\"],[0.5555555555555556,\"#d8576b\"],[0.6666666666666666,\"#ed7953\"],[0.7777777777777778,\"#fb9f3a\"],[0.8888888888888888,\"#fdca26\"],[1.0,\"#f0f921\"]],\"diverging\":[[0,\"#8e0152\"],[0.1,\"#c51b7d\"],[0.2,\"#de77ae\"],[0.3,\"#f1b6da\"],[0.4,\"#fde0ef\"],[0.5,\"#f7f7f7\"],[0.6,\"#e6f5d0\"],[0.7,\"#b8e186\"],[0.8,\"#7fbc41\"],[0.9,\"#4d9221\"],[1,\"#276419\"]]},\"xaxis\":{\"gridcolor\":\"white\",\"linecolor\":\"white\",\"ticks\":\"\",\"title\":{\"standoff\":15},\"zerolinecolor\":\"white\",\"automargin\":true,\"zerolinewidth\":2},\"yaxis\":{\"gridcolor\":\"white\",\"linecolor\":\"white\",\"ticks\":\"\",\"title\":{\"standoff\":15},\"zerolinecolor\":\"white\",\"automargin\":true,\"zerolinewidth\":2},\"scene\":{\"xaxis\":{\"backgroundcolor\":\"#E5ECF6\",\"gridcolor\":\"white\",\"linecolor\":\"white\",\"showbackground\":true,\"ticks\":\"\",\"zerolinecolor\":\"white\",\"gridwidth\":2},\"yaxis\":{\"backgroundcolor\":\"#E5ECF6\",\"gridcolor\":\"white\",\"linecolor\":\"white\",\"showbackground\":true,\"ticks\":\"\",\"zerolinecolor\":\"white\",\"gridwidth\":2},\"zaxis\":{\"backgroundcolor\":\"#E5ECF6\",\"gridcolor\":\"white\",\"linecolor\":\"white\",\"showbackground\":true,\"ticks\":\"\",\"zerolinecolor\":\"white\",\"gridwidth\":2}},\"shapedefaults\":{\"line\":{\"color\":\"#2a3f5f\"}},\"annotationdefaults\":{\"arrowcolor\":\"#2a3f5f\",\"arrowhead\":0,\"arrowwidth\":1},\"geo\":{\"bgcolor\":\"white\",\"landcolor\":\"#E5ECF6\",\"subunitcolor\":\"white\",\"showland\":true,\"showlakes\":true,\"lakecolor\":\"white\"},\"title\":{\"x\":0.05},\"mapbox\":{\"style\":\"light\"}}},\"xaxis\":{\"anchor\":\"y\",\"domain\":[0.0,1.0],\"scaleanchor\":\"y\",\"constrain\":\"domain\",\"title\":{\"text\":\"Community_end\"}},\"yaxis\":{\"anchor\":\"x\",\"domain\":[0.0,1.0],\"autorange\":\"reversed\",\"constrain\":\"domain\",\"title\":{\"text\":\"Community_start\"}},\"coloraxis\":{\"colorbar\":{\"title\":{\"text\":\"Average Trip Duration (minutes)\"}},\"colorscale\":[[0.0,\"#440154\"],[0.1111111111111111,\"#482878\"],[0.2222222222222222,\"#3e4989\"],[0.3333333333333333,\"#31688e\"],[0.4444444444444444,\"#26828e\"],[0.5555555555555556,\"#1f9e89\"],[0.6666666666666666,\"#35b779\"],[0.7777777777777778,\"#6ece58\"],[0.8888888888888888,\"#b5de2b\"],[1.0,\"#fde725\"]]},\"title\":{\"text\":\"Heatmap of Average Trip Duration Between Communities\"}},                        {\"responsive\": true}                    ).then(function(){\n",
       "                            \n",
       "var gd = document.getElementById('6e2451ba-4779-487b-bfdd-302610d1d88e');\n",
       "var x = new MutationObserver(function (mutations, observer) {{\n",
       "        var display = window.getComputedStyle(gd).display;\n",
       "        if (!display || display === 'none') {{\n",
       "            console.log([gd, 'removed!']);\n",
       "            Plotly.purge(gd);\n",
       "            observer.disconnect();\n",
       "        }}\n",
       "}});\n",
       "\n",
       "// Listen for the removal of the full notebook cells\n",
       "var notebookContainer = gd.closest('#notebook-container');\n",
       "if (notebookContainer) {{\n",
       "    x.observe(notebookContainer, {childList: true});\n",
       "}}\n",
       "\n",
       "// Listen for the clearing of the current output cell\n",
       "var outputEl = gd.closest('.output');\n",
       "if (outputEl) {{\n",
       "    x.observe(outputEl, {childList: true});\n",
       "}}\n",
       "\n",
       "                        })                };                });            </script>        </div>"
      ]
     },
     "metadata": {},
     "output_type": "display_data"
    }
   ],
   "source": [
    "import plotly.express as px\n",
    "import pandas as pd\n",
    "\n",
    "file_path = 'community_trip_duration_matrix.csv'\n",
    "data = pd.read_csv(file_path)\n",
    "# Assuming 'community_trip_duration_matrix_sorted' is your DataFrame\n",
    "data = {\n",
    "    'Community_start': [0, 1, 2, 3],\n",
    "    0: [8.762679, 14.296170, 16.625710, 15.120950],\n",
    "    1: [13.938748, 8.547607, 11.533228, 17.651246],\n",
    "    2: [16.245712, 11.742194, 8.698425, 15.284648],\n",
    "    3: [14.495039, 17.638551, 15.493928, 10.218822]\n",
    "}\n",
    "\n",
    "# Convert the dictionary to a DataFrame\n",
    "community_trip_duration_matrix_sorted = pd.DataFrame(data)\n",
    "community_trip_duration_matrix_sorted.set_index('Community_start', inplace=True)\n",
    "\n",
    "# Create a heatmap\n",
    "fig = px.imshow(\n",
    "    community_trip_duration_matrix_sorted,\n",
    "    labels=dict(x=\"Community_end\", y=\"Community_start\", color=\"Average Trip Duration (minutes)\"),\n",
    "    x=community_trip_duration_matrix_sorted.columns,\n",
    "    y=community_trip_duration_matrix_sorted.index,\n",
    "    color_continuous_scale=\"Viridis\",  # You can choose other color scales like \"Cividis\", \"Plasma\", \"Inferno\"\n",
    "    title=\"Heatmap of Average Trip Duration Between Communities\"\n",
    ")\n",
    "\n",
    "fig.show()\n"
   ]
  },
  {
   "cell_type": "code",
   "execution_count": 21,
   "id": "d6422294-a1d9-43c4-8bb5-48d8d8bc5a2c",
   "metadata": {
    "tags": []
   },
   "outputs": [
    {
     "data": {
      "application/vnd.plotly.v1+json": {
       "config": {
        "plotlyServerURL": "https://plot.ly"
       },
       "data": [
        {
         "alignmentgroup": "True",
         "hovertemplate": "Community=%{x}<br>Average Trip Duration (minutes)=%{y}<extra></extra>",
         "legendgroup": "",
         "marker": {
          "color": "#636efa",
          "pattern": {
           "shape": ""
          }
         },
         "name": "",
         "offsetgroup": "",
         "orientation": "v",
         "showlegend": false,
         "textposition": "auto",
         "type": "bar",
         "x": [
          0,
          1,
          2,
          3
         ],
         "xaxis": "x",
         "y": [
          11.360883066248906,
          10.772426896802733,
          11.050238208854015,
          13.023404765060242
         ],
         "yaxis": "y"
        }
       ],
       "layout": {
        "autosize": true,
        "barmode": "relative",
        "legend": {
         "tracegroupgap": 0
        },
        "template": {
         "data": {
          "bar": [
           {
            "error_x": {
             "color": "#2a3f5f"
            },
            "error_y": {
             "color": "#2a3f5f"
            },
            "marker": {
             "line": {
              "color": "#E5ECF6",
              "width": 0.5
             },
             "pattern": {
              "fillmode": "overlay",
              "size": 10,
              "solidity": 0.2
             }
            },
            "type": "bar"
           }
          ],
          "barpolar": [
           {
            "marker": {
             "line": {
              "color": "#E5ECF6",
              "width": 0.5
             },
             "pattern": {
              "fillmode": "overlay",
              "size": 10,
              "solidity": 0.2
             }
            },
            "type": "barpolar"
           }
          ],
          "carpet": [
           {
            "aaxis": {
             "endlinecolor": "#2a3f5f",
             "gridcolor": "white",
             "linecolor": "white",
             "minorgridcolor": "white",
             "startlinecolor": "#2a3f5f"
            },
            "baxis": {
             "endlinecolor": "#2a3f5f",
             "gridcolor": "white",
             "linecolor": "white",
             "minorgridcolor": "white",
             "startlinecolor": "#2a3f5f"
            },
            "type": "carpet"
           }
          ],
          "choropleth": [
           {
            "colorbar": {
             "outlinewidth": 0,
             "ticks": ""
            },
            "type": "choropleth"
           }
          ],
          "contour": [
           {
            "colorbar": {
             "outlinewidth": 0,
             "ticks": ""
            },
            "colorscale": [
             [
              0,
              "#0d0887"
             ],
             [
              0.1111111111111111,
              "#46039f"
             ],
             [
              0.2222222222222222,
              "#7201a8"
             ],
             [
              0.3333333333333333,
              "#9c179e"
             ],
             [
              0.4444444444444444,
              "#bd3786"
             ],
             [
              0.5555555555555556,
              "#d8576b"
             ],
             [
              0.6666666666666666,
              "#ed7953"
             ],
             [
              0.7777777777777778,
              "#fb9f3a"
             ],
             [
              0.8888888888888888,
              "#fdca26"
             ],
             [
              1,
              "#f0f921"
             ]
            ],
            "type": "contour"
           }
          ],
          "contourcarpet": [
           {
            "colorbar": {
             "outlinewidth": 0,
             "ticks": ""
            },
            "type": "contourcarpet"
           }
          ],
          "heatmap": [
           {
            "colorbar": {
             "outlinewidth": 0,
             "ticks": ""
            },
            "colorscale": [
             [
              0,
              "#0d0887"
             ],
             [
              0.1111111111111111,
              "#46039f"
             ],
             [
              0.2222222222222222,
              "#7201a8"
             ],
             [
              0.3333333333333333,
              "#9c179e"
             ],
             [
              0.4444444444444444,
              "#bd3786"
             ],
             [
              0.5555555555555556,
              "#d8576b"
             ],
             [
              0.6666666666666666,
              "#ed7953"
             ],
             [
              0.7777777777777778,
              "#fb9f3a"
             ],
             [
              0.8888888888888888,
              "#fdca26"
             ],
             [
              1,
              "#f0f921"
             ]
            ],
            "type": "heatmap"
           }
          ],
          "heatmapgl": [
           {
            "colorbar": {
             "outlinewidth": 0,
             "ticks": ""
            },
            "colorscale": [
             [
              0,
              "#0d0887"
             ],
             [
              0.1111111111111111,
              "#46039f"
             ],
             [
              0.2222222222222222,
              "#7201a8"
             ],
             [
              0.3333333333333333,
              "#9c179e"
             ],
             [
              0.4444444444444444,
              "#bd3786"
             ],
             [
              0.5555555555555556,
              "#d8576b"
             ],
             [
              0.6666666666666666,
              "#ed7953"
             ],
             [
              0.7777777777777778,
              "#fb9f3a"
             ],
             [
              0.8888888888888888,
              "#fdca26"
             ],
             [
              1,
              "#f0f921"
             ]
            ],
            "type": "heatmapgl"
           }
          ],
          "histogram": [
           {
            "marker": {
             "pattern": {
              "fillmode": "overlay",
              "size": 10,
              "solidity": 0.2
             }
            },
            "type": "histogram"
           }
          ],
          "histogram2d": [
           {
            "colorbar": {
             "outlinewidth": 0,
             "ticks": ""
            },
            "colorscale": [
             [
              0,
              "#0d0887"
             ],
             [
              0.1111111111111111,
              "#46039f"
             ],
             [
              0.2222222222222222,
              "#7201a8"
             ],
             [
              0.3333333333333333,
              "#9c179e"
             ],
             [
              0.4444444444444444,
              "#bd3786"
             ],
             [
              0.5555555555555556,
              "#d8576b"
             ],
             [
              0.6666666666666666,
              "#ed7953"
             ],
             [
              0.7777777777777778,
              "#fb9f3a"
             ],
             [
              0.8888888888888888,
              "#fdca26"
             ],
             [
              1,
              "#f0f921"
             ]
            ],
            "type": "histogram2d"
           }
          ],
          "histogram2dcontour": [
           {
            "colorbar": {
             "outlinewidth": 0,
             "ticks": ""
            },
            "colorscale": [
             [
              0,
              "#0d0887"
             ],
             [
              0.1111111111111111,
              "#46039f"
             ],
             [
              0.2222222222222222,
              "#7201a8"
             ],
             [
              0.3333333333333333,
              "#9c179e"
             ],
             [
              0.4444444444444444,
              "#bd3786"
             ],
             [
              0.5555555555555556,
              "#d8576b"
             ],
             [
              0.6666666666666666,
              "#ed7953"
             ],
             [
              0.7777777777777778,
              "#fb9f3a"
             ],
             [
              0.8888888888888888,
              "#fdca26"
             ],
             [
              1,
              "#f0f921"
             ]
            ],
            "type": "histogram2dcontour"
           }
          ],
          "mesh3d": [
           {
            "colorbar": {
             "outlinewidth": 0,
             "ticks": ""
            },
            "type": "mesh3d"
           }
          ],
          "parcoords": [
           {
            "line": {
             "colorbar": {
              "outlinewidth": 0,
              "ticks": ""
             }
            },
            "type": "parcoords"
           }
          ],
          "pie": [
           {
            "automargin": true,
            "type": "pie"
           }
          ],
          "scatter": [
           {
            "fillpattern": {
             "fillmode": "overlay",
             "size": 10,
             "solidity": 0.2
            },
            "type": "scatter"
           }
          ],
          "scatter3d": [
           {
            "line": {
             "colorbar": {
              "outlinewidth": 0,
              "ticks": ""
             }
            },
            "marker": {
             "colorbar": {
              "outlinewidth": 0,
              "ticks": ""
             }
            },
            "type": "scatter3d"
           }
          ],
          "scattercarpet": [
           {
            "marker": {
             "colorbar": {
              "outlinewidth": 0,
              "ticks": ""
             }
            },
            "type": "scattercarpet"
           }
          ],
          "scattergeo": [
           {
            "marker": {
             "colorbar": {
              "outlinewidth": 0,
              "ticks": ""
             }
            },
            "type": "scattergeo"
           }
          ],
          "scattergl": [
           {
            "marker": {
             "colorbar": {
              "outlinewidth": 0,
              "ticks": ""
             }
            },
            "type": "scattergl"
           }
          ],
          "scattermapbox": [
           {
            "marker": {
             "colorbar": {
              "outlinewidth": 0,
              "ticks": ""
             }
            },
            "type": "scattermapbox"
           }
          ],
          "scatterpolar": [
           {
            "marker": {
             "colorbar": {
              "outlinewidth": 0,
              "ticks": ""
             }
            },
            "type": "scatterpolar"
           }
          ],
          "scatterpolargl": [
           {
            "marker": {
             "colorbar": {
              "outlinewidth": 0,
              "ticks": ""
             }
            },
            "type": "scatterpolargl"
           }
          ],
          "scatterternary": [
           {
            "marker": {
             "colorbar": {
              "outlinewidth": 0,
              "ticks": ""
             }
            },
            "type": "scatterternary"
           }
          ],
          "surface": [
           {
            "colorbar": {
             "outlinewidth": 0,
             "ticks": ""
            },
            "colorscale": [
             [
              0,
              "#0d0887"
             ],
             [
              0.1111111111111111,
              "#46039f"
             ],
             [
              0.2222222222222222,
              "#7201a8"
             ],
             [
              0.3333333333333333,
              "#9c179e"
             ],
             [
              0.4444444444444444,
              "#bd3786"
             ],
             [
              0.5555555555555556,
              "#d8576b"
             ],
             [
              0.6666666666666666,
              "#ed7953"
             ],
             [
              0.7777777777777778,
              "#fb9f3a"
             ],
             [
              0.8888888888888888,
              "#fdca26"
             ],
             [
              1,
              "#f0f921"
             ]
            ],
            "type": "surface"
           }
          ],
          "table": [
           {
            "cells": {
             "fill": {
              "color": "#EBF0F8"
             },
             "line": {
              "color": "white"
             }
            },
            "header": {
             "fill": {
              "color": "#C8D4E3"
             },
             "line": {
              "color": "white"
             }
            },
            "type": "table"
           }
          ]
         },
         "layout": {
          "annotationdefaults": {
           "arrowcolor": "#2a3f5f",
           "arrowhead": 0,
           "arrowwidth": 1
          },
          "autotypenumbers": "strict",
          "coloraxis": {
           "colorbar": {
            "outlinewidth": 0,
            "ticks": ""
           }
          },
          "colorscale": {
           "diverging": [
            [
             0,
             "#8e0152"
            ],
            [
             0.1,
             "#c51b7d"
            ],
            [
             0.2,
             "#de77ae"
            ],
            [
             0.3,
             "#f1b6da"
            ],
            [
             0.4,
             "#fde0ef"
            ],
            [
             0.5,
             "#f7f7f7"
            ],
            [
             0.6,
             "#e6f5d0"
            ],
            [
             0.7,
             "#b8e186"
            ],
            [
             0.8,
             "#7fbc41"
            ],
            [
             0.9,
             "#4d9221"
            ],
            [
             1,
             "#276419"
            ]
           ],
           "sequential": [
            [
             0,
             "#0d0887"
            ],
            [
             0.1111111111111111,
             "#46039f"
            ],
            [
             0.2222222222222222,
             "#7201a8"
            ],
            [
             0.3333333333333333,
             "#9c179e"
            ],
            [
             0.4444444444444444,
             "#bd3786"
            ],
            [
             0.5555555555555556,
             "#d8576b"
            ],
            [
             0.6666666666666666,
             "#ed7953"
            ],
            [
             0.7777777777777778,
             "#fb9f3a"
            ],
            [
             0.8888888888888888,
             "#fdca26"
            ],
            [
             1,
             "#f0f921"
            ]
           ],
           "sequentialminus": [
            [
             0,
             "#0d0887"
            ],
            [
             0.1111111111111111,
             "#46039f"
            ],
            [
             0.2222222222222222,
             "#7201a8"
            ],
            [
             0.3333333333333333,
             "#9c179e"
            ],
            [
             0.4444444444444444,
             "#bd3786"
            ],
            [
             0.5555555555555556,
             "#d8576b"
            ],
            [
             0.6666666666666666,
             "#ed7953"
            ],
            [
             0.7777777777777778,
             "#fb9f3a"
            ],
            [
             0.8888888888888888,
             "#fdca26"
            ],
            [
             1,
             "#f0f921"
            ]
           ]
          },
          "colorway": [
           "#636efa",
           "#EF553B",
           "#00cc96",
           "#ab63fa",
           "#FFA15A",
           "#19d3f3",
           "#FF6692",
           "#B6E880",
           "#FF97FF",
           "#FECB52"
          ],
          "font": {
           "color": "#2a3f5f"
          },
          "geo": {
           "bgcolor": "white",
           "lakecolor": "white",
           "landcolor": "#E5ECF6",
           "showlakes": true,
           "showland": true,
           "subunitcolor": "white"
          },
          "hoverlabel": {
           "align": "left"
          },
          "hovermode": "closest",
          "mapbox": {
           "style": "light"
          },
          "paper_bgcolor": "white",
          "plot_bgcolor": "#E5ECF6",
          "polar": {
           "angularaxis": {
            "gridcolor": "white",
            "linecolor": "white",
            "ticks": ""
           },
           "bgcolor": "#E5ECF6",
           "radialaxis": {
            "gridcolor": "white",
            "linecolor": "white",
            "ticks": ""
           }
          },
          "scene": {
           "xaxis": {
            "backgroundcolor": "#E5ECF6",
            "gridcolor": "white",
            "gridwidth": 2,
            "linecolor": "white",
            "showbackground": true,
            "ticks": "",
            "zerolinecolor": "white"
           },
           "yaxis": {
            "backgroundcolor": "#E5ECF6",
            "gridcolor": "white",
            "gridwidth": 2,
            "linecolor": "white",
            "showbackground": true,
            "ticks": "",
            "zerolinecolor": "white"
           },
           "zaxis": {
            "backgroundcolor": "#E5ECF6",
            "gridcolor": "white",
            "gridwidth": 2,
            "linecolor": "white",
            "showbackground": true,
            "ticks": "",
            "zerolinecolor": "white"
           }
          },
          "shapedefaults": {
           "line": {
            "color": "#2a3f5f"
           }
          },
          "ternary": {
           "aaxis": {
            "gridcolor": "white",
            "linecolor": "white",
            "ticks": ""
           },
           "baxis": {
            "gridcolor": "white",
            "linecolor": "white",
            "ticks": ""
           },
           "bgcolor": "#E5ECF6",
           "caxis": {
            "gridcolor": "white",
            "linecolor": "white",
            "ticks": ""
           }
          },
          "title": {
           "x": 0.05
          },
          "xaxis": {
           "automargin": true,
           "gridcolor": "white",
           "linecolor": "white",
           "ticks": "",
           "title": {
            "standoff": 15
           },
           "zerolinecolor": "white",
           "zerolinewidth": 2
          },
          "yaxis": {
           "automargin": true,
           "gridcolor": "white",
           "linecolor": "white",
           "ticks": "",
           "title": {
            "standoff": 15
           },
           "zerolinecolor": "white",
           "zerolinewidth": 2
          }
         }
        },
        "title": {
         "text": "Average Trip Duration by Community"
        },
        "xaxis": {
         "anchor": "y",
         "autorange": true,
         "domain": [
          0,
          1
         ],
         "range": [
          -0.5,
          3.5
         ],
         "title": {
          "text": "Community"
         },
         "type": "linear"
        },
        "yaxis": {
         "anchor": "x",
         "autorange": true,
         "domain": [
          0,
          1
         ],
         "range": [
          0,
          13.708847121116044
         ],
         "title": {
          "text": "Average Trip Duration (minutes)"
         },
         "type": "linear"
        }
       }
      },
      "image/png": "[encoded data removed]",
      "text/html": [
       "<div>                            <div id=\"fe81e1fa-a830-4df3-83f3-e525fff7dfd1\" class=\"plotly-graph-div\" style=\"height:525px; width:100%;\"></div>            <script type=\"text/javascript\">                require([\"plotly\"], function(Plotly) {                    window.PLOTLYENV=window.PLOTLYENV || {};                                    if (document.getElementById(\"fe81e1fa-a830-4df3-83f3-e525fff7dfd1\")) {                    Plotly.newPlot(                        \"fe81e1fa-a830-4df3-83f3-e525fff7dfd1\",                        [{\"alignmentgroup\":\"True\",\"hovertemplate\":\"Community=%{x}<br>Average Trip Duration (minutes)=%{y}<extra></extra>\",\"legendgroup\":\"\",\"marker\":{\"color\":\"#636efa\",\"pattern\":{\"shape\":\"\"}},\"name\":\"\",\"offsetgroup\":\"\",\"orientation\":\"v\",\"showlegend\":false,\"textposition\":\"auto\",\"x\":[0,1,2,3],\"xaxis\":\"x\",\"y\":[11.360883066248906,10.772426896802733,11.050238208854015,13.023404765060242],\"yaxis\":\"y\",\"type\":\"bar\"}],                        {\"template\":{\"data\":{\"histogram2dcontour\":[{\"type\":\"histogram2dcontour\",\"colorbar\":{\"outlinewidth\":0,\"ticks\":\"\"},\"colorscale\":[[0.0,\"#0d0887\"],[0.1111111111111111,\"#46039f\"],[0.2222222222222222,\"#7201a8\"],[0.3333333333333333,\"#9c179e\"],[0.4444444444444444,\"#bd3786\"],[0.5555555555555556,\"#d8576b\"],[0.6666666666666666,\"#ed7953\"],[0.7777777777777778,\"#fb9f3a\"],[0.8888888888888888,\"#fdca26\"],[1.0,\"#f0f921\"]]}],\"choropleth\":[{\"type\":\"choropleth\",\"colorbar\":{\"outlinewidth\":0,\"ticks\":\"\"}}],\"histogram2d\":[{\"type\":\"histogram2d\",\"colorbar\":{\"outlinewidth\":0,\"ticks\":\"\"},\"colorscale\":[[0.0,\"#0d0887\"],[0.1111111111111111,\"#46039f\"],[0.2222222222222222,\"#7201a8\"],[0.3333333333333333,\"#9c179e\"],[0.4444444444444444,\"#bd3786\"],[0.5555555555555556,\"#d8576b\"],[0.6666666666666666,\"#ed7953\"],[0.7777777777777778,\"#fb9f3a\"],[0.8888888888888888,\"#fdca26\"],[1.0,\"#f0f921\"]]}],\"heatmap\":[{\"type\":\"heatmap\",\"colorbar\":{\"outlinewidth\":0,\"ticks\":\"\"},\"colorscale\":[[0.0,\"#0d0887\"],[0.1111111111111111,\"#46039f\"],[0.2222222222222222,\"#7201a8\"],[0.3333333333333333,\"#9c179e\"],[0.4444444444444444,\"#bd3786\"],[0.5555555555555556,\"#d8576b\"],[0.6666666666666666,\"#ed7953\"],[0.7777777777777778,\"#fb9f3a\"],[0.8888888888888888,\"#fdca26\"],[1.0,\"#f0f921\"]]}],\"heatmapgl\":[{\"type\":\"heatmapgl\",\"colorbar\":{\"outlinewidth\":0,\"ticks\":\"\"},\"colorscale\":[[0.0,\"#0d0887\"],[0.1111111111111111,\"#46039f\"],[0.2222222222222222,\"#7201a8\"],[0.3333333333333333,\"#9c179e\"],[0.4444444444444444,\"#bd3786\"],[0.5555555555555556,\"#d8576b\"],[0.6666666666666666,\"#ed7953\"],[0.7777777777777778,\"#fb9f3a\"],[0.8888888888888888,\"#fdca26\"],[1.0,\"#f0f921\"]]}],\"contourcarpet\":[{\"type\":\"contourcarpet\",\"colorbar\":{\"outlinewidth\":0,\"ticks\":\"\"}}],\"contour\":[{\"type\":\"contour\",\"colorbar\":{\"outlinewidth\":0,\"ticks\":\"\"},\"colorscale\":[[0.0,\"#0d0887\"],[0.1111111111111111,\"#46039f\"],[0.2222222222222222,\"#7201a8\"],[0.3333333333333333,\"#9c179e\"],[0.4444444444444444,\"#bd3786\"],[0.5555555555555556,\"#d8576b\"],[0.6666666666666666,\"#ed7953\"],[0.7777777777777778,\"#fb9f3a\"],[0.8888888888888888,\"#fdca26\"],[1.0,\"#f0f921\"]]}],\"surface\":[{\"type\":\"surface\",\"colorbar\":{\"outlinewidth\":0,\"ticks\":\"\"},\"colorscale\":[[0.0,\"#0d0887\"],[0.1111111111111111,\"#46039f\"],[0.2222222222222222,\"#7201a8\"],[0.3333333333333333,\"#9c179e\"],[0.4444444444444444,\"#bd3786\"],[0.5555555555555556,\"#d8576b\"],[0.6666666666666666,\"#ed7953\"],[0.7777777777777778,\"#fb9f3a\"],[0.8888888888888888,\"#fdca26\"],[1.0,\"#f0f921\"]]}],\"mesh3d\":[{\"type\":\"mesh3d\",\"colorbar\":{\"outlinewidth\":0,\"ticks\":\"\"}}],\"scatter\":[{\"fillpattern\":{\"fillmode\":\"overlay\",\"size\":10,\"solidity\":0.2},\"type\":\"scatter\"}],\"parcoords\":[{\"type\":\"parcoords\",\"line\":{\"colorbar\":{\"outlinewidth\":0,\"ticks\":\"\"}}}],\"scatterpolargl\":[{\"type\":\"scatterpolargl\",\"marker\":{\"colorbar\":{\"outlinewidth\":0,\"ticks\":\"\"}}}],\"bar\":[{\"error_x\":{\"color\":\"#2a3f5f\"},\"error_y\":{\"color\":\"#2a3f5f\"},\"marker\":{\"line\":{\"color\":\"#E5ECF6\",\"width\":0.5},\"pattern\":{\"fillmode\":\"overlay\",\"size\":10,\"solidity\":0.2}},\"type\":\"bar\"}],\"scattergeo\":[{\"type\":\"scattergeo\",\"marker\":{\"colorbar\":{\"outlinewidth\":0,\"ticks\":\"\"}}}],\"scatterpolar\":[{\"type\":\"scatterpolar\",\"marker\":{\"colorbar\":{\"outlinewidth\":0,\"ticks\":\"\"}}}],\"histogram\":[{\"marker\":{\"pattern\":{\"fillmode\":\"overlay\",\"size\":10,\"solidity\":0.2}},\"type\":\"histogram\"}],\"scattergl\":[{\"type\":\"scattergl\",\"marker\":{\"colorbar\":{\"outlinewidth\":0,\"ticks\":\"\"}}}],\"scatter3d\":[{\"type\":\"scatter3d\",\"line\":{\"colorbar\":{\"outlinewidth\":0,\"ticks\":\"\"}},\"marker\":{\"colorbar\":{\"outlinewidth\":0,\"ticks\":\"\"}}}],\"scattermapbox\":[{\"type\":\"scattermapbox\",\"marker\":{\"colorbar\":{\"outlinewidth\":0,\"ticks\":\"\"}}}],\"scatterternary\":[{\"type\":\"scatterternary\",\"marker\":{\"colorbar\":{\"outlinewidth\":0,\"ticks\":\"\"}}}],\"scattercarpet\":[{\"type\":\"scattercarpet\",\"marker\":{\"colorbar\":{\"outlinewidth\":0,\"ticks\":\"\"}}}],\"carpet\":[{\"aaxis\":{\"endlinecolor\":\"#2a3f5f\",\"gridcolor\":\"white\",\"linecolor\":\"white\",\"minorgridcolor\":\"white\",\"startlinecolor\":\"#2a3f5f\"},\"baxis\":{\"endlinecolor\":\"#2a3f5f\",\"gridcolor\":\"white\",\"linecolor\":\"white\",\"minorgridcolor\":\"white\",\"startlinecolor\":\"#2a3f5f\"},\"type\":\"carpet\"}],\"table\":[{\"cells\":{\"fill\":{\"color\":\"#EBF0F8\"},\"line\":{\"color\":\"white\"}},\"header\":{\"fill\":{\"color\":\"#C8D4E3\"},\"line\":{\"color\":\"white\"}},\"type\":\"table\"}],\"barpolar\":[{\"marker\":{\"line\":{\"color\":\"#E5ECF6\",\"width\":0.5},\"pattern\":{\"fillmode\":\"overlay\",\"size\":10,\"solidity\":0.2}},\"type\":\"barpolar\"}],\"pie\":[{\"automargin\":true,\"type\":\"pie\"}]},\"layout\":{\"autotypenumbers\":\"strict\",\"colorway\":[\"#636efa\",\"#EF553B\",\"#00cc96\",\"#ab63fa\",\"#FFA15A\",\"#19d3f3\",\"#FF6692\",\"#B6E880\",\"#FF97FF\",\"#FECB52\"],\"font\":{\"color\":\"#2a3f5f\"},\"hovermode\":\"closest\",\"hoverlabel\":{\"align\":\"left\"},\"paper_bgcolor\":\"white\",\"plot_bgcolor\":\"#E5ECF6\",\"polar\":{\"bgcolor\":\"#E5ECF6\",\"angularaxis\":{\"gridcolor\":\"white\",\"linecolor\":\"white\",\"ticks\":\"\"},\"radialaxis\":{\"gridcolor\":\"white\",\"linecolor\":\"white\",\"ticks\":\"\"}},\"ternary\":{\"bgcolor\":\"#E5ECF6\",\"aaxis\":{\"gridcolor\":\"white\",\"linecolor\":\"white\",\"ticks\":\"\"},\"baxis\":{\"gridcolor\":\"white\",\"linecolor\":\"white\",\"ticks\":\"\"},\"caxis\":{\"gridcolor\":\"white\",\"linecolor\":\"white\",\"ticks\":\"\"}},\"coloraxis\":{\"colorbar\":{\"outlinewidth\":0,\"ticks\":\"\"}},\"colorscale\":{\"sequential\":[[0.0,\"#0d0887\"],[0.1111111111111111,\"#46039f\"],[0.2222222222222222,\"#7201a8\"],[0.3333333333333333,\"#9c179e\"],[0.4444444444444444,\"#bd3786\"],[0.5555555555555556,\"#d8576b\"],[0.6666666666666666,\"#ed7953\"],[0.7777777777777778,\"#fb9f3a\"],[0.8888888888888888,\"#fdca26\"],[1.0,\"#f0f921\"]],\"sequentialminus\":[[0.0,\"#0d0887\"],[0.1111111111111111,\"#46039f\"],[0.2222222222222222,\"#7201a8\"],[0.3333333333333333,\"#9c179e\"],[0.4444444444444444,\"#bd3786\"],[0.5555555555555556,\"#d8576b\"],[0.6666666666666666,\"#ed7953\"],[0.7777777777777778,\"#fb9f3a\"],[0.8888888888888888,\"#fdca26\"],[1.0,\"#f0f921\"]],\"diverging\":[[0,\"#8e0152\"],[0.1,\"#c51b7d\"],[0.2,\"#de77ae\"],[0.3,\"#f1b6da\"],[0.4,\"#fde0ef\"],[0.5,\"#f7f7f7\"],[0.6,\"#e6f5d0\"],[0.7,\"#b8e186\"],[0.8,\"#7fbc41\"],[0.9,\"#4d9221\"],[1,\"#276419\"]]},\"xaxis\":{\"gridcolor\":\"white\",\"linecolor\":\"white\",\"ticks\":\"\",\"title\":{\"standoff\":15},\"zerolinecolor\":\"white\",\"automargin\":true,\"zerolinewidth\":2},\"yaxis\":{\"gridcolor\":\"white\",\"linecolor\":\"white\",\"ticks\":\"\",\"title\":{\"standoff\":15},\"zerolinecolor\":\"white\",\"automargin\":true,\"zerolinewidth\":2},\"scene\":{\"xaxis\":{\"backgroundcolor\":\"#E5ECF6\",\"gridcolor\":\"white\",\"linecolor\":\"white\",\"showbackground\":true,\"ticks\":\"\",\"zerolinecolor\":\"white\",\"gridwidth\":2},\"yaxis\":{\"backgroundcolor\":\"#E5ECF6\",\"gridcolor\":\"white\",\"linecolor\":\"white\",\"showbackground\":true,\"ticks\":\"\",\"zerolinecolor\":\"white\",\"gridwidth\":2},\"zaxis\":{\"backgroundcolor\":\"#E5ECF6\",\"gridcolor\":\"white\",\"linecolor\":\"white\",\"showbackground\":true,\"ticks\":\"\",\"zerolinecolor\":\"white\",\"gridwidth\":2}},\"shapedefaults\":{\"line\":{\"color\":\"#2a3f5f\"}},\"annotationdefaults\":{\"arrowcolor\":\"#2a3f5f\",\"arrowhead\":0,\"arrowwidth\":1},\"geo\":{\"bgcolor\":\"white\",\"landcolor\":\"#E5ECF6\",\"subunitcolor\":\"white\",\"showland\":true,\"showlakes\":true,\"lakecolor\":\"white\"},\"title\":{\"x\":0.05},\"mapbox\":{\"style\":\"light\"}}},\"xaxis\":{\"anchor\":\"y\",\"domain\":[0.0,1.0],\"title\":{\"text\":\"Community\"}},\"yaxis\":{\"anchor\":\"x\",\"domain\":[0.0,1.0],\"title\":{\"text\":\"Average Trip Duration (minutes)\"}},\"legend\":{\"tracegroupgap\":0},\"title\":{\"text\":\"Average Trip Duration by Community\"},\"barmode\":\"relative\"},                        {\"responsive\": true}                    ).then(function(){\n",
       "                            \n",
       "var gd = document.getElementById('fe81e1fa-a830-4df3-83f3-e525fff7dfd1');\n",
       "var x = new MutationObserver(function (mutations, observer) {{\n",
       "        var display = window.getComputedStyle(gd).display;\n",
       "        if (!display || display === 'none') {{\n",
       "            console.log([gd, 'removed!']);\n",
       "            Plotly.purge(gd);\n",
       "            observer.disconnect();\n",
       "        }}\n",
       "}});\n",
       "\n",
       "// Listen for the removal of the full notebook cells\n",
       "var notebookContainer = gd.closest('#notebook-container');\n",
       "if (notebookContainer) {{\n",
       "    x.observe(notebookContainer, {childList: true});\n",
       "}}\n",
       "\n",
       "// Listen for the clearing of the current output cell\n",
       "var outputEl = gd.closest('.output');\n",
       "if (outputEl) {{\n",
       "    x.observe(outputEl, {childList: true});\n",
       "}}\n",
       "\n",
       "                        })                };                });            </script>        </div>"
      ]
     },
     "metadata": {},
     "output_type": "display_data"
    }
   ],
   "source": [
    "import plotly.express as px\n",
    "import pandas as pd\n",
    "\n",
    "# Load the dataset\n",
    "file_path = 'complete_data_with_communities.csv'  # Update this path as needed\n",
    "df = pd.read_csv(file_path)\n",
    "\n",
    "# Convert the start and end dates to datetime for proper time handling\n",
    "df['Start date'] = pd.to_datetime(df['Start date'])\n",
    "df['End date'] = pd.to_datetime(df['End date'])\n",
    "\n",
    "# Convert trip duration from milliseconds to minutes\n",
    "df['Total duration (minutes)'] = df['Total duration (ms)'] / 60000  # 60000 ms = 1 minute\n",
    "\n",
    "# Calculate the average trip duration for trips starting in each community\n",
    "community_avg_trip_duration = df.groupby('Community_start').agg({\n",
    "    'Total duration (minutes)': 'mean'\n",
    "}).reset_index()\n",
    "\n",
    "# Rename columns for clarity\n",
    "community_avg_trip_duration = community_avg_trip_duration.rename(columns={\n",
    "    'Community_start': 'Community',\n",
    "    'Total duration (minutes)': 'Average Trip Duration (minutes)'\n",
    "})\n",
    "\n",
    "# Create a bar plot for the average trip duration by community\n",
    "fig = px.bar(\n",
    "    community_avg_trip_duration,\n",
    "    x='Community', \n",
    "    y='Average Trip Duration (minutes)',\n",
    "    title='Average Trip Duration by Community',\n",
    "    labels={'Community': 'Community', 'Average Trip Duration (minutes)': 'Average Trip Duration (minutes)'},\n",
    "    hover_data={'Average Trip Duration (minutes)': True}\n",
    ")\n",
    "\n",
    "fig.show()\n"
   ]
  }
 ],
 "metadata": {
  "kernelspec": {
   "display_name": "Python 3 (ipykernel)",
   "language": "python",
   "name": "python3"
  },
  "language_info": {
   "codemirror_mode": {
    "name": "ipython",
    "version": 3
   },
   "file_extension": ".py",
   "mimetype": "text/x-python",
   "name": "python",
   "nbconvert_exporter": "python",
   "pygments_lexer": "ipython3",
   "version": "3.11.5"
  }
 },
 "nbformat": 4,
 "nbformat_minor": 5
}
