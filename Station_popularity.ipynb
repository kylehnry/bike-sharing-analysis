{
 "cells": [
  {
   "cell_type": "markdown",
   "id": "5e8b904b-309a-47f6-b84a-f49fb031be2c",
   "metadata": {},
   "source": [
    "Station popularity (using trip count)"
   ]
  },
  {
   "cell_type": "code",
   "execution_count": 23,
   "id": "b43b88ff-98f4-4089-9db2-644304c4a5cf",
   "metadata": {
    "tags": []
   },
   "outputs": [
    {
     "name": "stdout",
     "output_type": "stream",
     "text": [
      "                                        Station  Start Count  End Count  \\\n",
      "0                  Waterloo Station 3, Waterloo         4659       4998   \n",
      "1                  Waterloo Station 1, Waterloo         2984       2918   \n",
      "2                    Argyle Street, Kings Cross         2454       2427   \n",
      "3                  Waterloo Station 2, Waterloo         2360       1040   \n",
      "4             Wormwood Street, Liverpool Street         2290       2171   \n",
      "..                                          ...          ...        ...   \n",
      "365  Westminster Bridge Road, Elephant & Castle           99        103   \n",
      "366                     Royal Avenue 1, Chelsea           96        109   \n",
      "367             Upper Grosvenor Street, Mayfair           58         49   \n",
      "368                   Colombo Street, Southwark           22         15   \n",
      "369           Goswell Road (City Uni), Finsbury           14          5   \n",
      "\n",
      "     Total Trips  Start/End  Community  \n",
      "0           9657   0.932173          1  \n",
      "1           5902   1.022618          1  \n",
      "2           4881   1.011125          0  \n",
      "3           3400   2.269231          1  \n",
      "4           4461   1.054813          2  \n",
      "..           ...        ...        ...  \n",
      "365          202   0.961165          2  \n",
      "366          205   0.880734          3  \n",
      "367          107   1.183673          0  \n",
      "368           37   1.466667          2  \n",
      "369           19   2.800000          1  \n",
      "\n",
      "[370 rows x 6 columns]\n"
     ]
    }
   ],
   "source": [
    "import pandas as pd\n",
    "\n",
    "# Load your trip data with community information\n",
    "file_path = 'complete_data_with_communities.csv'  # Update this path if needed\n",
    "df = pd.read_csv(file_path)\n",
    "\n",
    "# Calculate the number of trips where each station was the starting point\n",
    "start_counts = df['Start station'].value_counts().reset_index()\n",
    "start_counts.columns = ['Station', 'Start Count']\n",
    "\n",
    "# Count the number of trips where each station was the ending point\n",
    "end_counts = df['End station'].value_counts().reset_index()\n",
    "end_counts.columns = ['Station', 'End Count']\n",
    "\n",
    "# Merge the counts into a single DataFrame\n",
    "station_trip_counts = pd.merge(start_counts, end_counts, on='Station', how='outer')\n",
    "\n",
    "# Fill any NaN values with 0 (in case a station only appears as either start or end point)\n",
    "station_trip_counts = station_trip_counts.fillna(0)\n",
    "\n",
    "# Calculate the total trips involving each station\n",
    "station_trip_counts['Total Trips'] = station_trip_counts['Start Count'] + station_trip_counts['End Count']\n",
    "\n",
    "# Calculate the Start/End ratio\n",
    "station_trip_counts['Start/End'] = station_trip_counts['Start Count'] / station_trip_counts['End Count']\n",
    "\n",
    "# Merge community information back into the trip counts dataset\n",
    "# Use the 'Start station' and 'Community_start' columns for the merge\n",
    "station_communities = df[['Start station', 'Community_start']].drop_duplicates().rename(\n",
    "    columns={'Start station': 'Station', 'Community_start': 'Community'})\n",
    "\n",
    "# Merge with the trip counts\n",
    "station_trip_counts = pd.merge(station_trip_counts, station_communities, on='Station', how='left')\n",
    "\n",
    "# Display the merged dataset\n",
    "print(station_trip_counts)\n",
    "\n",
    "# Optionally, save the result to a CSV file\n",
    "station_trip_counts.to_csv('station_trip_counts_with_communities.csv', index=False)\n"
   ]
  },
  {
   "cell_type": "code",
   "execution_count": 24,
   "id": "15a8ac85-040f-456c-9736-408255a39670",
   "metadata": {
    "tags": []
   },
   "outputs": [
    {
     "data": {
      "application/vnd.plotly.v1+json": {
       "config": {
        "plotlyServerURL": "https://plot.ly"
       },
       "data": [
        {
         "customdata": [
          [
           4659,
           4998,
           9657
          ],
          [
           2984,
           2918,
           5902
          ],
          [
           2454,
           2427,
           4881
          ],
          [
           2360,
           1040,
           3400
          ],
          [
           2290,
           2171,
           4461
          ],
          [
           1562,
           1716,
           3278
          ],
          [
           1552,
           1670,
           3222
          ],
          [
           1405,
           1415,
           2820
          ],
          [
           1333,
           1870,
           3203
          ],
          [
           1294,
           1454,
           2748
          ],
          [
           1289,
           1306,
           2595
          ],
          [
           1274,
           997,
           2271
          ],
          [
           1254,
           1194,
           2448
          ],
          [
           1253,
           1524,
           2777
          ],
          [
           1238,
           1672,
           2910
          ],
          [
           1229,
           1336,
           2565
          ],
          [
           1202,
           1190,
           2392
          ],
          [
           1191,
           1024,
           2215
          ],
          [
           1187,
           1415,
           2602
          ],
          [
           1184,
           1699,
           2883
          ],
          [
           1169,
           1229,
           2398
          ],
          [
           1162,
           1178,
           2340
          ],
          [
           1160,
           1456,
           2616
          ],
          [
           1128,
           1067,
           2195
          ],
          [
           1106,
           740,
           1846
          ],
          [
           1101,
           778,
           1879
          ],
          [
           1074,
           1231,
           2305
          ],
          [
           1066,
           1097,
           2163
          ],
          [
           1056,
           1141,
           2197
          ],
          [
           1038,
           1151,
           2189
          ],
          [
           1033,
           1083,
           2116
          ],
          [
           1022,
           1004,
           2026
          ],
          [
           1015,
           953,
           1968
          ],
          [
           1015,
           890,
           1905
          ],
          [
           972,
           1016,
           1988
          ],
          [
           969,
           877,
           1846
          ],
          [
           968,
           1513,
           2481
          ],
          [
           957,
           902,
           1859
          ],
          [
           952,
           737,
           1689
          ],
          [
           928,
           791,
           1719
          ],
          [
           920,
           654,
           1574
          ],
          [
           919,
           1025,
           1944
          ],
          [
           897,
           849,
           1746
          ],
          [
           892,
           1027,
           1919
          ],
          [
           889,
           918,
           1807
          ],
          [
           889,
           799,
           1688
          ],
          [
           884,
           801,
           1685
          ],
          [
           880,
           917,
           1797
          ],
          [
           875,
           768,
           1643
          ],
          [
           864,
           805,
           1669
          ],
          [
           849,
           735,
           1584
          ],
          [
           844,
           870,
           1714
          ],
          [
           832,
           785,
           1617
          ],
          [
           830,
           871,
           1701
          ],
          [
           824,
           793,
           1617
          ],
          [
           822,
           828,
           1650
          ],
          [
           809,
           761,
           1570
          ],
          [
           809,
           889,
           1698
          ],
          [
           808,
           704,
           1512
          ],
          [
           806,
           834,
           1640
          ],
          [
           804,
           798,
           1602
          ],
          [
           803,
           908,
           1711
          ],
          [
           799,
           801,
           1600
          ],
          [
           798,
           849,
           1647
          ],
          [
           792,
           867,
           1659
          ],
          [
           792,
           776,
           1568
          ],
          [
           790,
           901,
           1691
          ],
          [
           790,
           790,
           1580
          ],
          [
           787,
           883,
           1670
          ],
          [
           785,
           788,
           1573
          ],
          [
           783,
           794,
           1577
          ],
          [
           782,
           858,
           1640
          ],
          [
           782,
           905,
           1687
          ],
          [
           773,
           777,
           1550
          ],
          [
           764,
           741,
           1505
          ],
          [
           762,
           762,
           1524
          ],
          [
           762,
           735,
           1497
          ],
          [
           756,
           804,
           1560
          ],
          [
           751,
           676,
           1427
          ],
          [
           750,
           743,
           1493
          ],
          [
           748,
           705,
           1453
          ],
          [
           743,
           508,
           1251
          ],
          [
           743,
           722,
           1465
          ],
          [
           742,
           869,
           1611
          ],
          [
           741,
           744,
           1485
          ],
          [
           739,
           670,
           1409
          ],
          [
           737,
           771,
           1508
          ],
          [
           735,
           710,
           1445
          ],
          [
           730,
           590,
           1320
          ],
          [
           722,
           746,
           1468
          ],
          [
           719,
           684,
           1403
          ],
          [
           718,
           585,
           1303
          ],
          [
           711,
           800,
           1511
          ],
          [
           710,
           704,
           1414
          ],
          [
           703,
           665,
           1368
          ],
          [
           702,
           662,
           1364
          ],
          [
           702,
           621,
           1323
          ],
          [
           694,
           1001,
           1695
          ],
          [
           692,
           725,
           1417
          ],
          [
           689,
           619,
           1308
          ],
          [
           685,
           711,
           1396
          ],
          [
           682,
           650,
           1332
          ],
          [
           674,
           552,
           1226
          ],
          [
           666,
           704,
           1370
          ],
          [
           665,
           747,
           1412
          ],
          [
           663,
           922,
           1585
          ],
          [
           662,
           614,
           1276
          ],
          [
           658,
           775,
           1433
          ],
          [
           654,
           570,
           1224
          ],
          [
           649,
           595,
           1244
          ],
          [
           639,
           632,
           1271
          ],
          [
           638,
           530,
           1168
          ],
          [
           636,
           667,
           1303
          ],
          [
           634,
           727,
           1361
          ],
          [
           629,
           582,
           1211
          ],
          [
           626,
           644,
           1270
          ],
          [
           623,
           695,
           1318
          ],
          [
           622,
           609,
           1231
          ],
          [
           611,
           705,
           1316
          ],
          [
           611,
           596,
           1207
          ],
          [
           600,
           533,
           1133
          ],
          [
           598,
           585,
           1183
          ],
          [
           598,
           642,
           1240
          ],
          [
           596,
           551,
           1147
          ],
          [
           594,
           584,
           1178
          ],
          [
           591,
           626,
           1217
          ],
          [
           590,
           658,
           1248
          ],
          [
           589,
           642,
           1231
          ],
          [
           587,
           580,
           1167
          ],
          [
           580,
           527,
           1107
          ],
          [
           580,
           406,
           986
          ],
          [
           579,
           496,
           1075
          ],
          [
           579,
           628,
           1207
          ],
          [
           576,
           663,
           1239
          ],
          [
           573,
           615,
           1188
          ],
          [
           571,
           464,
           1035
          ],
          [
           571,
           517,
           1088
          ],
          [
           570,
           582,
           1152
          ],
          [
           569,
           546,
           1115
          ],
          [
           568,
           573,
           1141
          ],
          [
           568,
           447,
           1015
          ],
          [
           565,
           592,
           1157
          ],
          [
           565,
           482,
           1047
          ],
          [
           561,
           557,
           1118
          ],
          [
           559,
           511,
           1070
          ],
          [
           556,
           558,
           1114
          ],
          [
           554,
           518,
           1072
          ],
          [
           554,
           676,
           1230
          ],
          [
           554,
           632,
           1186
          ],
          [
           547,
           515,
           1062
          ],
          [
           546,
           435,
           981
          ],
          [
           543,
           546,
           1089
          ],
          [
           542,
           500,
           1042
          ],
          [
           538,
           498,
           1036
          ],
          [
           537,
           645,
           1182
          ],
          [
           537,
           513,
           1050
          ],
          [
           535,
           419,
           954
          ],
          [
           534,
           549,
           1083
          ],
          [
           526,
           456,
           982
          ],
          [
           524,
           563,
           1087
          ],
          [
           518,
           560,
           1078
          ],
          [
           518,
           414,
           932
          ],
          [
           517,
           438,
           955
          ],
          [
           517,
           529,
           1046
          ],
          [
           517,
           551,
           1068
          ],
          [
           517,
           258,
           775
          ],
          [
           517,
           451,
           968
          ],
          [
           511,
           450,
           961
          ],
          [
           510,
           492,
           1002
          ],
          [
           510,
           492,
           1002
          ],
          [
           510,
           499,
           1009
          ],
          [
           509,
           437,
           946
          ],
          [
           508,
           473,
           981
          ],
          [
           508,
           636,
           1144
          ],
          [
           504,
           495,
           999
          ],
          [
           504,
           537,
           1041
          ],
          [
           504,
           517,
           1021
          ],
          [
           504,
           462,
           966
          ],
          [
           504,
           568,
           1072
          ],
          [
           503,
           425,
           928
          ],
          [
           502,
           491,
           993
          ],
          [
           502,
           472,
           974
          ],
          [
           501,
           504,
           1005
          ],
          [
           499,
           475,
           974
          ],
          [
           498,
           575,
           1073
          ],
          [
           495,
           439,
           934
          ],
          [
           495,
           573,
           1068
          ],
          [
           492,
           416,
           908
          ],
          [
           489,
           542,
           1031
          ],
          [
           489,
           612,
           1101
          ],
          [
           488,
           492,
           980
          ],
          [
           488,
           472,
           960
          ],
          [
           487,
           473,
           960
          ],
          [
           486,
           460,
           946
          ],
          [
           486,
           421,
           907
          ],
          [
           486,
           509,
           995
          ],
          [
           484,
           549,
           1033
          ],
          [
           483,
           431,
           914
          ],
          [
           476,
           455,
           931
          ],
          [
           475,
           434,
           909
          ],
          [
           473,
           517,
           990
          ],
          [
           470,
           448,
           918
          ],
          [
           468,
           482,
           950
          ],
          [
           466,
           570,
           1036
          ],
          [
           465,
           513,
           978
          ],
          [
           465,
           590,
           1055
          ],
          [
           462,
           356,
           818
          ],
          [
           460,
           481,
           941
          ],
          [
           459,
           483,
           942
          ],
          [
           459,
           544,
           1003
          ],
          [
           458,
           434,
           892
          ],
          [
           457,
           435,
           892
          ],
          [
           457,
           531,
           988
          ],
          [
           456,
           488,
           944
          ],
          [
           451,
           506,
           957
          ],
          [
           449,
           475,
           924
          ],
          [
           449,
           501,
           950
          ],
          [
           446,
           513,
           959
          ],
          [
           446,
           495,
           941
          ],
          [
           444,
           486,
           930
          ],
          [
           444,
           413,
           857
          ],
          [
           444,
           455,
           899
          ],
          [
           442,
           483,
           925
          ],
          [
           442,
           524,
           966
          ],
          [
           442,
           618,
           1060
          ],
          [
           442,
           475,
           917
          ],
          [
           438,
           404,
           842
          ],
          [
           435,
           602,
           1037
          ],
          [
           428,
           436,
           864
          ],
          [
           421,
           325,
           746
          ],
          [
           421,
           432,
           853
          ],
          [
           420,
           470,
           890
          ],
          [
           420,
           373,
           793
          ],
          [
           420,
           452,
           872
          ],
          [
           418,
           427,
           845
          ],
          [
           416,
           423,
           839
          ],
          [
           412,
           478,
           890
          ],
          [
           410,
           449,
           859
          ],
          [
           406,
           391,
           797
          ],
          [
           406,
           364,
           770
          ],
          [
           405,
           417,
           822
          ],
          [
           403,
           420,
           823
          ],
          [
           403,
           516,
           919
          ],
          [
           396,
           423,
           819
          ],
          [
           394,
           348,
           742
          ],
          [
           393,
           393,
           786
          ],
          [
           391,
           340,
           731
          ],
          [
           390,
           349,
           739
          ],
          [
           389,
           342,
           731
          ],
          [
           388,
           370,
           758
          ],
          [
           386,
           406,
           792
          ],
          [
           385,
           351,
           736
          ],
          [
           385,
           372,
           757
          ],
          [
           383,
           325,
           708
          ],
          [
           380,
           424,
           804
          ],
          [
           378,
           344,
           722
          ],
          [
           378,
           359,
           737
          ],
          [
           376,
           407,
           783
          ],
          [
           375,
           303,
           678
          ],
          [
           373,
           316,
           689
          ],
          [
           370,
           329,
           699
          ],
          [
           369,
           268,
           637
          ],
          [
           368,
           369,
           737
          ],
          [
           366,
           398,
           764
          ],
          [
           365,
           356,
           721
          ],
          [
           365,
           298,
           663
          ],
          [
           360,
           332,
           692
          ],
          [
           359,
           363,
           722
          ],
          [
           358,
           212,
           570
          ],
          [
           356,
           307,
           663
          ],
          [
           356,
           337,
           693
          ],
          [
           352,
           297,
           649
          ],
          [
           350,
           378,
           728
          ],
          [
           350,
           329,
           679
          ],
          [
           349,
           254,
           603
          ],
          [
           347,
           224,
           571
          ],
          [
           347,
           247,
           594
          ],
          [
           347,
           401,
           748
          ],
          [
           346,
           318,
           664
          ],
          [
           342,
           344,
           686
          ],
          [
           340,
           293,
           633
          ],
          [
           337,
           334,
           671
          ],
          [
           337,
           419,
           756
          ],
          [
           336,
           351,
           687
          ],
          [
           332,
           351,
           683
          ],
          [
           330,
           415,
           745
          ],
          [
           322,
           294,
           616
          ],
          [
           322,
           383,
           705
          ],
          [
           321,
           336,
           657
          ],
          [
           320,
           320,
           640
          ],
          [
           320,
           340,
           660
          ],
          [
           319,
           304,
           623
          ],
          [
           317,
           247,
           564
          ],
          [
           317,
           342,
           659
          ],
          [
           314,
           317,
           631
          ],
          [
           312,
           366,
           678
          ],
          [
           311,
           294,
           605
          ],
          [
           310,
           318,
           628
          ],
          [
           309,
           244,
           553
          ],
          [
           308,
           301,
           609
          ],
          [
           302,
           266,
           568
          ],
          [
           301,
           369,
           670
          ],
          [
           297,
           345,
           642
          ],
          [
           295,
           295,
           590
          ],
          [
           292,
           268,
           560
          ],
          [
           291,
           241,
           532
          ],
          [
           290,
           221,
           511
          ],
          [
           289,
           325,
           614
          ],
          [
           287,
           260,
           547
          ],
          [
           286,
           284,
           570
          ],
          [
           283,
           303,
           586
          ],
          [
           283,
           322,
           605
          ],
          [
           276,
           236,
           512
          ],
          [
           274,
           306,
           580
          ],
          [
           266,
           372,
           638
          ],
          [
           259,
           245,
           504
          ],
          [
           258,
           290,
           548
          ],
          [
           252,
           323,
           575
          ],
          [
           249,
           157,
           406
          ],
          [
           249,
           253,
           502
          ],
          [
           246,
           165,
           411
          ],
          [
           242,
           390,
           632
          ],
          [
           236,
           258,
           494
          ],
          [
           235,
           170,
           405
          ],
          [
           234,
           232,
           466
          ],
          [
           233,
           204,
           437
          ],
          [
           231,
           274,
           505
          ],
          [
           231,
           221,
           452
          ],
          [
           230,
           193,
           423
          ],
          [
           229,
           256,
           485
          ],
          [
           228,
           195,
           423
          ],
          [
           226,
           151,
           377
          ],
          [
           226,
           209,
           435
          ],
          [
           226,
           197,
           423
          ],
          [
           221,
           205,
           426
          ],
          [
           220,
           217,
           437
          ],
          [
           220,
           266,
           486
          ],
          [
           219,
           170,
           389
          ],
          [
           219,
           216,
           435
          ],
          [
           218,
           239,
           457
          ],
          [
           214,
           186,
           400
          ],
          [
           213,
           199,
           412
          ],
          [
           212,
           212,
           424
          ],
          [
           205,
           203,
           408
          ],
          [
           204,
           183,
           387
          ],
          [
           194,
           260,
           454
          ],
          [
           193,
           170,
           363
          ],
          [
           192,
           184,
           376
          ],
          [
           189,
           232,
           421
          ],
          [
           189,
           210,
           399
          ],
          [
           188,
           237,
           425
          ],
          [
           179,
           199,
           378
          ],
          [
           176,
           204,
           380
          ],
          [
           175,
           176,
           351
          ],
          [
           171,
           157,
           328
          ],
          [
           165,
           141,
           306
          ],
          [
           161,
           192,
           353
          ],
          [
           161,
           146,
           307
          ],
          [
           160,
           152,
           312
          ],
          [
           159,
           153,
           312
          ],
          [
           156,
           185,
           341
          ],
          [
           142,
           61,
           203
          ],
          [
           138,
           123,
           261
          ],
          [
           108,
           122,
           230
          ],
          [
           107,
           107,
           214
          ],
          [
           99,
           103,
           202
          ],
          [
           96,
           109,
           205
          ],
          [
           58,
           49,
           107
          ],
          [
           22,
           15,
           37
          ],
          [
           14,
           5,
           19
          ]
         ],
         "hovertemplate": "<b>%{hovertext}</b><br><br>Station Index=%{x}<br>Start/End Ratio=%{y}<br>Start Count=%{customdata[0]}<br>End Count=%{customdata[1]}<br>Total Trips=%{customdata[2]}<extra></extra>",
         "hovertext": [
          "Waterloo Station 3, Waterloo",
          "Waterloo Station 1, Waterloo",
          "Argyle Street, Kings Cross",
          "Waterloo Station 2, Waterloo",
          "Wormwood Street, Liverpool Street",
          "Cheapside, Bank",
          "Duke Street Hill, London Bridge",
          "Warren Street Station, Euston",
          "Hop Exchange, The Borough",
          "Moorfields, Moorgate",
          "Malet Street, Bloomsbury",
          "Eagle Wharf Road, Hoxton",
          "Aldersgate Street, Barbican",
          "Finsbury Circus, Liverpool Street",
          "Brushfield Street, Liverpool Street",
          "Old Street Station, St. Luke's",
          "Crosswall, Tower",
          "Finsbury Leisure Centre, St. Luke's",
          "Soho Square , Soho",
          "Queen Street 1, Bank",
          "Baylis Road, Waterloo",
          "Queen Street 2, Bank",
          "Holborn Circus, Holborn",
          "Bath Street, St. Luke's",
          "Boston Place, Marylebone",
          "Macclesfield Rd, St Lukes",
          "Newgate Street , St. Paul's",
          "Blackfriars Station, St. Paul's",
          "Tooley Street, Bermondsey",
          "William IV Street, Strand",
          "Bunhill Row, Moorgate",
          "Red Lion Street, Holborn",
          "Museum of London, Barbican",
          "Endsleigh Gardens, Euston",
          "Craven Street, Strand",
          "Great Dover Street, The Borough",
          "St. James's Square, St. James's",
          "Bethnal Green Road, Shoreditch",
          "Doric Way , Somers Town",
          "Hyde Park Corner, Hyde Park",
          "Wenlock Road , Hoxton",
          "Strand, Strand",
          "Lambeth Palace Road, Waterloo",
          "Little Argyll Street, West End",
          "Hatton Wall, Holborn",
          "Taviton Street, Bloomsbury",
          "Curlew Street, Shad Thames",
          "Wellington Street , Strand",
          "Bricklayers Arms, Borough",
          "Guilford Street , Bloomsbury",
          "Braham Street, Aldgate",
          "Southwark Station 2, Southwark",
          "Theobald's Road , Holborn",
          "Clerkenwell Green, Clerkenwell",
          "Webber Street , Southwark",
          "Hatton Garden, Holborn",
          "Kennington Cross, Kennington",
          "Page Street, Westminster",
          "Hampstead Road, Euston",
          "Howland Street, Fitzrovia",
          "Northington Street , Holborn",
          "High Holborn , Covent Garden",
          "Wells Street, Fitzrovia",
          "Bank of England Museum, Bank",
          "Westminster Pier, Westminster",
          "Bermondsey Street, Bermondsey",
          "Whitehall Place, Strand",
          "Leonard Circus , Shoreditch",
          "Drury Lane, Covent Garden",
          "Allington Street, Victoria",
          "Russell Square Station, Bloomsbury",
          "Moor Street, Soho",
          "Strata, Elephant & Castle",
          "Bayley Street , Bloomsbury",
          "Sea Containers, South Bank",
          "West Smithfield Rotunda, Farringdon",
          "Birkenhead Street, King's Cross",
          "Sun Street, Liverpool Street",
          "Baldwin Street, St. Luke's",
          "Berry Street, Clerkenwell",
          "New Fetter Lane, Holborn",
          "Graham Street, Angel",
          "Store Street, Bloomsbury",
          "Great Tower Street, Monument",
          "Dorset Square, Marylebone",
          "Ossulston Street, Somers Town",
          "Storey's Gate, Westminster",
          "Old Quebec Street, Marylebone",
          "Tanner Street, Bermondsey",
          "Wardour Street, Soho",
          "Lollard Street, Vauxhall",
          "Albert Gate, Hyde Park",
          "Warwick Row, Westminster",
          "Empire Square, The Borough",
          "Farringdon Street, Holborn",
          "Shoreditch High Street, Shoreditch",
          "Sadlers Sports Centre, Finsbury",
          "St. Bride Street, Holborn",
          "Worship Street, Shoreditch",
          "Walworth Square, Walworth",
          "Brunswick Square, Bloomsbury",
          "Snow Hill, Farringdon",
          "Chadwell Street, Angel",
          "Snowsfields, London Bridge",
          "Broadwick Street, Soho",
          "Kingsway Southbound, Strand",
          "Tower Wharf, Bermondsey",
          "Tavistock Street, Covent Garden",
          "Fanshaw Street, Hoxton",
          "British Museum, Bloomsbury",
          "Foley Street, Fitzrovia",
          "Percival Street, Finsbury",
          "Earnshaw Street , Covent Garden",
          "Green Park Station, Mayfair",
          "Park Road (Baker Street), The Regent's Park",
          "Tysoe Street, Clerkenwell",
          "Lincoln's Inn Fields, Holborn",
          "Wren Street, Holborn",
          "Howick Place, Westminster",
          "Barbican Centre, Barbican",
          "Cartwright Gardens , Bloomsbury",
          "Paddington Street, Marylebone",
          "Monument Street, Monument",
          "Portland Place, Marylebone",
          "Good's Way, King's Cross",
          "Horseferry Road, Westminster",
          "Tallis Street, Temple",
          "Finsbury Square , Moorgate",
          "Eccleston Place, Victoria",
          "Bell Lane, Liverpool Street",
          "Warwick Square, Pimlico",
          "Harrington Square 1, Camden Town",
          "Breams Buildings, Holborn",
          "Bouverie Street, Temple",
          "Stamford Street, South Bank",
          "Windsor Terrace, Hoxton",
          "Long Lane , Bermondsey",
          "Broadcasting House, Marylebone",
          "Gower Place , Euston",
          "Blackfriars Road, Southwark",
          "Pitfield Street Central, Hoxton",
          "Smith Square, Westminster",
          "Great Percy Street, Clerkenwell",
          "Beaumont Street, Marylebone",
          "Regency Street, Westminster",
          "Southampton Place, Holborn",
          "Swan Street, The Borough",
          "Bankside Mix, Bankside",
          "Panton Street, West End",
          "Rampayne Street, Pimlico",
          "Baker Street, Marylebone",
          "Scala Street, Fitzrovia",
          "Crimscott Street, Bermondsey",
          "Crawford Street, Marylebone",
          "Portugal Street, Holborn",
          "Southampton Street, Strand",
          "Murray Grove , Hoxton",
          "Tate Modern, Bankside",
          "Roscoe Street, St. Luke's",
          "Ashley Place, Victoria",
          "Chicheley Street, South Bank",
          "Tavistock Place, Bloomsbury",
          "Coram Street, Bloomsbury",
          "Black Prince Road, Vauxhall",
          "Great Russell Street, Bloomsbury",
          "Cloudesley Road, Angel",
          "Leman Street, Aldgate",
          "Tachbrook Street, Victoria",
          "Tyers Gate, Bermondsey",
          "New Kent Road, The Borough",
          "New Inn Yard, Shoreditch",
          "Bell Street , Marylebone",
          "St Mary's Hospital, Paddington",
          "Chapel Place, Marylebone",
          "Borough High Street, The Borough",
          "Union Street, The Borough",
          "Golden Lane, Barbican",
          "Gloucester Street, Pimlico",
          "Hinde Street, Marylebone",
          "Columbia Road, Shoreditch",
          "Shouldham Street, Marylebone",
          "Rathbone Street, Fitzrovia",
          "Finsbury Library , Finsbury",
          "Lower Marsh, Waterloo",
          "Abbey Orchard Street, Westminster",
          "Walnut Tree Walk, Vauxhall",
          "Godliman Street, St. Paul's",
          "Albany Street, The Regent's Park",
          "Houghton Street, Strand",
          "Queen Victoria Street, St. Paul's",
          "Kennington Road, Vauxhall",
          "Bolsover Street, Fitzrovia",
          "Eversholt Street , Camden Town",
          "Ampton Street , Clerkenwell",
          "Vincent Street, Pimlico",
          "Seymour Place, Marylebone",
          "Ontario Street, Elephant & Castle",
          "Harrowby Street, Marylebone",
          "Marylebone Lane, Marylebone",
          "Porchester Place, Paddington",
          "Belvedere Road 1, South Bank",
          "Great Suffolk Street, The Borough",
          "Golden Square, Soho",
          "Fore Street, Guildhall",
          "St. Mary Axe, Aldgate",
          "Fore Street Avenue, Guildhall",
          "St. John Street, Finsbury",
          "Hampton Street, Walworth",
          "Norton Folgate, Liverpool Street",
          "Frith Street, Soho",
          "Farringdon Lane, Clerkenwell",
          "Great Titchfield Street, Fitzrovia",
          "Sackville Street, Mayfair",
          "Waterloo Road, South Bank",
          "Fournier Street, Whitechapel",
          "Christopher Street, Liverpool Street",
          "Euston Road, Euston",
          "Tower Gardens , Tower",
          "Gaywood  Street, Elephant & Castle",
          "Milroy Walk, South Bank",
          "Lambeth Road, Vauxhall",
          "Bury Place, Holborn",
          "George Street, Marylebone",
          "Queen Mother Sports Centre, Victoria",
          "The Guildhall, Guildhall",
          "Borough Road, Elephant & Castle",
          "Lavington Street, Bankside",
          "Houndsditch, Aldgate",
          "Butler Place, Westminster",
          "Drummond Street , Euston",
          "Falkirk Street, Hoxton",
          "Pall Mall East, West End",
          "Granby Street, Shoreditch",
          "Lambeth North Station, Waterloo",
          "Abingdon Green, Westminster",
          "Carey Street, Holborn",
          "Concert Hall Approach 2, South Bank",
          "King Edward Street, St Pauls",
          "Sedding Street, Sloane Square",
          "Bedford Way, Bloomsbury",
          "Charlotte Street, Fitzrovia",
          "Euston Square Gardens, Euston",
          "Wood Street, Guildhall",
          "Arundel Street, Temple",
          "Edgware Road Station, Marylebone",
          "City Road, Angel",
          "St. Katharine's Way, Tower",
          "Palissy Street, Shoreditch",
          "Sail Street, Vauxhall",
          "Cotton Garden Estate, Kennington",
          "Kings Gate House, Westminster",
          "Hoxton Station, Hoxton",
          "Triangle Car Park, Hyde Park",
          "Millbank Tower, Pimlico",
          "Wellington Arch, Hyde Park",
          "Brandon Street, Walworth",
          "Harris Academy, Bermondsey",
          "Buckingham Gate, Westminster",
          "Hardwick Street, Clerkenwell",
          "Fire Brigade Pier, Vauxhall",
          "Red Lion Square, Holborn",
          "New North Road 2, Hoxton",
          "Waterloo Place, St. James's",
          "Cromer Street, Bloomsbury",
          "Portman Square, Marylebone",
          "Green Street, Mayfair",
          "Margery Street, Clerkenwell",
          "Grosvenor Square, Mayfair",
          "Claremont Square, Angel",
          "Rodney Road , Walworth",
          "Kennington Station, Kennington",
          "Jewry Street, Aldgate",
          "Belvedere Road 2, South Bank",
          "Belgrave Road, Victoria",
          "Cadogan Gardens, Chelsea",
          "River Street , Clerkenwell",
          "Victory Place, Walworth",
          "St. George Street, Mayfair",
          "Dickens Square, Borough",
          "Montpelier Street, Knightsbridge",
          "Charlbert Street, St. John's Wood",
          "Newton Street, Covent Garden",
          "Charles II Street, West End",
          "Rochester Row, Westminster",
          "Southwark Street, Bankside",
          "New Cavendish Street, Marylebone",
          "Wellington Row, Bethnal Green",
          "Concert Hall Approach 1, South Bank",
          "LSBU (Borough Road), Elephant & Castle",
          "Fashion Street, Whitechapel",
          "Central House, Aldgate",
          "New Globe Walk, Bankside",
          "Southwick Street, Paddington",
          "Elizabeth Bridge, Victoria",
          "Pont Street, Knightsbridge",
          "Temple Gardens, Temple",
          "Seville Street, Knightsbridge",
          "Clifton Street, Shoreditch",
          "Albert Embankment, Vauxhall",
          "Harper Road, The Borough",
          "Ebury Bridge, Pimlico",
          "Park Lane , Hyde Park",
          "North Audley Street, Mayfair",
          "Westminster University, Marylebone",
          "Hoxton Street, Hoxton",
          "Holy Trinity Brompton, Knightsbridge",
          "Northdown Street, King's Cross",
          "Northumberland Avenue, Strand",
          "George Place Mews, Marylebone",
          "Harriet Street, Knightsbridge",
          "Poured Lines, Bankside",
          "St. Chad's Street, King's Cross",
          "Commercial Street, Shoreditch",
          "Curzon Street, Mayfair",
          "Somerset House, Strand",
          "Sloane Avenue, Knightsbridge",
          "Belgrave Square, Belgravia",
          "Pindar Street, Liverpool Street",
          "Mallory Street, Marylebone",
          "Brick Lane Market, Shoreditch",
          "Greenberry Street, St.John's Wood",
          "Clifford Street, Mayfair",
          "Bourne Street, Belgravia",
          "Broadley Terrace, Marylebone",
          "Woodstock Street, Mayfair",
          "The Tennis Courts, The Regent's Park",
          "Grafton Street, Mayfair",
          "Bruton Street, Mayfair",
          "Longford Street, The Regent's Park",
          "Embankment (Savoy), Strand",
          "Calshot Street , King's Cross",
          "Risinghill Street, Angel",
          "Pancras Road, King's Cross",
          "St. John's Wood Church, The Regent's Park",
          "Geraldine Street, Elephant & Castle",
          "Guildhouse Street, Victoria",
          "Archbishop's Park, Waterloo",
          "Lower Thames Street, Monument",
          "Denyer Street, Knightsbridge",
          "Park Street, Bankside",
          "Kingsway, Covent Garden",
          "Vincent Square, Westminster",
          "Park Lane, Mayfair",
          "Clarges Street, Mayfair",
          "Stanhope Gate, Mayfair",
          "Waterloo Bridge, South Bank",
          "Chelsea Green, Chelsea",
          "Eaton Square (South), Belgravia",
          "Sancroft Street, Vauxhall",
          "Torrens Street, Angel",
          "St. Martin's Street, West End",
          "Cadogan Place, Knightsbridge",
          "South Audley Street, Mayfair",
          "Royal Avenue 2, Chelsea",
          "Crinan Street, King's Cross",
          "Farm Street, Mayfair",
          "Millennium Hotel, Mayfair",
          "Buxton Street 1, Shoreditch",
          "Killick Street, King's Cross",
          "King Edward Walk, Waterloo",
          "Greycoat Street , Westminster",
          "Knightsbridge, Hyde Park",
          "Victoria & Albert Museum, South Kensington",
          "Grosvenor Crescent, Belgravia",
          "Nutford Place, Marylebone",
          "Westminster Bridge Road, Elephant & Castle",
          "Royal Avenue 1, Chelsea",
          "Upper Grosvenor Street, Mayfair",
          "Colombo Street, Southwark",
          "Goswell Road (City Uni), Finsbury"
         ],
         "legendgroup": "",
         "marker": {
          "color": "#636efa",
          "symbol": "circle"
         },
         "mode": "markers",
         "name": "",
         "orientation": "v",
         "showlegend": false,
         "type": "scatter",
         "x": [
          0,
          1,
          2,
          3,
          4,
          5,
          6,
          7,
          8,
          9,
          10,
          11,
          12,
          13,
          14,
          15,
          16,
          17,
          18,
          19,
          20,
          21,
          22,
          23,
          24,
          25,
          26,
          27,
          28,
          29,
          30,
          31,
          32,
          33,
          34,
          35,
          36,
          37,
          38,
          39,
          40,
          41,
          42,
          43,
          44,
          45,
          46,
          47,
          48,
          49,
          50,
          51,
          52,
          53,
          54,
          55,
          56,
          57,
          58,
          59,
          60,
          61,
          62,
          63,
          64,
          65,
          66,
          67,
          68,
          69,
          70,
          71,
          72,
          73,
          74,
          75,
          76,
          77,
          78,
          79,
          80,
          81,
          82,
          83,
          84,
          85,
          86,
          87,
          88,
          89,
          90,
          91,
          92,
          93,
          94,
          95,
          96,
          97,
          98,
          99,
          100,
          101,
          102,
          103,
          104,
          105,
          106,
          107,
          108,
          109,
          110,
          111,
          112,
          113,
          114,
          115,
          116,
          117,
          118,
          119,
          120,
          121,
          122,
          123,
          124,
          125,
          126,
          127,
          128,
          129,
          130,
          131,
          132,
          133,
          134,
          135,
          136,
          137,
          138,
          139,
          140,
          141,
          142,
          143,
          144,
          145,
          146,
          147,
          148,
          149,
          150,
          151,
          152,
          153,
          154,
          155,
          156,
          157,
          158,
          159,
          160,
          161,
          162,
          163,
          164,
          165,
          166,
          167,
          168,
          169,
          170,
          171,
          172,
          173,
          174,
          175,
          176,
          177,
          178,
          179,
          180,
          181,
          182,
          183,
          184,
          185,
          186,
          187,
          188,
          189,
          190,
          191,
          192,
          193,
          194,
          195,
          196,
          197,
          198,
          199,
          200,
          201,
          202,
          203,
          204,
          205,
          206,
          207,
          208,
          209,
          210,
          211,
          212,
          213,
          214,
          215,
          216,
          217,
          218,
          219,
          220,
          221,
          222,
          223,
          224,
          225,
          226,
          227,
          228,
          229,
          230,
          231,
          232,
          233,
          234,
          235,
          236,
          237,
          238,
          239,
          240,
          241,
          242,
          243,
          244,
          245,
          246,
          247,
          248,
          249,
          250,
          251,
          252,
          253,
          254,
          255,
          256,
          257,
          258,
          259,
          260,
          261,
          262,
          263,
          264,
          265,
          266,
          267,
          268,
          269,
          270,
          271,
          272,
          273,
          274,
          275,
          276,
          277,
          278,
          279,
          280,
          281,
          282,
          283,
          284,
          285,
          286,
          287,
          288,
          289,
          290,
          291,
          292,
          293,
          294,
          295,
          296,
          297,
          298,
          299,
          300,
          301,
          302,
          303,
          304,
          305,
          306,
          307,
          308,
          309,
          310,
          311,
          312,
          313,
          314,
          315,
          316,
          317,
          318,
          319,
          320,
          321,
          322,
          323,
          324,
          325,
          326,
          327,
          328,
          329,
          330,
          331,
          332,
          333,
          334,
          335,
          336,
          337,
          338,
          339,
          340,
          341,
          342,
          343,
          344,
          345,
          346,
          347,
          348,
          349,
          350,
          351,
          352,
          353,
          354,
          355,
          356,
          357,
          358,
          359,
          360,
          361,
          362,
          363,
          364,
          365,
          366,
          367,
          368,
          369
         ],
         "xaxis": "x",
         "y": [
          0.9321728691476591,
          1.0226182316655243,
          1.011124845488257,
          2.269230769230769,
          1.0548134500230308,
          0.9102564102564102,
          0.9293413173652695,
          0.9929328621908127,
          0.7128342245989305,
          0.889958734525447,
          0.9869831546707504,
          1.2778335005015045,
          1.050251256281407,
          0.8221784776902887,
          0.7404306220095693,
          0.9199101796407185,
          1.0100840336134453,
          1.1630859375,
          0.83886925795053,
          0.6968805179517363,
          0.951179820992677,
          0.9864176570458404,
          0.7967032967032966,
          1.057169634489222,
          1.4945945945945946,
          1.4151670951156812,
          0.8724614134849715,
          0.9717411121239745,
          0.9255039439088519,
          0.9018245004344049,
          0.9538319482917821,
          1.0179282868525896,
          1.0650577124868836,
          1.1404494382022472,
          0.9566929133858267,
          1.104903078677309,
          0.6397884996695308,
          1.0609756097560976,
          1.2917232021709633,
          1.1731984829329962,
          1.4067278287461773,
          0.8965853658536586,
          1.0565371024734982,
          0.8685491723466408,
          0.9684095860566448,
          1.1126408010012516,
          1.1036204744069913,
          0.9596510359869138,
          1.1393229166666667,
          1.0732919254658384,
          1.1551020408163266,
          0.9701149425287356,
          1.0598726114649681,
          0.9529276693455798,
          1.039092055485498,
          0.9927536231884058,
          1.0630749014454666,
          0.9100112485939258,
          1.1477272727272727,
          0.9664268585131894,
          1.0075187969924813,
          0.8843612334801763,
          0.9975031210986267,
          0.9399293286219081,
          0.9134948096885813,
          1.0206185567010309,
          0.876803551609323,
          1,
          0.8912797281993206,
          0.9961928934010152,
          0.9861460957178841,
          0.9114219114219114,
          0.8640883977900552,
          0.9948519948519948,
          1.0310391363022942,
          1,
          1.036734693877551,
          0.9402985074626866,
          1.1109467455621302,
          1.009421265141319,
          1.0609929078014184,
          1.4625984251968505,
          1.0290858725761773,
          0.85385500575374,
          0.9959677419354839,
          1.1029850746268657,
          0.9559014267185474,
          1.0352112676056338,
          1.2372881355932204,
          0.967828418230563,
          1.0511695906432748,
          1.2273504273504274,
          0.88875,
          1.0085227272727273,
          1.0571428571428572,
          1.0604229607250755,
          1.1304347826086956,
          0.6933066933066933,
          0.9544827586206897,
          1.1130856219709209,
          0.9634317862165963,
          1.0492307692307692,
          1.2210144927536233,
          0.9460227272727273,
          0.8902275769745649,
          0.7190889370932755,
          1.0781758957654723,
          0.8490322580645161,
          1.1473684210526316,
          1.0907563025210083,
          1.0110759493670887,
          1.2037735849056603,
          0.9535232383808095,
          0.8720770288858322,
          1.0807560137457044,
          0.9720496894409938,
          0.8964028776978418,
          1.0213464696223318,
          0.8666666666666667,
          1.0251677852348993,
          1.125703564727955,
          1.0222222222222221,
          0.9314641744548287,
          1.0816696914700545,
          1.0171232876712328,
          0.9440894568690096,
          0.8966565349544073,
          0.9174454828660437,
          1.0120689655172415,
          1.1005692599620494,
          1.4285714285714286,
          1.1673387096774193,
          0.9219745222929936,
          0.8687782805429864,
          0.9317073170731708,
          1.230603448275862,
          1.1044487427466152,
          0.979381443298969,
          1.0421245421245422,
          0.9912739965095986,
          1.2706935123042506,
          0.9543918918918919,
          1.1721991701244814,
          1.007181328545781,
          1.0939334637964775,
          0.996415770609319,
          1.0694980694980696,
          0.8195266272189349,
          0.8765822784810127,
          1.062135922330097,
          1.2551724137931035,
          0.9945054945054945,
          1.084,
          1.0803212851405624,
          0.8325581395348837,
          1.0467836257309941,
          1.2768496420047732,
          0.9726775956284153,
          1.1535087719298245,
          0.9307282415630551,
          0.925,
          1.251207729468599,
          1.1803652968036529,
          0.9773156899810964,
          0.9382940108892922,
          2.003875968992248,
          1.146341463414634,
          1.1355555555555557,
          1.0365853658536586,
          1.0365853658536586,
          1.0220440881763526,
          1.1647597254004576,
          1.0739957716701902,
          0.7987421383647799,
          1.018181818181818,
          0.9385474860335196,
          0.9748549323017408,
          1.0909090909090908,
          0.8873239436619719,
          1.183529411764706,
          1.0224032586558045,
          1.0635593220338984,
          0.9940476190476191,
          1.0505263157894738,
          0.8660869565217392,
          1.1275626423690206,
          0.8638743455497382,
          1.1826923076923077,
          0.9022140221402214,
          0.7990196078431373,
          0.991869918699187,
          1.0338983050847457,
          1.029598308668076,
          1.0565217391304347,
          1.154394299287411,
          0.9548133595284872,
          0.8816029143897997,
          1.1206496519721578,
          1.0461538461538462,
          1.0944700460829493,
          0.9148936170212766,
          1.0491071428571428,
          0.970954356846473,
          0.8175438596491228,
          0.9064327485380117,
          0.788135593220339,
          1.297752808988764,
          0.9563409563409564,
          0.9503105590062112,
          0.84375,
          1.055299539170507,
          1.0505747126436782,
          0.8606403013182674,
          0.9344262295081968,
          0.8913043478260869,
          0.9452631578947368,
          0.8962075848303394,
          0.8693957115009746,
          0.901010101010101,
          0.9135802469135802,
          1.0750605326876512,
          0.9758241758241758,
          0.9151138716356108,
          0.8435114503816794,
          0.7152103559870551,
          0.9305263157894736,
          1.0841584158415842,
          0.7225913621262459,
          0.981651376146789,
          1.2953846153846154,
          0.9745370370370371,
          0.8936170212765957,
          1.126005361930295,
          0.9292035398230089,
          0.9789227166276346,
          0.983451536643026,
          0.8619246861924686,
          0.9131403118040089,
          1.0383631713554988,
          1.1153846153846154,
          0.9712230215827338,
          0.9595238095238096,
          0.7810077519379846,
          0.9361702127659575,
          1.132183908045977,
          1,
          1.15,
          1.1174785100286533,
          1.1374269005847952,
          1.0486486486486486,
          0.9507389162561576,
          1.0968660968660968,
          1.0349462365591398,
          1.1784615384615384,
          0.8962264150943396,
          1.0988372093023255,
          1.052924791086351,
          0.9238329238329238,
          1.2376237623762376,
          1.1803797468354431,
          1.1246200607902737,
          1.376865671641791,
          0.997289972899729,
          0.9195979899497487,
          1.0252808988764044,
          1.2248322147651007,
          1.0843373493975903,
          0.9889807162534435,
          1.6886792452830188,
          1.1596091205211727,
          1.056379821958457,
          1.1851851851851851,
          0.9259259259259259,
          1.0638297872340425,
          1.374015748031496,
          1.5491071428571428,
          1.4048582995951417,
          0.8653366583541147,
          1.0880503144654088,
          0.9941860465116279,
          1.1604095563139931,
          1.0089820359281436,
          0.8042959427207638,
          0.9572649572649573,
          0.9458689458689459,
          0.7951807228915663,
          1.0952380952380953,
          0.8407310704960835,
          0.9553571428571429,
          1,
          0.9411764705882353,
          1.049342105263158,
          1.2834008097165992,
          0.9269005847953217,
          0.9905362776025236,
          0.8524590163934426,
          1.0578231292517006,
          0.9748427672955975,
          1.2663934426229508,
          1.0232558139534884,
          1.1353383458646618,
          0.8157181571815718,
          0.8608695652173913,
          1,
          1.0895522388059702,
          1.2074688796680497,
          1.3122171945701357,
          0.8892307692307693,
          1.103846153846154,
          1.0070422535211268,
          0.933993399339934,
          0.8788819875776398,
          1.1694915254237288,
          0.8954248366013072,
          0.7150537634408602,
          1.0571428571428572,
          0.8896551724137931,
          0.7801857585139319,
          1.585987261146497,
          0.9841897233201581,
          1.490909090909091,
          0.6205128205128205,
          0.9147286821705426,
          1.3823529411764706,
          1.0086206896551724,
          1.142156862745098,
          0.843065693430657,
          1.0452488687782806,
          1.1917098445595855,
          0.89453125,
          1.1692307692307693,
          1.4966887417218544,
          1.0813397129186604,
          1.1472081218274113,
          1.078048780487805,
          1.0138248847926268,
          0.8270676691729323,
          1.2882352941176471,
          1.0138888888888888,
          0.9121338912133892,
          1.1505376344086022,
          1.07035175879397,
          1,
          1.0098522167487685,
          1.1147540983606556,
          0.7461538461538462,
          1.1352941176470588,
          1.0434782608695652,
          0.8146551724137931,
          0.9,
          0.7932489451476793,
          0.8994974874371859,
          0.8627450980392157,
          0.9943181818181818,
          1.089171974522293,
          1.1702127659574468,
          0.8385416666666666,
          1.1027397260273972,
          1.0526315789473684,
          1.0392156862745099,
          0.8432432432432433,
          2.3278688524590163,
          1.1219512195121952,
          0.8852459016393442,
          1,
          0.9611650485436893,
          0.8807339449541285,
          1.183673469387755,
          1.4666666666666666,
          2.8
         ],
         "yaxis": "y"
        }
       ],
       "layout": {
        "autosize": true,
        "legend": {
         "tracegroupgap": 0
        },
        "template": {
         "data": {
          "bar": [
           {
            "error_x": {
             "color": "#2a3f5f"
            },
            "error_y": {
             "color": "#2a3f5f"
            },
            "marker": {
             "line": {
              "color": "#E5ECF6",
              "width": 0.5
             },
             "pattern": {
              "fillmode": "overlay",
              "size": 10,
              "solidity": 0.2
             }
            },
            "type": "bar"
           }
          ],
          "barpolar": [
           {
            "marker": {
             "line": {
              "color": "#E5ECF6",
              "width": 0.5
             },
             "pattern": {
              "fillmode": "overlay",
              "size": 10,
              "solidity": 0.2
             }
            },
            "type": "barpolar"
           }
          ],
          "carpet": [
           {
            "aaxis": {
             "endlinecolor": "#2a3f5f",
             "gridcolor": "white",
             "linecolor": "white",
             "minorgridcolor": "white",
             "startlinecolor": "#2a3f5f"
            },
            "baxis": {
             "endlinecolor": "#2a3f5f",
             "gridcolor": "white",
             "linecolor": "white",
             "minorgridcolor": "white",
             "startlinecolor": "#2a3f5f"
            },
            "type": "carpet"
           }
          ],
          "choropleth": [
           {
            "colorbar": {
             "outlinewidth": 0,
             "ticks": ""
            },
            "type": "choropleth"
           }
          ],
          "contour": [
           {
            "colorbar": {
             "outlinewidth": 0,
             "ticks": ""
            },
            "colorscale": [
             [
              0,
              "#0d0887"
             ],
             [
              0.1111111111111111,
              "#46039f"
             ],
             [
              0.2222222222222222,
              "#7201a8"
             ],
             [
              0.3333333333333333,
              "#9c179e"
             ],
             [
              0.4444444444444444,
              "#bd3786"
             ],
             [
              0.5555555555555556,
              "#d8576b"
             ],
             [
              0.6666666666666666,
              "#ed7953"
             ],
             [
              0.7777777777777778,
              "#fb9f3a"
             ],
             [
              0.8888888888888888,
              "#fdca26"
             ],
             [
              1,
              "#f0f921"
             ]
            ],
            "type": "contour"
           }
          ],
          "contourcarpet": [
           {
            "colorbar": {
             "outlinewidth": 0,
             "ticks": ""
            },
            "type": "contourcarpet"
           }
          ],
          "heatmap": [
           {
            "colorbar": {
             "outlinewidth": 0,
             "ticks": ""
            },
            "colorscale": [
             [
              0,
              "#0d0887"
             ],
             [
              0.1111111111111111,
              "#46039f"
             ],
             [
              0.2222222222222222,
              "#7201a8"
             ],
             [
              0.3333333333333333,
              "#9c179e"
             ],
             [
              0.4444444444444444,
              "#bd3786"
             ],
             [
              0.5555555555555556,
              "#d8576b"
             ],
             [
              0.6666666666666666,
              "#ed7953"
             ],
             [
              0.7777777777777778,
              "#fb9f3a"
             ],
             [
              0.8888888888888888,
              "#fdca26"
             ],
             [
              1,
              "#f0f921"
             ]
            ],
            "type": "heatmap"
           }
          ],
          "heatmapgl": [
           {
            "colorbar": {
             "outlinewidth": 0,
             "ticks": ""
            },
            "colorscale": [
             [
              0,
              "#0d0887"
             ],
             [
              0.1111111111111111,
              "#46039f"
             ],
             [
              0.2222222222222222,
              "#7201a8"
             ],
             [
              0.3333333333333333,
              "#9c179e"
             ],
             [
              0.4444444444444444,
              "#bd3786"
             ],
             [
              0.5555555555555556,
              "#d8576b"
             ],
             [
              0.6666666666666666,
              "#ed7953"
             ],
             [
              0.7777777777777778,
              "#fb9f3a"
             ],
             [
              0.8888888888888888,
              "#fdca26"
             ],
             [
              1,
              "#f0f921"
             ]
            ],
            "type": "heatmapgl"
           }
          ],
          "histogram": [
           {
            "marker": {
             "pattern": {
              "fillmode": "overlay",
              "size": 10,
              "solidity": 0.2
             }
            },
            "type": "histogram"
           }
          ],
          "histogram2d": [
           {
            "colorbar": {
             "outlinewidth": 0,
             "ticks": ""
            },
            "colorscale": [
             [
              0,
              "#0d0887"
             ],
             [
              0.1111111111111111,
              "#46039f"
             ],
             [
              0.2222222222222222,
              "#7201a8"
             ],
             [
              0.3333333333333333,
              "#9c179e"
             ],
             [
              0.4444444444444444,
              "#bd3786"
             ],
             [
              0.5555555555555556,
              "#d8576b"
             ],
             [
              0.6666666666666666,
              "#ed7953"
             ],
             [
              0.7777777777777778,
              "#fb9f3a"
             ],
             [
              0.8888888888888888,
              "#fdca26"
             ],
             [
              1,
              "#f0f921"
             ]
            ],
            "type": "histogram2d"
           }
          ],
          "histogram2dcontour": [
           {
            "colorbar": {
             "outlinewidth": 0,
             "ticks": ""
            },
            "colorscale": [
             [
              0,
              "#0d0887"
             ],
             [
              0.1111111111111111,
              "#46039f"
             ],
             [
              0.2222222222222222,
              "#7201a8"
             ],
             [
              0.3333333333333333,
              "#9c179e"
             ],
             [
              0.4444444444444444,
              "#bd3786"
             ],
             [
              0.5555555555555556,
              "#d8576b"
             ],
             [
              0.6666666666666666,
              "#ed7953"
             ],
             [
              0.7777777777777778,
              "#fb9f3a"
             ],
             [
              0.8888888888888888,
              "#fdca26"
             ],
             [
              1,
              "#f0f921"
             ]
            ],
            "type": "histogram2dcontour"
           }
          ],
          "mesh3d": [
           {
            "colorbar": {
             "outlinewidth": 0,
             "ticks": ""
            },
            "type": "mesh3d"
           }
          ],
          "parcoords": [
           {
            "line": {
             "colorbar": {
              "outlinewidth": 0,
              "ticks": ""
             }
            },
            "type": "parcoords"
           }
          ],
          "pie": [
           {
            "automargin": true,
            "type": "pie"
           }
          ],
          "scatter": [
           {
            "fillpattern": {
             "fillmode": "overlay",
             "size": 10,
             "solidity": 0.2
            },
            "type": "scatter"
           }
          ],
          "scatter3d": [
           {
            "line": {
             "colorbar": {
              "outlinewidth": 0,
              "ticks": ""
             }
            },
            "marker": {
             "colorbar": {
              "outlinewidth": 0,
              "ticks": ""
             }
            },
            "type": "scatter3d"
           }
          ],
          "scattercarpet": [
           {
            "marker": {
             "colorbar": {
              "outlinewidth": 0,
              "ticks": ""
             }
            },
            "type": "scattercarpet"
           }
          ],
          "scattergeo": [
           {
            "marker": {
             "colorbar": {
              "outlinewidth": 0,
              "ticks": ""
             }
            },
            "type": "scattergeo"
           }
          ],
          "scattergl": [
           {
            "marker": {
             "colorbar": {
              "outlinewidth": 0,
              "ticks": ""
             }
            },
            "type": "scattergl"
           }
          ],
          "scattermapbox": [
           {
            "marker": {
             "colorbar": {
              "outlinewidth": 0,
              "ticks": ""
             }
            },
            "type": "scattermapbox"
           }
          ],
          "scatterpolar": [
           {
            "marker": {
             "colorbar": {
              "outlinewidth": 0,
              "ticks": ""
             }
            },
            "type": "scatterpolar"
           }
          ],
          "scatterpolargl": [
           {
            "marker": {
             "colorbar": {
              "outlinewidth": 0,
              "ticks": ""
             }
            },
            "type": "scatterpolargl"
           }
          ],
          "scatterternary": [
           {
            "marker": {
             "colorbar": {
              "outlinewidth": 0,
              "ticks": ""
             }
            },
            "type": "scatterternary"
           }
          ],
          "surface": [
           {
            "colorbar": {
             "outlinewidth": 0,
             "ticks": ""
            },
            "colorscale": [
             [
              0,
              "#0d0887"
             ],
             [
              0.1111111111111111,
              "#46039f"
             ],
             [
              0.2222222222222222,
              "#7201a8"
             ],
             [
              0.3333333333333333,
              "#9c179e"
             ],
             [
              0.4444444444444444,
              "#bd3786"
             ],
             [
              0.5555555555555556,
              "#d8576b"
             ],
             [
              0.6666666666666666,
              "#ed7953"
             ],
             [
              0.7777777777777778,
              "#fb9f3a"
             ],
             [
              0.8888888888888888,
              "#fdca26"
             ],
             [
              1,
              "#f0f921"
             ]
            ],
            "type": "surface"
           }
          ],
          "table": [
           {
            "cells": {
             "fill": {
              "color": "#EBF0F8"
             },
             "line": {
              "color": "white"
             }
            },
            "header": {
             "fill": {
              "color": "#C8D4E3"
             },
             "line": {
              "color": "white"
             }
            },
            "type": "table"
           }
          ]
         },
         "layout": {
          "annotationdefaults": {
           "arrowcolor": "#2a3f5f",
           "arrowhead": 0,
           "arrowwidth": 1
          },
          "autotypenumbers": "strict",
          "coloraxis": {
           "colorbar": {
            "outlinewidth": 0,
            "ticks": ""
           }
          },
          "colorscale": {
           "diverging": [
            [
             0,
             "#8e0152"
            ],
            [
             0.1,
             "#c51b7d"
            ],
            [
             0.2,
             "#de77ae"
            ],
            [
             0.3,
             "#f1b6da"
            ],
            [
             0.4,
             "#fde0ef"
            ],
            [
             0.5,
             "#f7f7f7"
            ],
            [
             0.6,
             "#e6f5d0"
            ],
            [
             0.7,
             "#b8e186"
            ],
            [
             0.8,
             "#7fbc41"
            ],
            [
             0.9,
             "#4d9221"
            ],
            [
             1,
             "#276419"
            ]
           ],
           "sequential": [
            [
             0,
             "#0d0887"
            ],
            [
             0.1111111111111111,
             "#46039f"
            ],
            [
             0.2222222222222222,
             "#7201a8"
            ],
            [
             0.3333333333333333,
             "#9c179e"
            ],
            [
             0.4444444444444444,
             "#bd3786"
            ],
            [
             0.5555555555555556,
             "#d8576b"
            ],
            [
             0.6666666666666666,
             "#ed7953"
            ],
            [
             0.7777777777777778,
             "#fb9f3a"
            ],
            [
             0.8888888888888888,
             "#fdca26"
            ],
            [
             1,
             "#f0f921"
            ]
           ],
           "sequentialminus": [
            [
             0,
             "#0d0887"
            ],
            [
             0.1111111111111111,
             "#46039f"
            ],
            [
             0.2222222222222222,
             "#7201a8"
            ],
            [
             0.3333333333333333,
             "#9c179e"
            ],
            [
             0.4444444444444444,
             "#bd3786"
            ],
            [
             0.5555555555555556,
             "#d8576b"
            ],
            [
             0.6666666666666666,
             "#ed7953"
            ],
            [
             0.7777777777777778,
             "#fb9f3a"
            ],
            [
             0.8888888888888888,
             "#fdca26"
            ],
            [
             1,
             "#f0f921"
            ]
           ]
          },
          "colorway": [
           "#636efa",
           "#EF553B",
           "#00cc96",
           "#ab63fa",
           "#FFA15A",
           "#19d3f3",
           "#FF6692",
           "#B6E880",
           "#FF97FF",
           "#FECB52"
          ],
          "font": {
           "color": "#2a3f5f"
          },
          "geo": {
           "bgcolor": "white",
           "lakecolor": "white",
           "landcolor": "#E5ECF6",
           "showlakes": true,
           "showland": true,
           "subunitcolor": "white"
          },
          "hoverlabel": {
           "align": "left"
          },
          "hovermode": "closest",
          "mapbox": {
           "style": "light"
          },
          "paper_bgcolor": "white",
          "plot_bgcolor": "#E5ECF6",
          "polar": {
           "angularaxis": {
            "gridcolor": "white",
            "linecolor": "white",
            "ticks": ""
           },
           "bgcolor": "#E5ECF6",
           "radialaxis": {
            "gridcolor": "white",
            "linecolor": "white",
            "ticks": ""
           }
          },
          "scene": {
           "xaxis": {
            "backgroundcolor": "#E5ECF6",
            "gridcolor": "white",
            "gridwidth": 2,
            "linecolor": "white",
            "showbackground": true,
            "ticks": "",
            "zerolinecolor": "white"
           },
           "yaxis": {
            "backgroundcolor": "#E5ECF6",
            "gridcolor": "white",
            "gridwidth": 2,
            "linecolor": "white",
            "showbackground": true,
            "ticks": "",
            "zerolinecolor": "white"
           },
           "zaxis": {
            "backgroundcolor": "#E5ECF6",
            "gridcolor": "white",
            "gridwidth": 2,
            "linecolor": "white",
            "showbackground": true,
            "ticks": "",
            "zerolinecolor": "white"
           }
          },
          "shapedefaults": {
           "line": {
            "color": "#2a3f5f"
           }
          },
          "ternary": {
           "aaxis": {
            "gridcolor": "white",
            "linecolor": "white",
            "ticks": ""
           },
           "baxis": {
            "gridcolor": "white",
            "linecolor": "white",
            "ticks": ""
           },
           "bgcolor": "#E5ECF6",
           "caxis": {
            "gridcolor": "white",
            "linecolor": "white",
            "ticks": ""
           }
          },
          "title": {
           "x": 0.05
          },
          "xaxis": {
           "automargin": true,
           "gridcolor": "white",
           "linecolor": "white",
           "ticks": "",
           "title": {
            "standoff": 15
           },
           "zerolinecolor": "white",
           "zerolinewidth": 2
          },
          "yaxis": {
           "automargin": true,
           "gridcolor": "white",
           "linecolor": "white",
           "ticks": "",
           "title": {
            "standoff": 15
           },
           "zerolinecolor": "white",
           "zerolinewidth": 2
          }
         }
        },
        "title": {
         "text": "Start/End Ratio for Each Station"
        },
        "xaxis": {
         "anchor": "y",
         "autorange": true,
         "domain": [
          0,
          1
         ],
         "range": [
          -22.208902967655884,
          391.2089029676559
         ],
         "title": {
          "text": "Station Index"
         },
         "type": "linear"
        },
        "yaxis": {
         "anchor": "x",
         "autorange": true,
         "domain": [
          0,
          1
         ],
         "range": [
          0.44065222803086884,
          2.9798605924819515
         ],
         "title": {
          "text": "Start/End Ratio"
         },
         "type": "linear"
        }
       }
      },
      "image/png": "[encoded data removed]",
      "text/html": [
       "<div>                            <div id=\"9e75bf41-6f53-49e0-b59c-f9a4e7d190a5\" class=\"plotly-graph-div\" style=\"height:525px; width:100%;\"></div>            <script type=\"text/javascript\">                require([\"plotly\"], function(Plotly) {                    window.PLOTLYENV=window.PLOTLYENV || {};                                    if (document.getElementById(\"9e75bf41-6f53-49e0-b59c-f9a4e7d190a5\")) {                    Plotly.newPlot(                        \"9e75bf41-6f53-49e0-b59c-f9a4e7d190a5\",                        [{\"customdata\":[[4659,4998,9657],[2984,2918,5902],[2454,2427,4881],[2360,1040,3400],[2290,2171,4461],[1562,1716,3278],[1552,1670,3222],[1405,1415,2820],[1333,1870,3203],[1294,1454,2748],[1289,1306,2595],[1274,997,2271],[1254,1194,2448],[1253,1524,2777],[1238,1672,2910],[1229,1336,2565],[1202,1190,2392],[1191,1024,2215],[1187,1415,2602],[1184,1699,2883],[1169,1229,2398],[1162,1178,2340],[1160,1456,2616],[1128,1067,2195],[1106,740,1846],[1101,778,1879],[1074,1231,2305],[1066,1097,2163],[1056,1141,2197],[1038,1151,2189],[1033,1083,2116],[1022,1004,2026],[1015,953,1968],[1015,890,1905],[972,1016,1988],[969,877,1846],[968,1513,2481],[957,902,1859],[952,737,1689],[928,791,1719],[920,654,1574],[919,1025,1944],[897,849,1746],[892,1027,1919],[889,918,1807],[889,799,1688],[884,801,1685],[880,917,1797],[875,768,1643],[864,805,1669],[849,735,1584],[844,870,1714],[832,785,1617],[830,871,1701],[824,793,1617],[822,828,1650],[809,761,1570],[809,889,1698],[808,704,1512],[806,834,1640],[804,798,1602],[803,908,1711],[799,801,1600],[798,849,1647],[792,867,1659],[792,776,1568],[790,901,1691],[790,790,1580],[787,883,1670],[785,788,1573],[783,794,1577],[782,858,1640],[782,905,1687],[773,777,1550],[764,741,1505],[762,762,1524],[762,735,1497],[756,804,1560],[751,676,1427],[750,743,1493],[748,705,1453],[743,508,1251],[743,722,1465],[742,869,1611],[741,744,1485],[739,670,1409],[737,771,1508],[735,710,1445],[730,590,1320],[722,746,1468],[719,684,1403],[718,585,1303],[711,800,1511],[710,704,1414],[703,665,1368],[702,662,1364],[702,621,1323],[694,1001,1695],[692,725,1417],[689,619,1308],[685,711,1396],[682,650,1332],[674,552,1226],[666,704,1370],[665,747,1412],[663,922,1585],[662,614,1276],[658,775,1433],[654,570,1224],[649,595,1244],[639,632,1271],[638,530,1168],[636,667,1303],[634,727,1361],[629,582,1211],[626,644,1270],[623,695,1318],[622,609,1231],[611,705,1316],[611,596,1207],[600,533,1133],[598,585,1183],[598,642,1240],[596,551,1147],[594,584,1178],[591,626,1217],[590,658,1248],[589,642,1231],[587,580,1167],[580,527,1107],[580,406,986],[579,496,1075],[579,628,1207],[576,663,1239],[573,615,1188],[571,464,1035],[571,517,1088],[570,582,1152],[569,546,1115],[568,573,1141],[568,447,1015],[565,592,1157],[565,482,1047],[561,557,1118],[559,511,1070],[556,558,1114],[554,518,1072],[554,676,1230],[554,632,1186],[547,515,1062],[546,435,981],[543,546,1089],[542,500,1042],[538,498,1036],[537,645,1182],[537,513,1050],[535,419,954],[534,549,1083],[526,456,982],[524,563,1087],[518,560,1078],[518,414,932],[517,438,955],[517,529,1046],[517,551,1068],[517,258,775],[517,451,968],[511,450,961],[510,492,1002],[510,492,1002],[510,499,1009],[509,437,946],[508,473,981],[508,636,1144],[504,495,999],[504,537,1041],[504,517,1021],[504,462,966],[504,568,1072],[503,425,928],[502,491,993],[502,472,974],[501,504,1005],[499,475,974],[498,575,1073],[495,439,934],[495,573,1068],[492,416,908],[489,542,1031],[489,612,1101],[488,492,980],[488,472,960],[487,473,960],[486,460,946],[486,421,907],[486,509,995],[484,549,1033],[483,431,914],[476,455,931],[475,434,909],[473,517,990],[470,448,918],[468,482,950],[466,570,1036],[465,513,978],[465,590,1055],[462,356,818],[460,481,941],[459,483,942],[459,544,1003],[458,434,892],[457,435,892],[457,531,988],[456,488,944],[451,506,957],[449,475,924],[449,501,950],[446,513,959],[446,495,941],[444,486,930],[444,413,857],[444,455,899],[442,483,925],[442,524,966],[442,618,1060],[442,475,917],[438,404,842],[435,602,1037],[428,436,864],[421,325,746],[421,432,853],[420,470,890],[420,373,793],[420,452,872],[418,427,845],[416,423,839],[412,478,890],[410,449,859],[406,391,797],[406,364,770],[405,417,822],[403,420,823],[403,516,919],[396,423,819],[394,348,742],[393,393,786],[391,340,731],[390,349,739],[389,342,731],[388,370,758],[386,406,792],[385,351,736],[385,372,757],[383,325,708],[380,424,804],[378,344,722],[378,359,737],[376,407,783],[375,303,678],[373,316,689],[370,329,699],[369,268,637],[368,369,737],[366,398,764],[365,356,721],[365,298,663],[360,332,692],[359,363,722],[358,212,570],[356,307,663],[356,337,693],[352,297,649],[350,378,728],[350,329,679],[349,254,603],[347,224,571],[347,247,594],[347,401,748],[346,318,664],[342,344,686],[340,293,633],[337,334,671],[337,419,756],[336,351,687],[332,351,683],[330,415,745],[322,294,616],[322,383,705],[321,336,657],[320,320,640],[320,340,660],[319,304,623],[317,247,564],[317,342,659],[314,317,631],[312,366,678],[311,294,605],[310,318,628],[309,244,553],[308,301,609],[302,266,568],[301,369,670],[297,345,642],[295,295,590],[292,268,560],[291,241,532],[290,221,511],[289,325,614],[287,260,547],[286,284,570],[283,303,586],[283,322,605],[276,236,512],[274,306,580],[266,372,638],[259,245,504],[258,290,548],[252,323,575],[249,157,406],[249,253,502],[246,165,411],[242,390,632],[236,258,494],[235,170,405],[234,232,466],[233,204,437],[231,274,505],[231,221,452],[230,193,423],[229,256,485],[228,195,423],[226,151,377],[226,209,435],[226,197,423],[221,205,426],[220,217,437],[220,266,486],[219,170,389],[219,216,435],[218,239,457],[214,186,400],[213,199,412],[212,212,424],[205,203,408],[204,183,387],[194,260,454],[193,170,363],[192,184,376],[189,232,421],[189,210,399],[188,237,425],[179,199,378],[176,204,380],[175,176,351],[171,157,328],[165,141,306],[161,192,353],[161,146,307],[160,152,312],[159,153,312],[156,185,341],[142,61,203],[138,123,261],[108,122,230],[107,107,214],[99,103,202],[96,109,205],[58,49,107],[22,15,37],[14,5,19]],\"hovertemplate\":\"<b>%{hovertext}</b><br><br>Station Index=%{x}<br>Start/End Ratio=%{y}<br>Start Count=%{customdata[0]}<br>End Count=%{customdata[1]}<br>Total Trips=%{customdata[2]}<extra></extra>\",\"hovertext\":[\"Waterloo Station 3, Waterloo\",\"Waterloo Station 1, Waterloo\",\"Argyle Street, Kings Cross\",\"Waterloo Station 2, Waterloo\",\"Wormwood Street, Liverpool Street\",\"Cheapside, Bank\",\"Duke Street Hill, London Bridge\",\"Warren Street Station, Euston\",\"Hop Exchange, The Borough\",\"Moorfields, Moorgate\",\"Malet Street, Bloomsbury\",\"Eagle Wharf Road, Hoxton\",\"Aldersgate Street, Barbican\",\"Finsbury Circus, Liverpool Street\",\"Brushfield Street, Liverpool Street\",\"Old Street Station, St. Luke's\",\"Crosswall, Tower\",\"Finsbury Leisure Centre, St. Luke's\",\"Soho Square , Soho\",\"Queen Street 1, Bank\",\"Baylis Road, Waterloo\",\"Queen Street 2, Bank\",\"Holborn Circus, Holborn\",\"Bath Street, St. Luke's\",\"Boston Place, Marylebone\",\"Macclesfield Rd, St Lukes\",\"Newgate Street , St. Paul's\",\"Blackfriars Station, St. Paul's\",\"Tooley Street, Bermondsey\",\"William IV Street, Strand\",\"Bunhill Row, Moorgate\",\"Red Lion Street, Holborn\",\"Museum of London, Barbican\",\"Endsleigh Gardens, Euston\",\"Craven Street, Strand\",\"Great Dover Street, The Borough\",\"St. James's Square, St. James's\",\"Bethnal Green Road, Shoreditch\",\"Doric Way , Somers Town\",\"Hyde Park Corner, Hyde Park\",\"Wenlock Road , Hoxton\",\"Strand, Strand\",\"Lambeth Palace Road, Waterloo\",\"Little Argyll Street, West End\",\"Hatton Wall, Holborn\",\"Taviton Street, Bloomsbury\",\"Curlew Street, Shad Thames\",\"Wellington Street , Strand\",\"Bricklayers Arms, Borough\",\"Guilford Street , Bloomsbury\",\"Braham Street, Aldgate\",\"Southwark Station 2, Southwark\",\"Theobald's Road , Holborn\",\"Clerkenwell Green, Clerkenwell\",\"Webber Street , Southwark\",\"Hatton Garden, Holborn\",\"Kennington Cross, Kennington\",\"Page Street, Westminster\",\"Hampstead Road, Euston\",\"Howland Street, Fitzrovia\",\"Northington Street , Holborn\",\"High Holborn , Covent Garden\",\"Wells Street, Fitzrovia\",\"Bank of England Museum, Bank\",\"Westminster Pier, Westminster\",\"Bermondsey Street, Bermondsey\",\"Whitehall Place, Strand\",\"Leonard Circus , Shoreditch\",\"Drury Lane, Covent Garden\",\"Allington Street, Victoria\",\"Russell Square Station, Bloomsbury\",\"Moor Street, Soho\",\"Strata, Elephant & Castle\",\"Bayley Street , Bloomsbury\",\"Sea Containers, South Bank\",\"West Smithfield Rotunda, Farringdon\",\"Birkenhead Street, King's Cross\",\"Sun Street, Liverpool Street\",\"Baldwin Street, St. Luke's\",\"Berry Street, Clerkenwell\",\"New Fetter Lane, Holborn\",\"Graham Street, Angel\",\"Store Street, Bloomsbury\",\"Great Tower Street, Monument\",\"Dorset Square, Marylebone\",\"Ossulston Street, Somers Town\",\"Storey's Gate, Westminster\",\"Old Quebec Street, Marylebone\",\"Tanner Street, Bermondsey\",\"Wardour Street, Soho\",\"Lollard Street, Vauxhall\",\"Albert Gate, Hyde Park\",\"Warwick Row, Westminster\",\"Empire Square, The Borough\",\"Farringdon Street, Holborn\",\"Shoreditch High Street, Shoreditch\",\"Sadlers Sports Centre, Finsbury\",\"St. Bride Street, Holborn\",\"Worship Street, Shoreditch\",\"Walworth Square, Walworth\",\"Brunswick Square, Bloomsbury\",\"Snow Hill, Farringdon\",\"Chadwell Street, Angel\",\"Snowsfields, London Bridge\",\"Broadwick Street, Soho\",\"Kingsway Southbound, Strand\",\"Tower Wharf, Bermondsey\",\"Tavistock Street, Covent Garden\",\"Fanshaw Street, Hoxton\",\"British Museum, Bloomsbury\",\"Foley Street, Fitzrovia\",\"Percival Street, Finsbury\",\"Earnshaw Street , Covent Garden\",\"Green Park Station, Mayfair\",\"Park Road (Baker Street), The Regent's Park\",\"Tysoe Street, Clerkenwell\",\"Lincoln's Inn Fields, Holborn\",\"Wren Street, Holborn\",\"Howick Place, Westminster\",\"Barbican Centre, Barbican\",\"Cartwright Gardens , Bloomsbury\",\"Paddington Street, Marylebone\",\"Monument Street, Monument\",\"Portland Place, Marylebone\",\"Good's Way, King's Cross\",\"Horseferry Road, Westminster\",\"Tallis Street, Temple\",\"Finsbury Square , Moorgate\",\"Eccleston Place, Victoria\",\"Bell Lane, Liverpool Street\",\"Warwick Square, Pimlico\",\"Harrington Square 1, Camden Town\",\"Breams Buildings, Holborn\",\"Bouverie Street, Temple\",\"Stamford Street, South Bank\",\"Windsor Terrace, Hoxton\",\"Long Lane , Bermondsey\",\"Broadcasting House, Marylebone\",\"Gower Place , Euston\",\"Blackfriars Road, Southwark\",\"Pitfield Street Central, Hoxton\",\"Smith Square, Westminster\",\"Great Percy Street, Clerkenwell\",\"Beaumont Street, Marylebone\",\"Regency Street, Westminster\",\"Southampton Place, Holborn\",\"Swan Street, The Borough\",\"Bankside Mix, Bankside\",\"Panton Street, West End\",\"Rampayne Street, Pimlico\",\"Baker Street, Marylebone\",\"Scala Street, Fitzrovia\",\"Crimscott Street, Bermondsey\",\"Crawford Street, Marylebone\",\"Portugal Street, Holborn\",\"Southampton Street, Strand\",\"Murray Grove , Hoxton\",\"Tate Modern, Bankside\",\"Roscoe Street, St. Luke's\",\"Ashley Place, Victoria\",\"Chicheley Street, South Bank\",\"Tavistock Place, Bloomsbury\",\"Coram Street, Bloomsbury\",\"Black Prince Road, Vauxhall\",\"Great Russell Street, Bloomsbury\",\"Cloudesley Road, Angel\",\"Leman Street, Aldgate\",\"Tachbrook Street, Victoria\",\"Tyers Gate, Bermondsey\",\"New Kent Road, The Borough\",\"New Inn Yard, Shoreditch\",\"Bell Street , Marylebone\",\"St Mary's Hospital, Paddington\",\"Chapel Place, Marylebone\",\"Borough High Street, The Borough\",\"Union Street, The Borough\",\"Golden Lane, Barbican\",\"Gloucester Street, Pimlico\",\"Hinde Street, Marylebone\",\"Columbia Road, Shoreditch\",\"Shouldham Street, Marylebone\",\"Rathbone Street, Fitzrovia\",\"Finsbury Library , Finsbury\",\"Lower Marsh, Waterloo\",\"Abbey Orchard Street, Westminster\",\"Walnut Tree Walk, Vauxhall\",\"Godliman Street, St. Paul's\",\"Albany Street, The Regent's Park\",\"Houghton Street, Strand\",\"Queen Victoria Street, St. Paul's\",\"Kennington Road, Vauxhall\",\"Bolsover Street, Fitzrovia\",\"Eversholt Street , Camden Town\",\"Ampton Street , Clerkenwell\",\"Vincent Street, Pimlico\",\"Seymour Place, Marylebone\",\"Ontario Street, Elephant & Castle\",\"Harrowby Street, Marylebone\",\"Marylebone Lane, Marylebone\",\"Porchester Place, Paddington\",\"Belvedere Road 1, South Bank\",\"Great Suffolk Street, The Borough\",\"Golden Square, Soho\",\"Fore Street, Guildhall\",\"St. Mary Axe, Aldgate\",\"Fore Street Avenue, Guildhall\",\"St. John Street, Finsbury\",\"Hampton Street, Walworth\",\"Norton Folgate, Liverpool Street\",\"Frith Street, Soho\",\"Farringdon Lane, Clerkenwell\",\"Great Titchfield Street, Fitzrovia\",\"Sackville Street, Mayfair\",\"Waterloo Road, South Bank\",\"Fournier Street, Whitechapel\",\"Christopher Street, Liverpool Street\",\"Euston Road, Euston\",\"Tower Gardens , Tower\",\"Gaywood  Street, Elephant & Castle\",\"Milroy Walk, South Bank\",\"Lambeth Road, Vauxhall\",\"Bury Place, Holborn\",\"George Street, Marylebone\",\"Queen Mother Sports Centre, Victoria\",\"The Guildhall, Guildhall\",\"Borough Road, Elephant & Castle\",\"Lavington Street, Bankside\",\"Houndsditch, Aldgate\",\"Butler Place, Westminster\",\"Drummond Street , Euston\",\"Falkirk Street, Hoxton\",\"Pall Mall East, West End\",\"Granby Street, Shoreditch\",\"Lambeth North Station, Waterloo\",\"Abingdon Green, Westminster\",\"Carey Street, Holborn\",\"Concert Hall Approach 2, South Bank\",\"King Edward Street, St Pauls\",\"Sedding Street, Sloane Square\",\"Bedford Way, Bloomsbury\",\"Charlotte Street, Fitzrovia\",\"Euston Square Gardens, Euston\",\"Wood Street, Guildhall\",\"Arundel Street, Temple\",\"Edgware Road Station, Marylebone\",\"City Road, Angel\",\"St. Katharine's Way, Tower\",\"Palissy Street, Shoreditch\",\"Sail Street, Vauxhall\",\"Cotton Garden Estate, Kennington\",\"Kings Gate House, Westminster\",\"Hoxton Station, Hoxton\",\"Triangle Car Park, Hyde Park\",\"Millbank Tower, Pimlico\",\"Wellington Arch, Hyde Park\",\"Brandon Street, Walworth\",\"Harris Academy, Bermondsey\",\"Buckingham Gate, Westminster\",\"Hardwick Street, Clerkenwell\",\"Fire Brigade Pier, Vauxhall\",\"Red Lion Square, Holborn\",\"New North Road 2, Hoxton\",\"Waterloo Place, St. James's\",\"Cromer Street, Bloomsbury\",\"Portman Square, Marylebone\",\"Green Street, Mayfair\",\"Margery Street, Clerkenwell\",\"Grosvenor Square, Mayfair\",\"Claremont Square, Angel\",\"Rodney Road , Walworth\",\"Kennington Station, Kennington\",\"Jewry Street, Aldgate\",\"Belvedere Road 2, South Bank\",\"Belgrave Road, Victoria\",\"Cadogan Gardens, Chelsea\",\"River Street , Clerkenwell\",\"Victory Place, Walworth\",\"St. George Street, Mayfair\",\"Dickens Square, Borough\",\"Montpelier Street, Knightsbridge\",\"Charlbert Street, St. John's Wood\",\"Newton Street, Covent Garden\",\"Charles II Street, West End\",\"Rochester Row, Westminster\",\"Southwark Street, Bankside\",\"New Cavendish Street, Marylebone\",\"Wellington Row, Bethnal Green\",\"Concert Hall Approach 1, South Bank\",\"LSBU (Borough Road), Elephant & Castle\",\"Fashion Street, Whitechapel\",\"Central House, Aldgate\",\"New Globe Walk, Bankside\",\"Southwick Street, Paddington\",\"Elizabeth Bridge, Victoria\",\"Pont Street, Knightsbridge\",\"Temple Gardens, Temple\",\"Seville Street, Knightsbridge\",\"Clifton Street, Shoreditch\",\"Albert Embankment, Vauxhall\",\"Harper Road, The Borough\",\"Ebury Bridge, Pimlico\",\"Park Lane , Hyde Park\",\"North Audley Street, Mayfair\",\"Westminster University, Marylebone\",\"Hoxton Street, Hoxton\",\"Holy Trinity Brompton, Knightsbridge\",\"Northdown Street, King's Cross\",\"Northumberland Avenue, Strand\",\"George Place Mews, Marylebone\",\"Harriet Street, Knightsbridge\",\"Poured Lines, Bankside\",\"St. Chad's Street, King's Cross\",\"Commercial Street, Shoreditch\",\"Curzon Street, Mayfair\",\"Somerset House, Strand\",\"Sloane Avenue, Knightsbridge\",\"Belgrave Square, Belgravia\",\"Pindar Street, Liverpool Street\",\"Mallory Street, Marylebone\",\"Brick Lane Market, Shoreditch\",\"Greenberry Street, St.John's Wood\",\"Clifford Street, Mayfair\",\"Bourne Street, Belgravia\",\"Broadley Terrace, Marylebone\",\"Woodstock Street, Mayfair\",\"The Tennis Courts, The Regent's Park\",\"Grafton Street, Mayfair\",\"Bruton Street, Mayfair\",\"Longford Street, The Regent's Park\",\"Embankment (Savoy), Strand\",\"Calshot Street , King's Cross\",\"Risinghill Street, Angel\",\"Pancras Road, King's Cross\",\"St. John's Wood Church, The Regent's Park\",\"Geraldine Street, Elephant & Castle\",\"Guildhouse Street, Victoria\",\"Archbishop's Park, Waterloo\",\"Lower Thames Street, Monument\",\"Denyer Street, Knightsbridge\",\"Park Street, Bankside\",\"Kingsway, Covent Garden\",\"Vincent Square, Westminster\",\"Park Lane, Mayfair\",\"Clarges Street, Mayfair\",\"Stanhope Gate, Mayfair\",\"Waterloo Bridge, South Bank\",\"Chelsea Green, Chelsea\",\"Eaton Square (South), Belgravia\",\"Sancroft Street, Vauxhall\",\"Torrens Street, Angel\",\"St. Martin's Street, West End\",\"Cadogan Place, Knightsbridge\",\"South Audley Street, Mayfair\",\"Royal Avenue 2, Chelsea\",\"Crinan Street, King's Cross\",\"Farm Street, Mayfair\",\"Millennium Hotel, Mayfair\",\"Buxton Street 1, Shoreditch\",\"Killick Street, King's Cross\",\"King Edward Walk, Waterloo\",\"Greycoat Street , Westminster\",\"Knightsbridge, Hyde Park\",\"Victoria & Albert Museum, South Kensington\",\"Grosvenor Crescent, Belgravia\",\"Nutford Place, Marylebone\",\"Westminster Bridge Road, Elephant & Castle\",\"Royal Avenue 1, Chelsea\",\"Upper Grosvenor Street, Mayfair\",\"Colombo Street, Southwark\",\"Goswell Road (City Uni), Finsbury\"],\"legendgroup\":\"\",\"marker\":{\"color\":\"#636efa\",\"symbol\":\"circle\"},\"mode\":\"markers\",\"name\":\"\",\"orientation\":\"v\",\"showlegend\":false,\"x\":[0,1,2,3,4,5,6,7,8,9,10,11,12,13,14,15,16,17,18,19,20,21,22,23,24,25,26,27,28,29,30,31,32,33,34,35,36,37,38,39,40,41,42,43,44,45,46,47,48,49,50,51,52,53,54,55,56,57,58,59,60,61,62,63,64,65,66,67,68,69,70,71,72,73,74,75,76,77,78,79,80,81,82,83,84,85,86,87,88,89,90,91,92,93,94,95,96,97,98,99,100,101,102,103,104,105,106,107,108,109,110,111,112,113,114,115,116,117,118,119,120,121,122,123,124,125,126,127,128,129,130,131,132,133,134,135,136,137,138,139,140,141,142,143,144,145,146,147,148,149,150,151,152,153,154,155,156,157,158,159,160,161,162,163,164,165,166,167,168,169,170,171,172,173,174,175,176,177,178,179,180,181,182,183,184,185,186,187,188,189,190,191,192,193,194,195,196,197,198,199,200,201,202,203,204,205,206,207,208,209,210,211,212,213,214,215,216,217,218,219,220,221,222,223,224,225,226,227,228,229,230,231,232,233,234,235,236,237,238,239,240,241,242,243,244,245,246,247,248,249,250,251,252,253,254,255,256,257,258,259,260,261,262,263,264,265,266,267,268,269,270,271,272,273,274,275,276,277,278,279,280,281,282,283,284,285,286,287,288,289,290,291,292,293,294,295,296,297,298,299,300,301,302,303,304,305,306,307,308,309,310,311,312,313,314,315,316,317,318,319,320,321,322,323,324,325,326,327,328,329,330,331,332,333,334,335,336,337,338,339,340,341,342,343,344,345,346,347,348,349,350,351,352,353,354,355,356,357,358,359,360,361,362,363,364,365,366,367,368,369],\"xaxis\":\"x\",\"y\":[0.9321728691476591,1.0226182316655243,1.011124845488257,2.269230769230769,1.0548134500230308,0.9102564102564102,0.9293413173652695,0.9929328621908127,0.7128342245989305,0.889958734525447,0.9869831546707504,1.2778335005015045,1.050251256281407,0.8221784776902887,0.7404306220095693,0.9199101796407185,1.0100840336134453,1.1630859375,0.83886925795053,0.6968805179517363,0.951179820992677,0.9864176570458404,0.7967032967032966,1.057169634489222,1.4945945945945946,1.4151670951156812,0.8724614134849715,0.9717411121239745,0.9255039439088519,0.9018245004344049,0.9538319482917821,1.0179282868525896,1.0650577124868836,1.1404494382022472,0.9566929133858267,1.104903078677309,0.6397884996695308,1.0609756097560976,1.2917232021709633,1.1731984829329962,1.4067278287461773,0.8965853658536586,1.0565371024734982,0.8685491723466408,0.9684095860566448,1.1126408010012516,1.1036204744069913,0.9596510359869138,1.1393229166666667,1.0732919254658384,1.1551020408163266,0.9701149425287356,1.0598726114649681,0.9529276693455798,1.039092055485498,0.9927536231884058,1.0630749014454666,0.9100112485939258,1.1477272727272727,0.9664268585131894,1.0075187969924813,0.8843612334801763,0.9975031210986267,0.9399293286219081,0.9134948096885813,1.0206185567010309,0.876803551609323,1.0,0.8912797281993206,0.9961928934010152,0.9861460957178841,0.9114219114219114,0.8640883977900552,0.9948519948519948,1.0310391363022942,1.0,1.036734693877551,0.9402985074626866,1.1109467455621302,1.009421265141319,1.0609929078014184,1.4625984251968505,1.0290858725761773,0.85385500575374,0.9959677419354839,1.1029850746268657,0.9559014267185474,1.0352112676056338,1.2372881355932204,0.967828418230563,1.0511695906432748,1.2273504273504274,0.88875,1.0085227272727273,1.0571428571428572,1.0604229607250755,1.1304347826086956,0.6933066933066933,0.9544827586206897,1.1130856219709209,0.9634317862165963,1.0492307692307692,1.2210144927536233,0.9460227272727273,0.8902275769745649,0.7190889370932755,1.0781758957654723,0.8490322580645161,1.1473684210526316,1.0907563025210083,1.0110759493670887,1.2037735849056603,0.9535232383808095,0.8720770288858322,1.0807560137457044,0.9720496894409938,0.8964028776978418,1.0213464696223318,0.8666666666666667,1.0251677852348993,1.125703564727955,1.0222222222222221,0.9314641744548287,1.0816696914700545,1.0171232876712328,0.9440894568690096,0.8966565349544073,0.9174454828660437,1.0120689655172415,1.1005692599620494,1.4285714285714286,1.1673387096774193,0.9219745222929936,0.8687782805429864,0.9317073170731708,1.230603448275862,1.1044487427466152,0.979381443298969,1.0421245421245422,0.9912739965095986,1.2706935123042506,0.9543918918918919,1.1721991701244814,1.007181328545781,1.0939334637964775,0.996415770609319,1.0694980694980696,0.8195266272189349,0.8765822784810127,1.062135922330097,1.2551724137931035,0.9945054945054945,1.084,1.0803212851405624,0.8325581395348837,1.0467836257309941,1.2768496420047732,0.9726775956284153,1.1535087719298245,0.9307282415630551,0.925,1.251207729468599,1.1803652968036529,0.9773156899810964,0.9382940108892922,2.003875968992248,1.146341463414634,1.1355555555555557,1.0365853658536586,1.0365853658536586,1.0220440881763526,1.1647597254004576,1.0739957716701902,0.7987421383647799,1.018181818181818,0.9385474860335196,0.9748549323017408,1.0909090909090908,0.8873239436619719,1.183529411764706,1.0224032586558045,1.0635593220338984,0.9940476190476191,1.0505263157894738,0.8660869565217392,1.1275626423690206,0.8638743455497382,1.1826923076923077,0.9022140221402214,0.7990196078431373,0.991869918699187,1.0338983050847457,1.029598308668076,1.0565217391304347,1.154394299287411,0.9548133595284872,0.8816029143897997,1.1206496519721578,1.0461538461538462,1.0944700460829493,0.9148936170212766,1.0491071428571428,0.970954356846473,0.8175438596491228,0.9064327485380117,0.788135593220339,1.297752808988764,0.9563409563409564,0.9503105590062112,0.84375,1.055299539170507,1.0505747126436782,0.8606403013182674,0.9344262295081968,0.8913043478260869,0.9452631578947368,0.8962075848303394,0.8693957115009746,0.901010101010101,0.9135802469135802,1.0750605326876512,0.9758241758241758,0.9151138716356108,0.8435114503816794,0.7152103559870551,0.9305263157894736,1.0841584158415842,0.7225913621262459,0.981651376146789,1.2953846153846154,0.9745370370370371,0.8936170212765957,1.126005361930295,0.9292035398230089,0.9789227166276346,0.983451536643026,0.8619246861924686,0.9131403118040089,1.0383631713554988,1.1153846153846154,0.9712230215827338,0.9595238095238096,0.7810077519379846,0.9361702127659575,1.132183908045977,1.0,1.15,1.1174785100286533,1.1374269005847952,1.0486486486486486,0.9507389162561576,1.0968660968660968,1.0349462365591398,1.1784615384615384,0.8962264150943396,1.0988372093023255,1.052924791086351,0.9238329238329238,1.2376237623762376,1.1803797468354431,1.1246200607902737,1.376865671641791,0.997289972899729,0.9195979899497487,1.0252808988764044,1.2248322147651007,1.0843373493975903,0.9889807162534435,1.6886792452830188,1.1596091205211727,1.056379821958457,1.1851851851851851,0.9259259259259259,1.0638297872340425,1.374015748031496,1.5491071428571428,1.4048582995951417,0.8653366583541147,1.0880503144654088,0.9941860465116279,1.1604095563139931,1.0089820359281436,0.8042959427207638,0.9572649572649573,0.9458689458689459,0.7951807228915663,1.0952380952380953,0.8407310704960835,0.9553571428571429,1.0,0.9411764705882353,1.049342105263158,1.2834008097165992,0.9269005847953217,0.9905362776025236,0.8524590163934426,1.0578231292517006,0.9748427672955975,1.2663934426229508,1.0232558139534884,1.1353383458646618,0.8157181571815718,0.8608695652173913,1.0,1.0895522388059702,1.2074688796680497,1.3122171945701357,0.8892307692307693,1.103846153846154,1.0070422535211268,0.933993399339934,0.8788819875776398,1.1694915254237288,0.8954248366013072,0.7150537634408602,1.0571428571428572,0.8896551724137931,0.7801857585139319,1.585987261146497,0.9841897233201581,1.490909090909091,0.6205128205128205,0.9147286821705426,1.3823529411764706,1.0086206896551724,1.142156862745098,0.843065693430657,1.0452488687782806,1.1917098445595855,0.89453125,1.1692307692307693,1.4966887417218544,1.0813397129186604,1.1472081218274113,1.078048780487805,1.0138248847926268,0.8270676691729323,1.2882352941176471,1.0138888888888888,0.9121338912133892,1.1505376344086022,1.07035175879397,1.0,1.0098522167487685,1.1147540983606556,0.7461538461538462,1.1352941176470588,1.0434782608695652,0.8146551724137931,0.9,0.7932489451476793,0.8994974874371859,0.8627450980392157,0.9943181818181818,1.089171974522293,1.1702127659574468,0.8385416666666666,1.1027397260273972,1.0526315789473684,1.0392156862745099,0.8432432432432433,2.3278688524590163,1.1219512195121952,0.8852459016393442,1.0,0.9611650485436893,0.8807339449541285,1.183673469387755,1.4666666666666666,2.8],\"yaxis\":\"y\",\"type\":\"scatter\"}],                        {\"template\":{\"data\":{\"histogram2dcontour\":[{\"type\":\"histogram2dcontour\",\"colorbar\":{\"outlinewidth\":0,\"ticks\":\"\"},\"colorscale\":[[0.0,\"#0d0887\"],[0.1111111111111111,\"#46039f\"],[0.2222222222222222,\"#7201a8\"],[0.3333333333333333,\"#9c179e\"],[0.4444444444444444,\"#bd3786\"],[0.5555555555555556,\"#d8576b\"],[0.6666666666666666,\"#ed7953\"],[0.7777777777777778,\"#fb9f3a\"],[0.8888888888888888,\"#fdca26\"],[1.0,\"#f0f921\"]]}],\"choropleth\":[{\"type\":\"choropleth\",\"colorbar\":{\"outlinewidth\":0,\"ticks\":\"\"}}],\"histogram2d\":[{\"type\":\"histogram2d\",\"colorbar\":{\"outlinewidth\":0,\"ticks\":\"\"},\"colorscale\":[[0.0,\"#0d0887\"],[0.1111111111111111,\"#46039f\"],[0.2222222222222222,\"#7201a8\"],[0.3333333333333333,\"#9c179e\"],[0.4444444444444444,\"#bd3786\"],[0.5555555555555556,\"#d8576b\"],[0.6666666666666666,\"#ed7953\"],[0.7777777777777778,\"#fb9f3a\"],[0.8888888888888888,\"#fdca26\"],[1.0,\"#f0f921\"]]}],\"heatmap\":[{\"type\":\"heatmap\",\"colorbar\":{\"outlinewidth\":0,\"ticks\":\"\"},\"colorscale\":[[0.0,\"#0d0887\"],[0.1111111111111111,\"#46039f\"],[0.2222222222222222,\"#7201a8\"],[0.3333333333333333,\"#9c179e\"],[0.4444444444444444,\"#bd3786\"],[0.5555555555555556,\"#d8576b\"],[0.6666666666666666,\"#ed7953\"],[0.7777777777777778,\"#fb9f3a\"],[0.8888888888888888,\"#fdca26\"],[1.0,\"#f0f921\"]]}],\"heatmapgl\":[{\"type\":\"heatmapgl\",\"colorbar\":{\"outlinewidth\":0,\"ticks\":\"\"},\"colorscale\":[[0.0,\"#0d0887\"],[0.1111111111111111,\"#46039f\"],[0.2222222222222222,\"#7201a8\"],[0.3333333333333333,\"#9c179e\"],[0.4444444444444444,\"#bd3786\"],[0.5555555555555556,\"#d8576b\"],[0.6666666666666666,\"#ed7953\"],[0.7777777777777778,\"#fb9f3a\"],[0.8888888888888888,\"#fdca26\"],[1.0,\"#f0f921\"]]}],\"contourcarpet\":[{\"type\":\"contourcarpet\",\"colorbar\":{\"outlinewidth\":0,\"ticks\":\"\"}}],\"contour\":[{\"type\":\"contour\",\"colorbar\":{\"outlinewidth\":0,\"ticks\":\"\"},\"colorscale\":[[0.0,\"#0d0887\"],[0.1111111111111111,\"#46039f\"],[0.2222222222222222,\"#7201a8\"],[0.3333333333333333,\"#9c179e\"],[0.4444444444444444,\"#bd3786\"],[0.5555555555555556,\"#d8576b\"],[0.6666666666666666,\"#ed7953\"],[0.7777777777777778,\"#fb9f3a\"],[0.8888888888888888,\"#fdca26\"],[1.0,\"#f0f921\"]]}],\"surface\":[{\"type\":\"surface\",\"colorbar\":{\"outlinewidth\":0,\"ticks\":\"\"},\"colorscale\":[[0.0,\"#0d0887\"],[0.1111111111111111,\"#46039f\"],[0.2222222222222222,\"#7201a8\"],[0.3333333333333333,\"#9c179e\"],[0.4444444444444444,\"#bd3786\"],[0.5555555555555556,\"#d8576b\"],[0.6666666666666666,\"#ed7953\"],[0.7777777777777778,\"#fb9f3a\"],[0.8888888888888888,\"#fdca26\"],[1.0,\"#f0f921\"]]}],\"mesh3d\":[{\"type\":\"mesh3d\",\"colorbar\":{\"outlinewidth\":0,\"ticks\":\"\"}}],\"scatter\":[{\"fillpattern\":{\"fillmode\":\"overlay\",\"size\":10,\"solidity\":0.2},\"type\":\"scatter\"}],\"parcoords\":[{\"type\":\"parcoords\",\"line\":{\"colorbar\":{\"outlinewidth\":0,\"ticks\":\"\"}}}],\"scatterpolargl\":[{\"type\":\"scatterpolargl\",\"marker\":{\"colorbar\":{\"outlinewidth\":0,\"ticks\":\"\"}}}],\"bar\":[{\"error_x\":{\"color\":\"#2a3f5f\"},\"error_y\":{\"color\":\"#2a3f5f\"},\"marker\":{\"line\":{\"color\":\"#E5ECF6\",\"width\":0.5},\"pattern\":{\"fillmode\":\"overlay\",\"size\":10,\"solidity\":0.2}},\"type\":\"bar\"}],\"scattergeo\":[{\"type\":\"scattergeo\",\"marker\":{\"colorbar\":{\"outlinewidth\":0,\"ticks\":\"\"}}}],\"scatterpolar\":[{\"type\":\"scatterpolar\",\"marker\":{\"colorbar\":{\"outlinewidth\":0,\"ticks\":\"\"}}}],\"histogram\":[{\"marker\":{\"pattern\":{\"fillmode\":\"overlay\",\"size\":10,\"solidity\":0.2}},\"type\":\"histogram\"}],\"scattergl\":[{\"type\":\"scattergl\",\"marker\":{\"colorbar\":{\"outlinewidth\":0,\"ticks\":\"\"}}}],\"scatter3d\":[{\"type\":\"scatter3d\",\"line\":{\"colorbar\":{\"outlinewidth\":0,\"ticks\":\"\"}},\"marker\":{\"colorbar\":{\"outlinewidth\":0,\"ticks\":\"\"}}}],\"scattermapbox\":[{\"type\":\"scattermapbox\",\"marker\":{\"colorbar\":{\"outlinewidth\":0,\"ticks\":\"\"}}}],\"scatterternary\":[{\"type\":\"scatterternary\",\"marker\":{\"colorbar\":{\"outlinewidth\":0,\"ticks\":\"\"}}}],\"scattercarpet\":[{\"type\":\"scattercarpet\",\"marker\":{\"colorbar\":{\"outlinewidth\":0,\"ticks\":\"\"}}}],\"carpet\":[{\"aaxis\":{\"endlinecolor\":\"#2a3f5f\",\"gridcolor\":\"white\",\"linecolor\":\"white\",\"minorgridcolor\":\"white\",\"startlinecolor\":\"#2a3f5f\"},\"baxis\":{\"endlinecolor\":\"#2a3f5f\",\"gridcolor\":\"white\",\"linecolor\":\"white\",\"minorgridcolor\":\"white\",\"startlinecolor\":\"#2a3f5f\"},\"type\":\"carpet\"}],\"table\":[{\"cells\":{\"fill\":{\"color\":\"#EBF0F8\"},\"line\":{\"color\":\"white\"}},\"header\":{\"fill\":{\"color\":\"#C8D4E3\"},\"line\":{\"color\":\"white\"}},\"type\":\"table\"}],\"barpolar\":[{\"marker\":{\"line\":{\"color\":\"#E5ECF6\",\"width\":0.5},\"pattern\":{\"fillmode\":\"overlay\",\"size\":10,\"solidity\":0.2}},\"type\":\"barpolar\"}],\"pie\":[{\"automargin\":true,\"type\":\"pie\"}]},\"layout\":{\"autotypenumbers\":\"strict\",\"colorway\":[\"#636efa\",\"#EF553B\",\"#00cc96\",\"#ab63fa\",\"#FFA15A\",\"#19d3f3\",\"#FF6692\",\"#B6E880\",\"#FF97FF\",\"#FECB52\"],\"font\":{\"color\":\"#2a3f5f\"},\"hovermode\":\"closest\",\"hoverlabel\":{\"align\":\"left\"},\"paper_bgcolor\":\"white\",\"plot_bgcolor\":\"#E5ECF6\",\"polar\":{\"bgcolor\":\"#E5ECF6\",\"angularaxis\":{\"gridcolor\":\"white\",\"linecolor\":\"white\",\"ticks\":\"\"},\"radialaxis\":{\"gridcolor\":\"white\",\"linecolor\":\"white\",\"ticks\":\"\"}},\"ternary\":{\"bgcolor\":\"#E5ECF6\",\"aaxis\":{\"gridcolor\":\"white\",\"linecolor\":\"white\",\"ticks\":\"\"},\"baxis\":{\"gridcolor\":\"white\",\"linecolor\":\"white\",\"ticks\":\"\"},\"caxis\":{\"gridcolor\":\"white\",\"linecolor\":\"white\",\"ticks\":\"\"}},\"coloraxis\":{\"colorbar\":{\"outlinewidth\":0,\"ticks\":\"\"}},\"colorscale\":{\"sequential\":[[0.0,\"#0d0887\"],[0.1111111111111111,\"#46039f\"],[0.2222222222222222,\"#7201a8\"],[0.3333333333333333,\"#9c179e\"],[0.4444444444444444,\"#bd3786\"],[0.5555555555555556,\"#d8576b\"],[0.6666666666666666,\"#ed7953\"],[0.7777777777777778,\"#fb9f3a\"],[0.8888888888888888,\"#fdca26\"],[1.0,\"#f0f921\"]],\"sequentialminus\":[[0.0,\"#0d0887\"],[0.1111111111111111,\"#46039f\"],[0.2222222222222222,\"#7201a8\"],[0.3333333333333333,\"#9c179e\"],[0.4444444444444444,\"#bd3786\"],[0.5555555555555556,\"#d8576b\"],[0.6666666666666666,\"#ed7953\"],[0.7777777777777778,\"#fb9f3a\"],[0.8888888888888888,\"#fdca26\"],[1.0,\"#f0f921\"]],\"diverging\":[[0,\"#8e0152\"],[0.1,\"#c51b7d\"],[0.2,\"#de77ae\"],[0.3,\"#f1b6da\"],[0.4,\"#fde0ef\"],[0.5,\"#f7f7f7\"],[0.6,\"#e6f5d0\"],[0.7,\"#b8e186\"],[0.8,\"#7fbc41\"],[0.9,\"#4d9221\"],[1,\"#276419\"]]},\"xaxis\":{\"gridcolor\":\"white\",\"linecolor\":\"white\",\"ticks\":\"\",\"title\":{\"standoff\":15},\"zerolinecolor\":\"white\",\"automargin\":true,\"zerolinewidth\":2},\"yaxis\":{\"gridcolor\":\"white\",\"linecolor\":\"white\",\"ticks\":\"\",\"title\":{\"standoff\":15},\"zerolinecolor\":\"white\",\"automargin\":true,\"zerolinewidth\":2},\"scene\":{\"xaxis\":{\"backgroundcolor\":\"#E5ECF6\",\"gridcolor\":\"white\",\"linecolor\":\"white\",\"showbackground\":true,\"ticks\":\"\",\"zerolinecolor\":\"white\",\"gridwidth\":2},\"yaxis\":{\"backgroundcolor\":\"#E5ECF6\",\"gridcolor\":\"white\",\"linecolor\":\"white\",\"showbackground\":true,\"ticks\":\"\",\"zerolinecolor\":\"white\",\"gridwidth\":2},\"zaxis\":{\"backgroundcolor\":\"#E5ECF6\",\"gridcolor\":\"white\",\"linecolor\":\"white\",\"showbackground\":true,\"ticks\":\"\",\"zerolinecolor\":\"white\",\"gridwidth\":2}},\"shapedefaults\":{\"line\":{\"color\":\"#2a3f5f\"}},\"annotationdefaults\":{\"arrowcolor\":\"#2a3f5f\",\"arrowhead\":0,\"arrowwidth\":1},\"geo\":{\"bgcolor\":\"white\",\"landcolor\":\"#E5ECF6\",\"subunitcolor\":\"white\",\"showland\":true,\"showlakes\":true,\"lakecolor\":\"white\"},\"title\":{\"x\":0.05},\"mapbox\":{\"style\":\"light\"}}},\"xaxis\":{\"anchor\":\"y\",\"domain\":[0.0,1.0],\"title\":{\"text\":\"Station Index\"}},\"yaxis\":{\"anchor\":\"x\",\"domain\":[0.0,1.0],\"title\":{\"text\":\"Start/End Ratio\"}},\"legend\":{\"tracegroupgap\":0},\"title\":{\"text\":\"Start/End Ratio for Each Station\"}},                        {\"responsive\": true}                    ).then(function(){\n",
       "                            \n",
       "var gd = document.getElementById('9e75bf41-6f53-49e0-b59c-f9a4e7d190a5');\n",
       "var x = new MutationObserver(function (mutations, observer) {{\n",
       "        var display = window.getComputedStyle(gd).display;\n",
       "        if (!display || display === 'none') {{\n",
       "            console.log([gd, 'removed!']);\n",
       "            Plotly.purge(gd);\n",
       "            observer.disconnect();\n",
       "        }}\n",
       "}});\n",
       "\n",
       "// Listen for the removal of the full notebook cells\n",
       "var notebookContainer = gd.closest('#notebook-container');\n",
       "if (notebookContainer) {{\n",
       "    x.observe(notebookContainer, {childList: true});\n",
       "}}\n",
       "\n",
       "// Listen for the clearing of the current output cell\n",
       "var outputEl = gd.closest('.output');\n",
       "if (outputEl) {{\n",
       "    x.observe(outputEl, {childList: true});\n",
       "}}\n",
       "\n",
       "                        })                };                });            </script>        </div>"
      ]
     },
     "metadata": {},
     "output_type": "display_data"
    }
   ],
   "source": [
    "import pandas as pd\n",
    "import plotly.express as px\n",
    "file_path = 'station_trip_counts_with_communities.csv'\n",
    "df = pd.read_csv(file_path)\n",
    "\n",
    "# Assuming station_trip_counts is your DataFrame with the 'Start/End' column\n",
    "\n",
    "# Create the interactive scatter plot\n",
    "fig = px.scatter(\n",
    "    station_trip_counts,\n",
    "    x=range(len(station_trip_counts)),  # X-axis as the index of stations\n",
    "    y='Start/End',                      # Y-axis as the Start/End ratio\n",
    "    hover_name='Station',               # The station name will be shown on hover\n",
    "    title='Start/End Ratio for Each Station',\n",
    "    labels={'x': 'Station Index', 'Start/End': 'Start/End Ratio'},\n",
    "    hover_data={'Start Count': True, 'End Count': True, 'Total Trips': True},  # More info on hover\n",
    ")\n",
    "\n",
    "# Show the plot\n",
    "fig.show()"
   ]
  },
  {
   "cell_type": "markdown",
   "id": "6346574a-f898-4b14-892d-d9ea2b30edb7",
   "metadata": {},
   "source": [
    "Looking at communities"
   ]
  },
  {
   "cell_type": "code",
   "execution_count": 27,
   "id": "d5b5d327-7391-486e-af0a-2a8637f66e35",
   "metadata": {
    "tags": []
   },
   "outputs": [
    {
     "name": "stdout",
     "output_type": "stream",
     "text": [
      "   Community  Start Count  End Count  Total Trips  Start/End\n",
      "1          1        65483      64135       129618   1.021018\n",
      "0          0        61279      59554       120833   1.028965\n",
      "2          2        51615      53526       105141   0.964298\n",
      "3          3        33200      34362        67562   0.966184\n"
     ]
    }
   ],
   "source": [
    "import pandas as pd\n",
    "\n",
    "file_path = 'station_trip_counts_with_communities.csv'\n",
    "df = pd.read_csv(file_path)\n",
    "\n",
    "# Group by the start community and sum the trip counts\n",
    "community_trip_counts = station_trip_counts.groupby('Community').agg({\n",
    "    'Start Count': 'sum',\n",
    "    'End Count': 'sum',\n",
    "    'Total Trips': 'sum'\n",
    "}).reset_index()\n",
    "\n",
    "# Calculate the Start/End ratio for each community\n",
    "community_trip_counts['Start/End'] = community_trip_counts['Start Count'] / community_trip_counts['End Count']\n",
    "\n",
    "# Sort by total trips or Start/End ratio for analysis\n",
    "community_trip_counts_sorted = community_trip_counts.sort_values(by='Total Trips', ascending=False)\n",
    "\n",
    "# Display the community-level data\n",
    "print(community_trip_counts_sorted)\n"
   ]
  },
  {
   "cell_type": "code",
   "execution_count": 33,
   "id": "702ffcb0-c6f1-4450-96af-46f3bf4a7037",
   "metadata": {
    "tags": []
   },
   "outputs": [
    {
     "data": {
      "application/vnd.plotly.v1+json": {
       "config": {
        "plotlyServerURL": "https://plot.ly"
       },
       "data": [
        {
         "alignmentgroup": "True",
         "customdata": [
          [
           65483,
           64135,
           1.0210181648086067
          ],
          [
           61279,
           59554,
           1.028965308795379
          ],
          [
           51615,
           53526,
           0.9642977244703509
          ],
          [
           33200,
           34362,
           0.966183574879227
          ]
         ],
         "hovertemplate": "Community=%{x}<br>Total Trips=%{y}<br>Start Count=%{customdata[0]}<br>End Count=%{customdata[1]}<br>Start/End=%{customdata[2]}<extra></extra>",
         "legendgroup": "",
         "marker": {
          "color": "#636efa",
          "pattern": {
           "shape": ""
          }
         },
         "name": "",
         "offsetgroup": "",
         "orientation": "v",
         "showlegend": false,
         "textposition": "auto",
         "type": "bar",
         "x": [
          1,
          0,
          2,
          3
         ],
         "xaxis": "x",
         "y": [
          129618,
          120833,
          105141,
          67562
         ],
         "yaxis": "y"
        }
       ],
       "layout": {
        "autosize": true,
        "barmode": "relative",
        "legend": {
         "tracegroupgap": 0
        },
        "template": {
         "data": {
          "bar": [
           {
            "error_x": {
             "color": "#2a3f5f"
            },
            "error_y": {
             "color": "#2a3f5f"
            },
            "marker": {
             "line": {
              "color": "#E5ECF6",
              "width": 0.5
             },
             "pattern": {
              "fillmode": "overlay",
              "size": 10,
              "solidity": 0.2
             }
            },
            "type": "bar"
           }
          ],
          "barpolar": [
           {
            "marker": {
             "line": {
              "color": "#E5ECF6",
              "width": 0.5
             },
             "pattern": {
              "fillmode": "overlay",
              "size": 10,
              "solidity": 0.2
             }
            },
            "type": "barpolar"
           }
          ],
          "carpet": [
           {
            "aaxis": {
             "endlinecolor": "#2a3f5f",
             "gridcolor": "white",
             "linecolor": "white",
             "minorgridcolor": "white",
             "startlinecolor": "#2a3f5f"
            },
            "baxis": {
             "endlinecolor": "#2a3f5f",
             "gridcolor": "white",
             "linecolor": "white",
             "minorgridcolor": "white",
             "startlinecolor": "#2a3f5f"
            },
            "type": "carpet"
           }
          ],
          "choropleth": [
           {
            "colorbar": {
             "outlinewidth": 0,
             "ticks": ""
            },
            "type": "choropleth"
           }
          ],
          "contour": [
           {
            "colorbar": {
             "outlinewidth": 0,
             "ticks": ""
            },
            "colorscale": [
             [
              0,
              "#0d0887"
             ],
             [
              0.1111111111111111,
              "#46039f"
             ],
             [
              0.2222222222222222,
              "#7201a8"
             ],
             [
              0.3333333333333333,
              "#9c179e"
             ],
             [
              0.4444444444444444,
              "#bd3786"
             ],
             [
              0.5555555555555556,
              "#d8576b"
             ],
             [
              0.6666666666666666,
              "#ed7953"
             ],
             [
              0.7777777777777778,
              "#fb9f3a"
             ],
             [
              0.8888888888888888,
              "#fdca26"
             ],
             [
              1,
              "#f0f921"
             ]
            ],
            "type": "contour"
           }
          ],
          "contourcarpet": [
           {
            "colorbar": {
             "outlinewidth": 0,
             "ticks": ""
            },
            "type": "contourcarpet"
           }
          ],
          "heatmap": [
           {
            "colorbar": {
             "outlinewidth": 0,
             "ticks": ""
            },
            "colorscale": [
             [
              0,
              "#0d0887"
             ],
             [
              0.1111111111111111,
              "#46039f"
             ],
             [
              0.2222222222222222,
              "#7201a8"
             ],
             [
              0.3333333333333333,
              "#9c179e"
             ],
             [
              0.4444444444444444,
              "#bd3786"
             ],
             [
              0.5555555555555556,
              "#d8576b"
             ],
             [
              0.6666666666666666,
              "#ed7953"
             ],
             [
              0.7777777777777778,
              "#fb9f3a"
             ],
             [
              0.8888888888888888,
              "#fdca26"
             ],
             [
              1,
              "#f0f921"
             ]
            ],
            "type": "heatmap"
           }
          ],
          "heatmapgl": [
           {
            "colorbar": {
             "outlinewidth": 0,
             "ticks": ""
            },
            "colorscale": [
             [
              0,
              "#0d0887"
             ],
             [
              0.1111111111111111,
              "#46039f"
             ],
             [
              0.2222222222222222,
              "#7201a8"
             ],
             [
              0.3333333333333333,
              "#9c179e"
             ],
             [
              0.4444444444444444,
              "#bd3786"
             ],
             [
              0.5555555555555556,
              "#d8576b"
             ],
             [
              0.6666666666666666,
              "#ed7953"
             ],
             [
              0.7777777777777778,
              "#fb9f3a"
             ],
             [
              0.8888888888888888,
              "#fdca26"
             ],
             [
              1,
              "#f0f921"
             ]
            ],
            "type": "heatmapgl"
           }
          ],
          "histogram": [
           {
            "marker": {
             "pattern": {
              "fillmode": "overlay",
              "size": 10,
              "solidity": 0.2
             }
            },
            "type": "histogram"
           }
          ],
          "histogram2d": [
           {
            "colorbar": {
             "outlinewidth": 0,
             "ticks": ""
            },
            "colorscale": [
             [
              0,
              "#0d0887"
             ],
             [
              0.1111111111111111,
              "#46039f"
             ],
             [
              0.2222222222222222,
              "#7201a8"
             ],
             [
              0.3333333333333333,
              "#9c179e"
             ],
             [
              0.4444444444444444,
              "#bd3786"
             ],
             [
              0.5555555555555556,
              "#d8576b"
             ],
             [
              0.6666666666666666,
              "#ed7953"
             ],
             [
              0.7777777777777778,
              "#fb9f3a"
             ],
             [
              0.8888888888888888,
              "#fdca26"
             ],
             [
              1,
              "#f0f921"
             ]
            ],
            "type": "histogram2d"
           }
          ],
          "histogram2dcontour": [
           {
            "colorbar": {
             "outlinewidth": 0,
             "ticks": ""
            },
            "colorscale": [
             [
              0,
              "#0d0887"
             ],
             [
              0.1111111111111111,
              "#46039f"
             ],
             [
              0.2222222222222222,
              "#7201a8"
             ],
             [
              0.3333333333333333,
              "#9c179e"
             ],
             [
              0.4444444444444444,
              "#bd3786"
             ],
             [
              0.5555555555555556,
              "#d8576b"
             ],
             [
              0.6666666666666666,
              "#ed7953"
             ],
             [
              0.7777777777777778,
              "#fb9f3a"
             ],
             [
              0.8888888888888888,
              "#fdca26"
             ],
             [
              1,
              "#f0f921"
             ]
            ],
            "type": "histogram2dcontour"
           }
          ],
          "mesh3d": [
           {
            "colorbar": {
             "outlinewidth": 0,
             "ticks": ""
            },
            "type": "mesh3d"
           }
          ],
          "parcoords": [
           {
            "line": {
             "colorbar": {
              "outlinewidth": 0,
              "ticks": ""
             }
            },
            "type": "parcoords"
           }
          ],
          "pie": [
           {
            "automargin": true,
            "type": "pie"
           }
          ],
          "scatter": [
           {
            "fillpattern": {
             "fillmode": "overlay",
             "size": 10,
             "solidity": 0.2
            },
            "type": "scatter"
           }
          ],
          "scatter3d": [
           {
            "line": {
             "colorbar": {
              "outlinewidth": 0,
              "ticks": ""
             }
            },
            "marker": {
             "colorbar": {
              "outlinewidth": 0,
              "ticks": ""
             }
            },
            "type": "scatter3d"
           }
          ],
          "scattercarpet": [
           {
            "marker": {
             "colorbar": {
              "outlinewidth": 0,
              "ticks": ""
             }
            },
            "type": "scattercarpet"
           }
          ],
          "scattergeo": [
           {
            "marker": {
             "colorbar": {
              "outlinewidth": 0,
              "ticks": ""
             }
            },
            "type": "scattergeo"
           }
          ],
          "scattergl": [
           {
            "marker": {
             "colorbar": {
              "outlinewidth": 0,
              "ticks": ""
             }
            },
            "type": "scattergl"
           }
          ],
          "scattermapbox": [
           {
            "marker": {
             "colorbar": {
              "outlinewidth": 0,
              "ticks": ""
             }
            },
            "type": "scattermapbox"
           }
          ],
          "scatterpolar": [
           {
            "marker": {
             "colorbar": {
              "outlinewidth": 0,
              "ticks": ""
             }
            },
            "type": "scatterpolar"
           }
          ],
          "scatterpolargl": [
           {
            "marker": {
             "colorbar": {
              "outlinewidth": 0,
              "ticks": ""
             }
            },
            "type": "scatterpolargl"
           }
          ],
          "scatterternary": [
           {
            "marker": {
             "colorbar": {
              "outlinewidth": 0,
              "ticks": ""
             }
            },
            "type": "scatterternary"
           }
          ],
          "surface": [
           {
            "colorbar": {
             "outlinewidth": 0,
             "ticks": ""
            },
            "colorscale": [
             [
              0,
              "#0d0887"
             ],
             [
              0.1111111111111111,
              "#46039f"
             ],
             [
              0.2222222222222222,
              "#7201a8"
             ],
             [
              0.3333333333333333,
              "#9c179e"
             ],
             [
              0.4444444444444444,
              "#bd3786"
             ],
             [
              0.5555555555555556,
              "#d8576b"
             ],
             [
              0.6666666666666666,
              "#ed7953"
             ],
             [
              0.7777777777777778,
              "#fb9f3a"
             ],
             [
              0.8888888888888888,
              "#fdca26"
             ],
             [
              1,
              "#f0f921"
             ]
            ],
            "type": "surface"
           }
          ],
          "table": [
           {
            "cells": {
             "fill": {
              "color": "#EBF0F8"
             },
             "line": {
              "color": "white"
             }
            },
            "header": {
             "fill": {
              "color": "#C8D4E3"
             },
             "line": {
              "color": "white"
             }
            },
            "type": "table"
           }
          ]
         },
         "layout": {
          "annotationdefaults": {
           "arrowcolor": "#2a3f5f",
           "arrowhead": 0,
           "arrowwidth": 1
          },
          "autotypenumbers": "strict",
          "coloraxis": {
           "colorbar": {
            "outlinewidth": 0,
            "ticks": ""
           }
          },
          "colorscale": {
           "diverging": [
            [
             0,
             "#8e0152"
            ],
            [
             0.1,
             "#c51b7d"
            ],
            [
             0.2,
             "#de77ae"
            ],
            [
             0.3,
             "#f1b6da"
            ],
            [
             0.4,
             "#fde0ef"
            ],
            [
             0.5,
             "#f7f7f7"
            ],
            [
             0.6,
             "#e6f5d0"
            ],
            [
             0.7,
             "#b8e186"
            ],
            [
             0.8,
             "#7fbc41"
            ],
            [
             0.9,
             "#4d9221"
            ],
            [
             1,
             "#276419"
            ]
           ],
           "sequential": [
            [
             0,
             "#0d0887"
            ],
            [
             0.1111111111111111,
             "#46039f"
            ],
            [
             0.2222222222222222,
             "#7201a8"
            ],
            [
             0.3333333333333333,
             "#9c179e"
            ],
            [
             0.4444444444444444,
             "#bd3786"
            ],
            [
             0.5555555555555556,
             "#d8576b"
            ],
            [
             0.6666666666666666,
             "#ed7953"
            ],
            [
             0.7777777777777778,
             "#fb9f3a"
            ],
            [
             0.8888888888888888,
             "#fdca26"
            ],
            [
             1,
             "#f0f921"
            ]
           ],
           "sequentialminus": [
            [
             0,
             "#0d0887"
            ],
            [
             0.1111111111111111,
             "#46039f"
            ],
            [
             0.2222222222222222,
             "#7201a8"
            ],
            [
             0.3333333333333333,
             "#9c179e"
            ],
            [
             0.4444444444444444,
             "#bd3786"
            ],
            [
             0.5555555555555556,
             "#d8576b"
            ],
            [
             0.6666666666666666,
             "#ed7953"
            ],
            [
             0.7777777777777778,
             "#fb9f3a"
            ],
            [
             0.8888888888888888,
             "#fdca26"
            ],
            [
             1,
             "#f0f921"
            ]
           ]
          },
          "colorway": [
           "#636efa",
           "#EF553B",
           "#00cc96",
           "#ab63fa",
           "#FFA15A",
           "#19d3f3",
           "#FF6692",
           "#B6E880",
           "#FF97FF",
           "#FECB52"
          ],
          "font": {
           "color": "#2a3f5f"
          },
          "geo": {
           "bgcolor": "white",
           "lakecolor": "white",
           "landcolor": "#E5ECF6",
           "showlakes": true,
           "showland": true,
           "subunitcolor": "white"
          },
          "hoverlabel": {
           "align": "left"
          },
          "hovermode": "closest",
          "mapbox": {
           "style": "light"
          },
          "paper_bgcolor": "white",
          "plot_bgcolor": "#E5ECF6",
          "polar": {
           "angularaxis": {
            "gridcolor": "white",
            "linecolor": "white",
            "ticks": ""
           },
           "bgcolor": "#E5ECF6",
           "radialaxis": {
            "gridcolor": "white",
            "linecolor": "white",
            "ticks": ""
           }
          },
          "scene": {
           "xaxis": {
            "backgroundcolor": "#E5ECF6",
            "gridcolor": "white",
            "gridwidth": 2,
            "linecolor": "white",
            "showbackground": true,
            "ticks": "",
            "zerolinecolor": "white"
           },
           "yaxis": {
            "backgroundcolor": "#E5ECF6",
            "gridcolor": "white",
            "gridwidth": 2,
            "linecolor": "white",
            "showbackground": true,
            "ticks": "",
            "zerolinecolor": "white"
           },
           "zaxis": {
            "backgroundcolor": "#E5ECF6",
            "gridcolor": "white",
            "gridwidth": 2,
            "linecolor": "white",
            "showbackground": true,
            "ticks": "",
            "zerolinecolor": "white"
           }
          },
          "shapedefaults": {
           "line": {
            "color": "#2a3f5f"
           }
          },
          "ternary": {
           "aaxis": {
            "gridcolor": "white",
            "linecolor": "white",
            "ticks": ""
           },
           "baxis": {
            "gridcolor": "white",
            "linecolor": "white",
            "ticks": ""
           },
           "bgcolor": "#E5ECF6",
           "caxis": {
            "gridcolor": "white",
            "linecolor": "white",
            "ticks": ""
           }
          },
          "title": {
           "x": 0.05
          },
          "xaxis": {
           "automargin": true,
           "gridcolor": "white",
           "linecolor": "white",
           "ticks": "",
           "title": {
            "standoff": 15
           },
           "zerolinecolor": "white",
           "zerolinewidth": 2
          },
          "yaxis": {
           "automargin": true,
           "gridcolor": "white",
           "linecolor": "white",
           "ticks": "",
           "title": {
            "standoff": 15
           },
           "zerolinecolor": "white",
           "zerolinewidth": 2
          }
         }
        },
        "title": {
         "text": "Total Trips by Community"
        },
        "xaxis": {
         "anchor": "y",
         "autorange": true,
         "domain": [
          0,
          1
         ],
         "range": [
          -0.5,
          3.5
         ],
         "title": {
          "text": "Community"
         },
         "type": "linear"
        },
        "yaxis": {
         "anchor": "x",
         "autorange": true,
         "domain": [
          0,
          1
         ],
         "range": [
          0,
          136440
         ],
         "title": {
          "text": "Total Trips"
         },
         "type": "linear"
        }
       }
      },
      "image/png": "[encoded data removed]",
      "text/html": [
       "<div>                            <div id=\"8479187a-e258-436e-9cab-84f15e3940a7\" class=\"plotly-graph-div\" style=\"height:525px; width:100%;\"></div>            <script type=\"text/javascript\">                require([\"plotly\"], function(Plotly) {                    window.PLOTLYENV=window.PLOTLYENV || {};                                    if (document.getElementById(\"8479187a-e258-436e-9cab-84f15e3940a7\")) {                    Plotly.newPlot(                        \"8479187a-e258-436e-9cab-84f15e3940a7\",                        [{\"alignmentgroup\":\"True\",\"customdata\":[[65483.0,64135.0,1.0210181648086067],[61279.0,59554.0,1.028965308795379],[51615.0,53526.0,0.9642977244703509],[33200.0,34362.0,0.966183574879227]],\"hovertemplate\":\"Community=%{x}<br>Total Trips=%{y}<br>Start Count=%{customdata[0]}<br>End Count=%{customdata[1]}<br>Start/End=%{customdata[2]}<extra></extra>\",\"legendgroup\":\"\",\"marker\":{\"color\":\"#636efa\",\"pattern\":{\"shape\":\"\"}},\"name\":\"\",\"offsetgroup\":\"\",\"orientation\":\"v\",\"showlegend\":false,\"textposition\":\"auto\",\"x\":[1,0,2,3],\"xaxis\":\"x\",\"y\":[129618,120833,105141,67562],\"yaxis\":\"y\",\"type\":\"bar\"}],                        {\"template\":{\"data\":{\"histogram2dcontour\":[{\"type\":\"histogram2dcontour\",\"colorbar\":{\"outlinewidth\":0,\"ticks\":\"\"},\"colorscale\":[[0.0,\"#0d0887\"],[0.1111111111111111,\"#46039f\"],[0.2222222222222222,\"#7201a8\"],[0.3333333333333333,\"#9c179e\"],[0.4444444444444444,\"#bd3786\"],[0.5555555555555556,\"#d8576b\"],[0.6666666666666666,\"#ed7953\"],[0.7777777777777778,\"#fb9f3a\"],[0.8888888888888888,\"#fdca26\"],[1.0,\"#f0f921\"]]}],\"choropleth\":[{\"type\":\"choropleth\",\"colorbar\":{\"outlinewidth\":0,\"ticks\":\"\"}}],\"histogram2d\":[{\"type\":\"histogram2d\",\"colorbar\":{\"outlinewidth\":0,\"ticks\":\"\"},\"colorscale\":[[0.0,\"#0d0887\"],[0.1111111111111111,\"#46039f\"],[0.2222222222222222,\"#7201a8\"],[0.3333333333333333,\"#9c179e\"],[0.4444444444444444,\"#bd3786\"],[0.5555555555555556,\"#d8576b\"],[0.6666666666666666,\"#ed7953\"],[0.7777777777777778,\"#fb9f3a\"],[0.8888888888888888,\"#fdca26\"],[1.0,\"#f0f921\"]]}],\"heatmap\":[{\"type\":\"heatmap\",\"colorbar\":{\"outlinewidth\":0,\"ticks\":\"\"},\"colorscale\":[[0.0,\"#0d0887\"],[0.1111111111111111,\"#46039f\"],[0.2222222222222222,\"#7201a8\"],[0.3333333333333333,\"#9c179e\"],[0.4444444444444444,\"#bd3786\"],[0.5555555555555556,\"#d8576b\"],[0.6666666666666666,\"#ed7953\"],[0.7777777777777778,\"#fb9f3a\"],[0.8888888888888888,\"#fdca26\"],[1.0,\"#f0f921\"]]}],\"heatmapgl\":[{\"type\":\"heatmapgl\",\"colorbar\":{\"outlinewidth\":0,\"ticks\":\"\"},\"colorscale\":[[0.0,\"#0d0887\"],[0.1111111111111111,\"#46039f\"],[0.2222222222222222,\"#7201a8\"],[0.3333333333333333,\"#9c179e\"],[0.4444444444444444,\"#bd3786\"],[0.5555555555555556,\"#d8576b\"],[0.6666666666666666,\"#ed7953\"],[0.7777777777777778,\"#fb9f3a\"],[0.8888888888888888,\"#fdca26\"],[1.0,\"#f0f921\"]]}],\"contourcarpet\":[{\"type\":\"contourcarpet\",\"colorbar\":{\"outlinewidth\":0,\"ticks\":\"\"}}],\"contour\":[{\"type\":\"contour\",\"colorbar\":{\"outlinewidth\":0,\"ticks\":\"\"},\"colorscale\":[[0.0,\"#0d0887\"],[0.1111111111111111,\"#46039f\"],[0.2222222222222222,\"#7201a8\"],[0.3333333333333333,\"#9c179e\"],[0.4444444444444444,\"#bd3786\"],[0.5555555555555556,\"#d8576b\"],[0.6666666666666666,\"#ed7953\"],[0.7777777777777778,\"#fb9f3a\"],[0.8888888888888888,\"#fdca26\"],[1.0,\"#f0f921\"]]}],\"surface\":[{\"type\":\"surface\",\"colorbar\":{\"outlinewidth\":0,\"ticks\":\"\"},\"colorscale\":[[0.0,\"#0d0887\"],[0.1111111111111111,\"#46039f\"],[0.2222222222222222,\"#7201a8\"],[0.3333333333333333,\"#9c179e\"],[0.4444444444444444,\"#bd3786\"],[0.5555555555555556,\"#d8576b\"],[0.6666666666666666,\"#ed7953\"],[0.7777777777777778,\"#fb9f3a\"],[0.8888888888888888,\"#fdca26\"],[1.0,\"#f0f921\"]]}],\"mesh3d\":[{\"type\":\"mesh3d\",\"colorbar\":{\"outlinewidth\":0,\"ticks\":\"\"}}],\"scatter\":[{\"fillpattern\":{\"fillmode\":\"overlay\",\"size\":10,\"solidity\":0.2},\"type\":\"scatter\"}],\"parcoords\":[{\"type\":\"parcoords\",\"line\":{\"colorbar\":{\"outlinewidth\":0,\"ticks\":\"\"}}}],\"scatterpolargl\":[{\"type\":\"scatterpolargl\",\"marker\":{\"colorbar\":{\"outlinewidth\":0,\"ticks\":\"\"}}}],\"bar\":[{\"error_x\":{\"color\":\"#2a3f5f\"},\"error_y\":{\"color\":\"#2a3f5f\"},\"marker\":{\"line\":{\"color\":\"#E5ECF6\",\"width\":0.5},\"pattern\":{\"fillmode\":\"overlay\",\"size\":10,\"solidity\":0.2}},\"type\":\"bar\"}],\"scattergeo\":[{\"type\":\"scattergeo\",\"marker\":{\"colorbar\":{\"outlinewidth\":0,\"ticks\":\"\"}}}],\"scatterpolar\":[{\"type\":\"scatterpolar\",\"marker\":{\"colorbar\":{\"outlinewidth\":0,\"ticks\":\"\"}}}],\"histogram\":[{\"marker\":{\"pattern\":{\"fillmode\":\"overlay\",\"size\":10,\"solidity\":0.2}},\"type\":\"histogram\"}],\"scattergl\":[{\"type\":\"scattergl\",\"marker\":{\"colorbar\":{\"outlinewidth\":0,\"ticks\":\"\"}}}],\"scatter3d\":[{\"type\":\"scatter3d\",\"line\":{\"colorbar\":{\"outlinewidth\":0,\"ticks\":\"\"}},\"marker\":{\"colorbar\":{\"outlinewidth\":0,\"ticks\":\"\"}}}],\"scattermapbox\":[{\"type\":\"scattermapbox\",\"marker\":{\"colorbar\":{\"outlinewidth\":0,\"ticks\":\"\"}}}],\"scatterternary\":[{\"type\":\"scatterternary\",\"marker\":{\"colorbar\":{\"outlinewidth\":0,\"ticks\":\"\"}}}],\"scattercarpet\":[{\"type\":\"scattercarpet\",\"marker\":{\"colorbar\":{\"outlinewidth\":0,\"ticks\":\"\"}}}],\"carpet\":[{\"aaxis\":{\"endlinecolor\":\"#2a3f5f\",\"gridcolor\":\"white\",\"linecolor\":\"white\",\"minorgridcolor\":\"white\",\"startlinecolor\":\"#2a3f5f\"},\"baxis\":{\"endlinecolor\":\"#2a3f5f\",\"gridcolor\":\"white\",\"linecolor\":\"white\",\"minorgridcolor\":\"white\",\"startlinecolor\":\"#2a3f5f\"},\"type\":\"carpet\"}],\"table\":[{\"cells\":{\"fill\":{\"color\":\"#EBF0F8\"},\"line\":{\"color\":\"white\"}},\"header\":{\"fill\":{\"color\":\"#C8D4E3\"},\"line\":{\"color\":\"white\"}},\"type\":\"table\"}],\"barpolar\":[{\"marker\":{\"line\":{\"color\":\"#E5ECF6\",\"width\":0.5},\"pattern\":{\"fillmode\":\"overlay\",\"size\":10,\"solidity\":0.2}},\"type\":\"barpolar\"}],\"pie\":[{\"automargin\":true,\"type\":\"pie\"}]},\"layout\":{\"autotypenumbers\":\"strict\",\"colorway\":[\"#636efa\",\"#EF553B\",\"#00cc96\",\"#ab63fa\",\"#FFA15A\",\"#19d3f3\",\"#FF6692\",\"#B6E880\",\"#FF97FF\",\"#FECB52\"],\"font\":{\"color\":\"#2a3f5f\"},\"hovermode\":\"closest\",\"hoverlabel\":{\"align\":\"left\"},\"paper_bgcolor\":\"white\",\"plot_bgcolor\":\"#E5ECF6\",\"polar\":{\"bgcolor\":\"#E5ECF6\",\"angularaxis\":{\"gridcolor\":\"white\",\"linecolor\":\"white\",\"ticks\":\"\"},\"radialaxis\":{\"gridcolor\":\"white\",\"linecolor\":\"white\",\"ticks\":\"\"}},\"ternary\":{\"bgcolor\":\"#E5ECF6\",\"aaxis\":{\"gridcolor\":\"white\",\"linecolor\":\"white\",\"ticks\":\"\"},\"baxis\":{\"gridcolor\":\"white\",\"linecolor\":\"white\",\"ticks\":\"\"},\"caxis\":{\"gridcolor\":\"white\",\"linecolor\":\"white\",\"ticks\":\"\"}},\"coloraxis\":{\"colorbar\":{\"outlinewidth\":0,\"ticks\":\"\"}},\"colorscale\":{\"sequential\":[[0.0,\"#0d0887\"],[0.1111111111111111,\"#46039f\"],[0.2222222222222222,\"#7201a8\"],[0.3333333333333333,\"#9c179e\"],[0.4444444444444444,\"#bd3786\"],[0.5555555555555556,\"#d8576b\"],[0.6666666666666666,\"#ed7953\"],[0.7777777777777778,\"#fb9f3a\"],[0.8888888888888888,\"#fdca26\"],[1.0,\"#f0f921\"]],\"sequentialminus\":[[0.0,\"#0d0887\"],[0.1111111111111111,\"#46039f\"],[0.2222222222222222,\"#7201a8\"],[0.3333333333333333,\"#9c179e\"],[0.4444444444444444,\"#bd3786\"],[0.5555555555555556,\"#d8576b\"],[0.6666666666666666,\"#ed7953\"],[0.7777777777777778,\"#fb9f3a\"],[0.8888888888888888,\"#fdca26\"],[1.0,\"#f0f921\"]],\"diverging\":[[0,\"#8e0152\"],[0.1,\"#c51b7d\"],[0.2,\"#de77ae\"],[0.3,\"#f1b6da\"],[0.4,\"#fde0ef\"],[0.5,\"#f7f7f7\"],[0.6,\"#e6f5d0\"],[0.7,\"#b8e186\"],[0.8,\"#7fbc41\"],[0.9,\"#4d9221\"],[1,\"#276419\"]]},\"xaxis\":{\"gridcolor\":\"white\",\"linecolor\":\"white\",\"ticks\":\"\",\"title\":{\"standoff\":15},\"zerolinecolor\":\"white\",\"automargin\":true,\"zerolinewidth\":2},\"yaxis\":{\"gridcolor\":\"white\",\"linecolor\":\"white\",\"ticks\":\"\",\"title\":{\"standoff\":15},\"zerolinecolor\":\"white\",\"automargin\":true,\"zerolinewidth\":2},\"scene\":{\"xaxis\":{\"backgroundcolor\":\"#E5ECF6\",\"gridcolor\":\"white\",\"linecolor\":\"white\",\"showbackground\":true,\"ticks\":\"\",\"zerolinecolor\":\"white\",\"gridwidth\":2},\"yaxis\":{\"backgroundcolor\":\"#E5ECF6\",\"gridcolor\":\"white\",\"linecolor\":\"white\",\"showbackground\":true,\"ticks\":\"\",\"zerolinecolor\":\"white\",\"gridwidth\":2},\"zaxis\":{\"backgroundcolor\":\"#E5ECF6\",\"gridcolor\":\"white\",\"linecolor\":\"white\",\"showbackground\":true,\"ticks\":\"\",\"zerolinecolor\":\"white\",\"gridwidth\":2}},\"shapedefaults\":{\"line\":{\"color\":\"#2a3f5f\"}},\"annotationdefaults\":{\"arrowcolor\":\"#2a3f5f\",\"arrowhead\":0,\"arrowwidth\":1},\"geo\":{\"bgcolor\":\"white\",\"landcolor\":\"#E5ECF6\",\"subunitcolor\":\"white\",\"showland\":true,\"showlakes\":true,\"lakecolor\":\"white\"},\"title\":{\"x\":0.05},\"mapbox\":{\"style\":\"light\"}}},\"xaxis\":{\"anchor\":\"y\",\"domain\":[0.0,1.0],\"title\":{\"text\":\"Community\"}},\"yaxis\":{\"anchor\":\"x\",\"domain\":[0.0,1.0],\"title\":{\"text\":\"Total Trips\"}},\"legend\":{\"tracegroupgap\":0},\"title\":{\"text\":\"Total Trips by Community\"},\"barmode\":\"relative\"},                        {\"responsive\": true}                    ).then(function(){\n",
       "                            \n",
       "var gd = document.getElementById('8479187a-e258-436e-9cab-84f15e3940a7');\n",
       "var x = new MutationObserver(function (mutations, observer) {{\n",
       "        var display = window.getComputedStyle(gd).display;\n",
       "        if (!display || display === 'none') {{\n",
       "            console.log([gd, 'removed!']);\n",
       "            Plotly.purge(gd);\n",
       "            observer.disconnect();\n",
       "        }}\n",
       "}});\n",
       "\n",
       "// Listen for the removal of the full notebook cells\n",
       "var notebookContainer = gd.closest('#notebook-container');\n",
       "if (notebookContainer) {{\n",
       "    x.observe(notebookContainer, {childList: true});\n",
       "}}\n",
       "\n",
       "// Listen for the clearing of the current output cell\n",
       "var outputEl = gd.closest('.output');\n",
       "if (outputEl) {{\n",
       "    x.observe(outputEl, {childList: true});\n",
       "}}\n",
       "\n",
       "                        })                };                });            </script>        </div>"
      ]
     },
     "metadata": {},
     "output_type": "display_data"
    },
    {
     "data": {
      "application/vnd.plotly.v1+json": {
       "config": {
        "plotlyServerURL": "https://plot.ly"
       },
       "data": [
        {
         "alignmentgroup": "True",
         "customdata": [
          [
           65483,
           64135,
           129618
          ],
          [
           61279,
           59554,
           120833
          ],
          [
           51615,
           53526,
           105141
          ],
          [
           33200,
           34362,
           67562
          ]
         ],
         "hovertemplate": "Community=%{x}<br>Start/End Ratio=%{y}<br>Start Count=%{customdata[0]}<br>End Count=%{customdata[1]}<br>Total Trips=%{customdata[2]}<extra></extra>",
         "legendgroup": "",
         "marker": {
          "color": "#636efa",
          "pattern": {
           "shape": ""
          }
         },
         "name": "",
         "offsetgroup": "",
         "orientation": "v",
         "showlegend": false,
         "textposition": "auto",
         "type": "bar",
         "x": [
          1,
          0,
          2,
          3
         ],
         "xaxis": "x",
         "y": [
          1.0210181648086067,
          1.028965308795379,
          0.9642977244703509,
          0.966183574879227
         ],
         "yaxis": "y"
        }
       ],
       "layout": {
        "autosize": true,
        "barmode": "relative",
        "legend": {
         "tracegroupgap": 0
        },
        "template": {
         "data": {
          "bar": [
           {
            "error_x": {
             "color": "#2a3f5f"
            },
            "error_y": {
             "color": "#2a3f5f"
            },
            "marker": {
             "line": {
              "color": "#E5ECF6",
              "width": 0.5
             },
             "pattern": {
              "fillmode": "overlay",
              "size": 10,
              "solidity": 0.2
             }
            },
            "type": "bar"
           }
          ],
          "barpolar": [
           {
            "marker": {
             "line": {
              "color": "#E5ECF6",
              "width": 0.5
             },
             "pattern": {
              "fillmode": "overlay",
              "size": 10,
              "solidity": 0.2
             }
            },
            "type": "barpolar"
           }
          ],
          "carpet": [
           {
            "aaxis": {
             "endlinecolor": "#2a3f5f",
             "gridcolor": "white",
             "linecolor": "white",
             "minorgridcolor": "white",
             "startlinecolor": "#2a3f5f"
            },
            "baxis": {
             "endlinecolor": "#2a3f5f",
             "gridcolor": "white",
             "linecolor": "white",
             "minorgridcolor": "white",
             "startlinecolor": "#2a3f5f"
            },
            "type": "carpet"
           }
          ],
          "choropleth": [
           {
            "colorbar": {
             "outlinewidth": 0,
             "ticks": ""
            },
            "type": "choropleth"
           }
          ],
          "contour": [
           {
            "colorbar": {
             "outlinewidth": 0,
             "ticks": ""
            },
            "colorscale": [
             [
              0,
              "#0d0887"
             ],
             [
              0.1111111111111111,
              "#46039f"
             ],
             [
              0.2222222222222222,
              "#7201a8"
             ],
             [
              0.3333333333333333,
              "#9c179e"
             ],
             [
              0.4444444444444444,
              "#bd3786"
             ],
             [
              0.5555555555555556,
              "#d8576b"
             ],
             [
              0.6666666666666666,
              "#ed7953"
             ],
             [
              0.7777777777777778,
              "#fb9f3a"
             ],
             [
              0.8888888888888888,
              "#fdca26"
             ],
             [
              1,
              "#f0f921"
             ]
            ],
            "type": "contour"
           }
          ],
          "contourcarpet": [
           {
            "colorbar": {
             "outlinewidth": 0,
             "ticks": ""
            },
            "type": "contourcarpet"
           }
          ],
          "heatmap": [
           {
            "colorbar": {
             "outlinewidth": 0,
             "ticks": ""
            },
            "colorscale": [
             [
              0,
              "#0d0887"
             ],
             [
              0.1111111111111111,
              "#46039f"
             ],
             [
              0.2222222222222222,
              "#7201a8"
             ],
             [
              0.3333333333333333,
              "#9c179e"
             ],
             [
              0.4444444444444444,
              "#bd3786"
             ],
             [
              0.5555555555555556,
              "#d8576b"
             ],
             [
              0.6666666666666666,
              "#ed7953"
             ],
             [
              0.7777777777777778,
              "#fb9f3a"
             ],
             [
              0.8888888888888888,
              "#fdca26"
             ],
             [
              1,
              "#f0f921"
             ]
            ],
            "type": "heatmap"
           }
          ],
          "heatmapgl": [
           {
            "colorbar": {
             "outlinewidth": 0,
             "ticks": ""
            },
            "colorscale": [
             [
              0,
              "#0d0887"
             ],
             [
              0.1111111111111111,
              "#46039f"
             ],
             [
              0.2222222222222222,
              "#7201a8"
             ],
             [
              0.3333333333333333,
              "#9c179e"
             ],
             [
              0.4444444444444444,
              "#bd3786"
             ],
             [
              0.5555555555555556,
              "#d8576b"
             ],
             [
              0.6666666666666666,
              "#ed7953"
             ],
             [
              0.7777777777777778,
              "#fb9f3a"
             ],
             [
              0.8888888888888888,
              "#fdca26"
             ],
             [
              1,
              "#f0f921"
             ]
            ],
            "type": "heatmapgl"
           }
          ],
          "histogram": [
           {
            "marker": {
             "pattern": {
              "fillmode": "overlay",
              "size": 10,
              "solidity": 0.2
             }
            },
            "type": "histogram"
           }
          ],
          "histogram2d": [
           {
            "colorbar": {
             "outlinewidth": 0,
             "ticks": ""
            },
            "colorscale": [
             [
              0,
              "#0d0887"
             ],
             [
              0.1111111111111111,
              "#46039f"
             ],
             [
              0.2222222222222222,
              "#7201a8"
             ],
             [
              0.3333333333333333,
              "#9c179e"
             ],
             [
              0.4444444444444444,
              "#bd3786"
             ],
             [
              0.5555555555555556,
              "#d8576b"
             ],
             [
              0.6666666666666666,
              "#ed7953"
             ],
             [
              0.7777777777777778,
              "#fb9f3a"
             ],
             [
              0.8888888888888888,
              "#fdca26"
             ],
             [
              1,
              "#f0f921"
             ]
            ],
            "type": "histogram2d"
           }
          ],
          "histogram2dcontour": [
           {
            "colorbar": {
             "outlinewidth": 0,
             "ticks": ""
            },
            "colorscale": [
             [
              0,
              "#0d0887"
             ],
             [
              0.1111111111111111,
              "#46039f"
             ],
             [
              0.2222222222222222,
              "#7201a8"
             ],
             [
              0.3333333333333333,
              "#9c179e"
             ],
             [
              0.4444444444444444,
              "#bd3786"
             ],
             [
              0.5555555555555556,
              "#d8576b"
             ],
             [
              0.6666666666666666,
              "#ed7953"
             ],
             [
              0.7777777777777778,
              "#fb9f3a"
             ],
             [
              0.8888888888888888,
              "#fdca26"
             ],
             [
              1,
              "#f0f921"
             ]
            ],
            "type": "histogram2dcontour"
           }
          ],
          "mesh3d": [
           {
            "colorbar": {
             "outlinewidth": 0,
             "ticks": ""
            },
            "type": "mesh3d"
           }
          ],
          "parcoords": [
           {
            "line": {
             "colorbar": {
              "outlinewidth": 0,
              "ticks": ""
             }
            },
            "type": "parcoords"
           }
          ],
          "pie": [
           {
            "automargin": true,
            "type": "pie"
           }
          ],
          "scatter": [
           {
            "fillpattern": {
             "fillmode": "overlay",
             "size": 10,
             "solidity": 0.2
            },
            "type": "scatter"
           }
          ],
          "scatter3d": [
           {
            "line": {
             "colorbar": {
              "outlinewidth": 0,
              "ticks": ""
             }
            },
            "marker": {
             "colorbar": {
              "outlinewidth": 0,
              "ticks": ""
             }
            },
            "type": "scatter3d"
           }
          ],
          "scattercarpet": [
           {
            "marker": {
             "colorbar": {
              "outlinewidth": 0,
              "ticks": ""
             }
            },
            "type": "scattercarpet"
           }
          ],
          "scattergeo": [
           {
            "marker": {
             "colorbar": {
              "outlinewidth": 0,
              "ticks": ""
             }
            },
            "type": "scattergeo"
           }
          ],
          "scattergl": [
           {
            "marker": {
             "colorbar": {
              "outlinewidth": 0,
              "ticks": ""
             }
            },
            "type": "scattergl"
           }
          ],
          "scattermapbox": [
           {
            "marker": {
             "colorbar": {
              "outlinewidth": 0,
              "ticks": ""
             }
            },
            "type": "scattermapbox"
           }
          ],
          "scatterpolar": [
           {
            "marker": {
             "colorbar": {
              "outlinewidth": 0,
              "ticks": ""
             }
            },
            "type": "scatterpolar"
           }
          ],
          "scatterpolargl": [
           {
            "marker": {
             "colorbar": {
              "outlinewidth": 0,
              "ticks": ""
             }
            },
            "type": "scatterpolargl"
           }
          ],
          "scatterternary": [
           {
            "marker": {
             "colorbar": {
              "outlinewidth": 0,
              "ticks": ""
             }
            },
            "type": "scatterternary"
           }
          ],
          "surface": [
           {
            "colorbar": {
             "outlinewidth": 0,
             "ticks": ""
            },
            "colorscale": [
             [
              0,
              "#0d0887"
             ],
             [
              0.1111111111111111,
              "#46039f"
             ],
             [
              0.2222222222222222,
              "#7201a8"
             ],
             [
              0.3333333333333333,
              "#9c179e"
             ],
             [
              0.4444444444444444,
              "#bd3786"
             ],
             [
              0.5555555555555556,
              "#d8576b"
             ],
             [
              0.6666666666666666,
              "#ed7953"
             ],
             [
              0.7777777777777778,
              "#fb9f3a"
             ],
             [
              0.8888888888888888,
              "#fdca26"
             ],
             [
              1,
              "#f0f921"
             ]
            ],
            "type": "surface"
           }
          ],
          "table": [
           {
            "cells": {
             "fill": {
              "color": "#EBF0F8"
             },
             "line": {
              "color": "white"
             }
            },
            "header": {
             "fill": {
              "color": "#C8D4E3"
             },
             "line": {
              "color": "white"
             }
            },
            "type": "table"
           }
          ]
         },
         "layout": {
          "annotationdefaults": {
           "arrowcolor": "#2a3f5f",
           "arrowhead": 0,
           "arrowwidth": 1
          },
          "autotypenumbers": "strict",
          "coloraxis": {
           "colorbar": {
            "outlinewidth": 0,
            "ticks": ""
           }
          },
          "colorscale": {
           "diverging": [
            [
             0,
             "#8e0152"
            ],
            [
             0.1,
             "#c51b7d"
            ],
            [
             0.2,
             "#de77ae"
            ],
            [
             0.3,
             "#f1b6da"
            ],
            [
             0.4,
             "#fde0ef"
            ],
            [
             0.5,
             "#f7f7f7"
            ],
            [
             0.6,
             "#e6f5d0"
            ],
            [
             0.7,
             "#b8e186"
            ],
            [
             0.8,
             "#7fbc41"
            ],
            [
             0.9,
             "#4d9221"
            ],
            [
             1,
             "#276419"
            ]
           ],
           "sequential": [
            [
             0,
             "#0d0887"
            ],
            [
             0.1111111111111111,
             "#46039f"
            ],
            [
             0.2222222222222222,
             "#7201a8"
            ],
            [
             0.3333333333333333,
             "#9c179e"
            ],
            [
             0.4444444444444444,
             "#bd3786"
            ],
            [
             0.5555555555555556,
             "#d8576b"
            ],
            [
             0.6666666666666666,
             "#ed7953"
            ],
            [
             0.7777777777777778,
             "#fb9f3a"
            ],
            [
             0.8888888888888888,
             "#fdca26"
            ],
            [
             1,
             "#f0f921"
            ]
           ],
           "sequentialminus": [
            [
             0,
             "#0d0887"
            ],
            [
             0.1111111111111111,
             "#46039f"
            ],
            [
             0.2222222222222222,
             "#7201a8"
            ],
            [
             0.3333333333333333,
             "#9c179e"
            ],
            [
             0.4444444444444444,
             "#bd3786"
            ],
            [
             0.5555555555555556,
             "#d8576b"
            ],
            [
             0.6666666666666666,
             "#ed7953"
            ],
            [
             0.7777777777777778,
             "#fb9f3a"
            ],
            [
             0.8888888888888888,
             "#fdca26"
            ],
            [
             1,
             "#f0f921"
            ]
           ]
          },
          "colorway": [
           "#636efa",
           "#EF553B",
           "#00cc96",
           "#ab63fa",
           "#FFA15A",
           "#19d3f3",
           "#FF6692",
           "#B6E880",
           "#FF97FF",
           "#FECB52"
          ],
          "font": {
           "color": "#2a3f5f"
          },
          "geo": {
           "bgcolor": "white",
           "lakecolor": "white",
           "landcolor": "#E5ECF6",
           "showlakes": true,
           "showland": true,
           "subunitcolor": "white"
          },
          "hoverlabel": {
           "align": "left"
          },
          "hovermode": "closest",
          "mapbox": {
           "style": "light"
          },
          "paper_bgcolor": "white",
          "plot_bgcolor": "#E5ECF6",
          "polar": {
           "angularaxis": {
            "gridcolor": "white",
            "linecolor": "white",
            "ticks": ""
           },
           "bgcolor": "#E5ECF6",
           "radialaxis": {
            "gridcolor": "white",
            "linecolor": "white",
            "ticks": ""
           }
          },
          "scene": {
           "xaxis": {
            "backgroundcolor": "#E5ECF6",
            "gridcolor": "white",
            "gridwidth": 2,
            "linecolor": "white",
            "showbackground": true,
            "ticks": "",
            "zerolinecolor": "white"
           },
           "yaxis": {
            "backgroundcolor": "#E5ECF6",
            "gridcolor": "white",
            "gridwidth": 2,
            "linecolor": "white",
            "showbackground": true,
            "ticks": "",
            "zerolinecolor": "white"
           },
           "zaxis": {
            "backgroundcolor": "#E5ECF6",
            "gridcolor": "white",
            "gridwidth": 2,
            "linecolor": "white",
            "showbackground": true,
            "ticks": "",
            "zerolinecolor": "white"
           }
          },
          "shapedefaults": {
           "line": {
            "color": "#2a3f5f"
           }
          },
          "ternary": {
           "aaxis": {
            "gridcolor": "white",
            "linecolor": "white",
            "ticks": ""
           },
           "baxis": {
            "gridcolor": "white",
            "linecolor": "white",
            "ticks": ""
           },
           "bgcolor": "#E5ECF6",
           "caxis": {
            "gridcolor": "white",
            "linecolor": "white",
            "ticks": ""
           }
          },
          "title": {
           "x": 0.05
          },
          "xaxis": {
           "automargin": true,
           "gridcolor": "white",
           "linecolor": "white",
           "ticks": "",
           "title": {
            "standoff": 15
           },
           "zerolinecolor": "white",
           "zerolinewidth": 2
          },
          "yaxis": {
           "automargin": true,
           "gridcolor": "white",
           "linecolor": "white",
           "ticks": "",
           "title": {
            "standoff": 15
           },
           "zerolinecolor": "white",
           "zerolinewidth": 2
          }
         }
        },
        "title": {
         "text": "Start/End Ratio by Community"
        },
        "xaxis": {
         "anchor": "y",
         "autorange": true,
         "domain": [
          0,
          1
         ],
         "range": [
          -0.5,
          3.5
         ],
         "title": {
          "text": "Community"
         },
         "type": "linear"
        },
        "yaxis": {
         "anchor": "x",
         "autorange": true,
         "domain": [
          0,
          1
         ],
         "range": [
          0,
          1.0831213776793462
         ],
         "title": {
          "text": "Start/End Ratio"
         },
         "type": "linear"
        }
       }
      },
      "image/png": "[encoded data removed]",
      "text/html": [
       "<div>                            <div id=\"fd99ca04-a142-4b2e-8524-b1ca569d27d5\" class=\"plotly-graph-div\" style=\"height:525px; width:100%;\"></div>            <script type=\"text/javascript\">                require([\"plotly\"], function(Plotly) {                    window.PLOTLYENV=window.PLOTLYENV || {};                                    if (document.getElementById(\"fd99ca04-a142-4b2e-8524-b1ca569d27d5\")) {                    Plotly.newPlot(                        \"fd99ca04-a142-4b2e-8524-b1ca569d27d5\",                        [{\"alignmentgroup\":\"True\",\"customdata\":[[65483,64135,129618],[61279,59554,120833],[51615,53526,105141],[33200,34362,67562]],\"hovertemplate\":\"Community=%{x}<br>Start/End Ratio=%{y}<br>Start Count=%{customdata[0]}<br>End Count=%{customdata[1]}<br>Total Trips=%{customdata[2]}<extra></extra>\",\"legendgroup\":\"\",\"marker\":{\"color\":\"#636efa\",\"pattern\":{\"shape\":\"\"}},\"name\":\"\",\"offsetgroup\":\"\",\"orientation\":\"v\",\"showlegend\":false,\"textposition\":\"auto\",\"x\":[1,0,2,3],\"xaxis\":\"x\",\"y\":[1.0210181648086067,1.028965308795379,0.9642977244703509,0.966183574879227],\"yaxis\":\"y\",\"type\":\"bar\"}],                        {\"template\":{\"data\":{\"histogram2dcontour\":[{\"type\":\"histogram2dcontour\",\"colorbar\":{\"outlinewidth\":0,\"ticks\":\"\"},\"colorscale\":[[0.0,\"#0d0887\"],[0.1111111111111111,\"#46039f\"],[0.2222222222222222,\"#7201a8\"],[0.3333333333333333,\"#9c179e\"],[0.4444444444444444,\"#bd3786\"],[0.5555555555555556,\"#d8576b\"],[0.6666666666666666,\"#ed7953\"],[0.7777777777777778,\"#fb9f3a\"],[0.8888888888888888,\"#fdca26\"],[1.0,\"#f0f921\"]]}],\"choropleth\":[{\"type\":\"choropleth\",\"colorbar\":{\"outlinewidth\":0,\"ticks\":\"\"}}],\"histogram2d\":[{\"type\":\"histogram2d\",\"colorbar\":{\"outlinewidth\":0,\"ticks\":\"\"},\"colorscale\":[[0.0,\"#0d0887\"],[0.1111111111111111,\"#46039f\"],[0.2222222222222222,\"#7201a8\"],[0.3333333333333333,\"#9c179e\"],[0.4444444444444444,\"#bd3786\"],[0.5555555555555556,\"#d8576b\"],[0.6666666666666666,\"#ed7953\"],[0.7777777777777778,\"#fb9f3a\"],[0.8888888888888888,\"#fdca26\"],[1.0,\"#f0f921\"]]}],\"heatmap\":[{\"type\":\"heatmap\",\"colorbar\":{\"outlinewidth\":0,\"ticks\":\"\"},\"colorscale\":[[0.0,\"#0d0887\"],[0.1111111111111111,\"#46039f\"],[0.2222222222222222,\"#7201a8\"],[0.3333333333333333,\"#9c179e\"],[0.4444444444444444,\"#bd3786\"],[0.5555555555555556,\"#d8576b\"],[0.6666666666666666,\"#ed7953\"],[0.7777777777777778,\"#fb9f3a\"],[0.8888888888888888,\"#fdca26\"],[1.0,\"#f0f921\"]]}],\"heatmapgl\":[{\"type\":\"heatmapgl\",\"colorbar\":{\"outlinewidth\":0,\"ticks\":\"\"},\"colorscale\":[[0.0,\"#0d0887\"],[0.1111111111111111,\"#46039f\"],[0.2222222222222222,\"#7201a8\"],[0.3333333333333333,\"#9c179e\"],[0.4444444444444444,\"#bd3786\"],[0.5555555555555556,\"#d8576b\"],[0.6666666666666666,\"#ed7953\"],[0.7777777777777778,\"#fb9f3a\"],[0.8888888888888888,\"#fdca26\"],[1.0,\"#f0f921\"]]}],\"contourcarpet\":[{\"type\":\"contourcarpet\",\"colorbar\":{\"outlinewidth\":0,\"ticks\":\"\"}}],\"contour\":[{\"type\":\"contour\",\"colorbar\":{\"outlinewidth\":0,\"ticks\":\"\"},\"colorscale\":[[0.0,\"#0d0887\"],[0.1111111111111111,\"#46039f\"],[0.2222222222222222,\"#7201a8\"],[0.3333333333333333,\"#9c179e\"],[0.4444444444444444,\"#bd3786\"],[0.5555555555555556,\"#d8576b\"],[0.6666666666666666,\"#ed7953\"],[0.7777777777777778,\"#fb9f3a\"],[0.8888888888888888,\"#fdca26\"],[1.0,\"#f0f921\"]]}],\"surface\":[{\"type\":\"surface\",\"colorbar\":{\"outlinewidth\":0,\"ticks\":\"\"},\"colorscale\":[[0.0,\"#0d0887\"],[0.1111111111111111,\"#46039f\"],[0.2222222222222222,\"#7201a8\"],[0.3333333333333333,\"#9c179e\"],[0.4444444444444444,\"#bd3786\"],[0.5555555555555556,\"#d8576b\"],[0.6666666666666666,\"#ed7953\"],[0.7777777777777778,\"#fb9f3a\"],[0.8888888888888888,\"#fdca26\"],[1.0,\"#f0f921\"]]}],\"mesh3d\":[{\"type\":\"mesh3d\",\"colorbar\":{\"outlinewidth\":0,\"ticks\":\"\"}}],\"scatter\":[{\"fillpattern\":{\"fillmode\":\"overlay\",\"size\":10,\"solidity\":0.2},\"type\":\"scatter\"}],\"parcoords\":[{\"type\":\"parcoords\",\"line\":{\"colorbar\":{\"outlinewidth\":0,\"ticks\":\"\"}}}],\"scatterpolargl\":[{\"type\":\"scatterpolargl\",\"marker\":{\"colorbar\":{\"outlinewidth\":0,\"ticks\":\"\"}}}],\"bar\":[{\"error_x\":{\"color\":\"#2a3f5f\"},\"error_y\":{\"color\":\"#2a3f5f\"},\"marker\":{\"line\":{\"color\":\"#E5ECF6\",\"width\":0.5},\"pattern\":{\"fillmode\":\"overlay\",\"size\":10,\"solidity\":0.2}},\"type\":\"bar\"}],\"scattergeo\":[{\"type\":\"scattergeo\",\"marker\":{\"colorbar\":{\"outlinewidth\":0,\"ticks\":\"\"}}}],\"scatterpolar\":[{\"type\":\"scatterpolar\",\"marker\":{\"colorbar\":{\"outlinewidth\":0,\"ticks\":\"\"}}}],\"histogram\":[{\"marker\":{\"pattern\":{\"fillmode\":\"overlay\",\"size\":10,\"solidity\":0.2}},\"type\":\"histogram\"}],\"scattergl\":[{\"type\":\"scattergl\",\"marker\":{\"colorbar\":{\"outlinewidth\":0,\"ticks\":\"\"}}}],\"scatter3d\":[{\"type\":\"scatter3d\",\"line\":{\"colorbar\":{\"outlinewidth\":0,\"ticks\":\"\"}},\"marker\":{\"colorbar\":{\"outlinewidth\":0,\"ticks\":\"\"}}}],\"scattermapbox\":[{\"type\":\"scattermapbox\",\"marker\":{\"colorbar\":{\"outlinewidth\":0,\"ticks\":\"\"}}}],\"scatterternary\":[{\"type\":\"scatterternary\",\"marker\":{\"colorbar\":{\"outlinewidth\":0,\"ticks\":\"\"}}}],\"scattercarpet\":[{\"type\":\"scattercarpet\",\"marker\":{\"colorbar\":{\"outlinewidth\":0,\"ticks\":\"\"}}}],\"carpet\":[{\"aaxis\":{\"endlinecolor\":\"#2a3f5f\",\"gridcolor\":\"white\",\"linecolor\":\"white\",\"minorgridcolor\":\"white\",\"startlinecolor\":\"#2a3f5f\"},\"baxis\":{\"endlinecolor\":\"#2a3f5f\",\"gridcolor\":\"white\",\"linecolor\":\"white\",\"minorgridcolor\":\"white\",\"startlinecolor\":\"#2a3f5f\"},\"type\":\"carpet\"}],\"table\":[{\"cells\":{\"fill\":{\"color\":\"#EBF0F8\"},\"line\":{\"color\":\"white\"}},\"header\":{\"fill\":{\"color\":\"#C8D4E3\"},\"line\":{\"color\":\"white\"}},\"type\":\"table\"}],\"barpolar\":[{\"marker\":{\"line\":{\"color\":\"#E5ECF6\",\"width\":0.5},\"pattern\":{\"fillmode\":\"overlay\",\"size\":10,\"solidity\":0.2}},\"type\":\"barpolar\"}],\"pie\":[{\"automargin\":true,\"type\":\"pie\"}]},\"layout\":{\"autotypenumbers\":\"strict\",\"colorway\":[\"#636efa\",\"#EF553B\",\"#00cc96\",\"#ab63fa\",\"#FFA15A\",\"#19d3f3\",\"#FF6692\",\"#B6E880\",\"#FF97FF\",\"#FECB52\"],\"font\":{\"color\":\"#2a3f5f\"},\"hovermode\":\"closest\",\"hoverlabel\":{\"align\":\"left\"},\"paper_bgcolor\":\"white\",\"plot_bgcolor\":\"#E5ECF6\",\"polar\":{\"bgcolor\":\"#E5ECF6\",\"angularaxis\":{\"gridcolor\":\"white\",\"linecolor\":\"white\",\"ticks\":\"\"},\"radialaxis\":{\"gridcolor\":\"white\",\"linecolor\":\"white\",\"ticks\":\"\"}},\"ternary\":{\"bgcolor\":\"#E5ECF6\",\"aaxis\":{\"gridcolor\":\"white\",\"linecolor\":\"white\",\"ticks\":\"\"},\"baxis\":{\"gridcolor\":\"white\",\"linecolor\":\"white\",\"ticks\":\"\"},\"caxis\":{\"gridcolor\":\"white\",\"linecolor\":\"white\",\"ticks\":\"\"}},\"coloraxis\":{\"colorbar\":{\"outlinewidth\":0,\"ticks\":\"\"}},\"colorscale\":{\"sequential\":[[0.0,\"#0d0887\"],[0.1111111111111111,\"#46039f\"],[0.2222222222222222,\"#7201a8\"],[0.3333333333333333,\"#9c179e\"],[0.4444444444444444,\"#bd3786\"],[0.5555555555555556,\"#d8576b\"],[0.6666666666666666,\"#ed7953\"],[0.7777777777777778,\"#fb9f3a\"],[0.8888888888888888,\"#fdca26\"],[1.0,\"#f0f921\"]],\"sequentialminus\":[[0.0,\"#0d0887\"],[0.1111111111111111,\"#46039f\"],[0.2222222222222222,\"#7201a8\"],[0.3333333333333333,\"#9c179e\"],[0.4444444444444444,\"#bd3786\"],[0.5555555555555556,\"#d8576b\"],[0.6666666666666666,\"#ed7953\"],[0.7777777777777778,\"#fb9f3a\"],[0.8888888888888888,\"#fdca26\"],[1.0,\"#f0f921\"]],\"diverging\":[[0,\"#8e0152\"],[0.1,\"#c51b7d\"],[0.2,\"#de77ae\"],[0.3,\"#f1b6da\"],[0.4,\"#fde0ef\"],[0.5,\"#f7f7f7\"],[0.6,\"#e6f5d0\"],[0.7,\"#b8e186\"],[0.8,\"#7fbc41\"],[0.9,\"#4d9221\"],[1,\"#276419\"]]},\"xaxis\":{\"gridcolor\":\"white\",\"linecolor\":\"white\",\"ticks\":\"\",\"title\":{\"standoff\":15},\"zerolinecolor\":\"white\",\"automargin\":true,\"zerolinewidth\":2},\"yaxis\":{\"gridcolor\":\"white\",\"linecolor\":\"white\",\"ticks\":\"\",\"title\":{\"standoff\":15},\"zerolinecolor\":\"white\",\"automargin\":true,\"zerolinewidth\":2},\"scene\":{\"xaxis\":{\"backgroundcolor\":\"#E5ECF6\",\"gridcolor\":\"white\",\"linecolor\":\"white\",\"showbackground\":true,\"ticks\":\"\",\"zerolinecolor\":\"white\",\"gridwidth\":2},\"yaxis\":{\"backgroundcolor\":\"#E5ECF6\",\"gridcolor\":\"white\",\"linecolor\":\"white\",\"showbackground\":true,\"ticks\":\"\",\"zerolinecolor\":\"white\",\"gridwidth\":2},\"zaxis\":{\"backgroundcolor\":\"#E5ECF6\",\"gridcolor\":\"white\",\"linecolor\":\"white\",\"showbackground\":true,\"ticks\":\"\",\"zerolinecolor\":\"white\",\"gridwidth\":2}},\"shapedefaults\":{\"line\":{\"color\":\"#2a3f5f\"}},\"annotationdefaults\":{\"arrowcolor\":\"#2a3f5f\",\"arrowhead\":0,\"arrowwidth\":1},\"geo\":{\"bgcolor\":\"white\",\"landcolor\":\"#E5ECF6\",\"subunitcolor\":\"white\",\"showland\":true,\"showlakes\":true,\"lakecolor\":\"white\"},\"title\":{\"x\":0.05},\"mapbox\":{\"style\":\"light\"}}},\"xaxis\":{\"anchor\":\"y\",\"domain\":[0.0,1.0],\"title\":{\"text\":\"Community\"}},\"yaxis\":{\"anchor\":\"x\",\"domain\":[0.0,1.0],\"title\":{\"text\":\"Start/End Ratio\"}},\"legend\":{\"tracegroupgap\":0},\"title\":{\"text\":\"Start/End Ratio by Community\"},\"barmode\":\"relative\"},                        {\"responsive\": true}                    ).then(function(){\n",
       "                            \n",
       "var gd = document.getElementById('fd99ca04-a142-4b2e-8524-b1ca569d27d5');\n",
       "var x = new MutationObserver(function (mutations, observer) {{\n",
       "        var display = window.getComputedStyle(gd).display;\n",
       "        if (!display || display === 'none') {{\n",
       "            console.log([gd, 'removed!']);\n",
       "            Plotly.purge(gd);\n",
       "            observer.disconnect();\n",
       "        }}\n",
       "}});\n",
       "\n",
       "// Listen for the removal of the full notebook cells\n",
       "var notebookContainer = gd.closest('#notebook-container');\n",
       "if (notebookContainer) {{\n",
       "    x.observe(notebookContainer, {childList: true});\n",
       "}}\n",
       "\n",
       "// Listen for the clearing of the current output cell\n",
       "var outputEl = gd.closest('.output');\n",
       "if (outputEl) {{\n",
       "    x.observe(outputEl, {childList: true});\n",
       "}}\n",
       "\n",
       "                        })                };                });            </script>        </div>"
      ]
     },
     "metadata": {},
     "output_type": "display_data"
    }
   ],
   "source": [
    "import plotly.express as px\n",
    "import pandas as pd\n",
    "\n",
    "file_path = 'station_trip_counts_with_communities.csv'\n",
    "df = pd.read_csv(file_path)\n",
    "# Create a bar plot for total trips by community\n",
    "fig = px.bar(\n",
    "    community_trip_counts_sorted,\n",
    "    x='Community', \n",
    "    y='Total Trips',\n",
    "    title='Total Trips by Community',\n",
    "    labels={'Community': 'Community', 'Total Trips': 'Total Trips'},\n",
    "    hover_data={'Start Count': True, 'End Count': True, 'Start/End': True}\n",
    ")\n",
    "fig.show()\n",
    "\n",
    "# Create a bar plot for Start/End ratio by community\n",
    "fig = px.bar(\n",
    "    community_trip_counts_sorted,\n",
    "    x='Community',\n",
    "    y='Start/End',\n",
    "    title='Start/End Ratio by Community',\n",
    "    labels={'Community': 'Community', 'Start/End': 'Start/End Ratio'},\n",
    "    hover_data={'Start Count': True, 'End Count': True, 'Total Trips': True}\n",
    ")\n",
    "fig.show()\n"
   ]
  },
  {
   "cell_type": "code",
   "execution_count": 36,
   "id": "d9f2e2a2-d8a3-45b2-a536-4f240d17cbd1",
   "metadata": {
    "tags": []
   },
   "outputs": [
    {
     "name": "stdout",
     "output_type": "stream",
     "text": [
      "Community_end        0      1      2      3\n",
      "Community_start                            \n",
      "0                34559  11317   7050   8353\n",
      "1                11539  36599  13284   4061\n",
      "2                 6119  12367  27563   5566\n",
      "3                 7337   3852   5629  16382\n"
     ]
    }
   ],
   "source": [
    "df = pd.read_csv('complete_data_with_communities.csv')\n",
    "\n",
    "# Create a pivot table to see trips between communities\n",
    "inter_community_trips = df.pivot_table(\n",
    "    index='Community_start',\n",
    "    columns='Community_end',\n",
    "    values='Number',  # Or use any other metric, like Total Trips\n",
    "    aggfunc='count',\n",
    "    fill_value=0\n",
    ")\n",
    "\n",
    "print(inter_community_trips)\n"
   ]
  },
  {
   "cell_type": "code",
   "execution_count": 37,
   "id": "a74f0149-2c66-4a1b-81bb-4e51fcc8cd64",
   "metadata": {
    "tags": []
   },
   "outputs": [
    {
     "data": {
      "image/png": "[encoded data removed]",
      "text/plain": [
       "<Figure size 1000x800 with 2 Axes>"
      ]
     },
     "metadata": {},
     "output_type": "display_data"
    }
   ],
   "source": [
    "import seaborn as sns\n",
    "import matplotlib.pyplot as plt\n",
    "\n",
    "# Plot a heatmap for the inter-community travel patterns\n",
    "plt.figure(figsize=(10, 8))\n",
    "sns.heatmap(inter_community_trips, annot=True, fmt=\"d\", cmap=\"YlGnBu\")\n",
    "plt.title('Inter-Community Travel Patterns')\n",
    "plt.xlabel('Destination Community')\n",
    "plt.ylabel('Origin Community')\n",
    "plt.show()\n"
   ]
  }
 ],
 "metadata": {
  "kernelspec": {
   "display_name": "Python 3 (ipykernel)",
   "language": "python",
   "name": "python3"
  },
  "language_info": {
   "codemirror_mode": {
    "name": "ipython",
    "version": 3
   },
   "file_extension": ".py",
   "mimetype": "text/x-python",
   "name": "python",
   "nbconvert_exporter": "python",
   "pygments_lexer": "ipython3",
   "version": "3.11.5"
  }
 },
 "nbformat": 4,
 "nbformat_minor": 5
}
